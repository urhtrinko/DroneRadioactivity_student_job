{
 "cells": [
  {
   "cell_type": "markdown",
   "metadata": {},
   "source": [
    "# Imported accesories"
   ]
  },
  {
   "cell_type": "code",
   "execution_count": 75,
   "metadata": {},
   "outputs": [],
   "source": [
    "import numpy as np\n",
    "from vector_class import TripleVector\n",
    "import matplotlib.pyplot as plt\n",
    "import random\n"
   ]
  },
  {
   "cell_type": "markdown",
   "metadata": {},
   "source": [
    "# Parameters"
   ]
  },
  {
   "cell_type": "code",
   "execution_count": 30,
   "metadata": {},
   "outputs": [
    {
     "data": {
      "text/plain": [
       "array([-3., -1.,  1.,  3.])"
      ]
     },
     "execution_count": 30,
     "metadata": {},
     "output_type": "execute_result"
    }
   ],
   "source": [
    "A0 = 100 # Bq\n",
    "Ab = 5 # Bq\n",
    "h = 1 # m\n",
    "D_t = 10 # the pause on each point od the grid in s\n",
    "x_max = 4 # m\n",
    "y_max = 4 # m\n",
    "#grid\n",
    "\n",
    "np.linspace(-3, 3, 4)"
   ]
  },
  {
   "cell_type": "markdown",
   "metadata": {},
   "source": [
    "# Flying over the surface"
   ]
  },
  {
   "cell_type": "code",
   "execution_count": 79,
   "metadata": {},
   "outputs": [],
   "source": [
    "from tokenize import Triple\n",
    "\n",
    "def I(A0, r, D_t):\n",
    "    return (1 / r**2) * A0 * D_t\n",
    "\n",
    "def point_source(x_max, y_max):\n",
    "    return [random.uniform(-x_max, x_max),random.uniform(-y_max, y_max)]\n",
    "\n",
    "def flyOver(A0, Ab, D_t, h, x_max, y_max, square):\n",
    "    if (x_max/square % 2) != 0 or (y_max/square % 2) != 0:\n",
    "        return \"Error: Not valid grid size or division\"\n",
    "    xes = np.linspace(-x_max + square/2, x_max - square/2, int(2*x_max/square))\n",
    "    # grid = np.zeros((1, 2))\n",
    "    source = point_source(x_max, y_max)\n",
    "    intensities = np.zeros((int(2*(x_max/square)), int(2*(y_max/square))))\n",
    "    n, m = int(2*(x_max/square)) - 1, 0\n",
    "    i = 1\n",
    "    y = -y_max + square/2\n",
    "    for x in xes:\n",
    "        while abs(y) <= y_max:\n",
    "            drone = TripleVector(x, y, h)\n",
    "            position = TripleVector(source[0], source[1], 0)\n",
    "            r_vector = drone - position\n",
    "            r = r_vector.magnitude()\n",
    "            # print(n)\n",
    "            # row = np.array((x, y, I(A0, r, D_t)))\n",
    "            intensities[n, m] = I(A0, r, D_t)\n",
    "            # print(intensities)\n",
    "            # grid = np.vstack((grid, np.array((x, y))))\n",
    "            y += (square)*i\n",
    "\n",
    "            n -= 1*i\n",
    "        n += 1*i\n",
    "        i = i * (-1)\n",
    "        y += (square)*i\n",
    "        m += 1\n",
    "\n",
    "    return [intensities[:, :], source]\n",
    "\n",
    "# source, A0, Ab, D_t, h, x_max, y_max, square\n",
    "measurement = flyOver(100, 5, 10, 6, 4, 4, 1) \n"
   ]
  },
  {
   "cell_type": "markdown",
   "metadata": {},
   "source": [
    "## Visualization"
   ]
  },
  {
   "cell_type": "code",
   "execution_count": 74,
   "metadata": {},
   "outputs": [
    {
     "data": {
      "image/png": "[encoded data removed]",
      "text/plain": [
       "<Figure size 432x288 with 1 Axes>"
      ]
     },
     "metadata": {
      "needs_background": "light"
     },
     "output_type": "display_data"
    }
   ],
   "source": [
    "def visualize(measurement, x_max, y_max):\n",
    "    \n",
    "    plt.imshow(measurement[0], extent=[-x_max,x_max,-y_max,y_max], aspect=\"auto\")\n",
    "    # X, Y = measurement[1][0], measurement[1][1]\n",
    "    plt.plot(X, Y, \"o\", color = 'r', label = \"Point source\")\n",
    "\n",
    "    plt.xlabel(\"X axis [m]\", fontsize = 15)\n",
    "    plt.xticks(fontsize = 15)\n",
    "    plt.ylabel(\"Y axis [m]\", fontsize = 15)\n",
    "    plt.yticks(fontsize = 15)\n",
    "\n",
    "   \n",
    "    plt.legend(fontsize = 15)\n",
    "    #plt.grid()\n",
    "\n",
    "    plt.tight_layout()\n",
    "    #plt.savefig(\"\")\n",
    "    plt.show()\n",
    "\n",
    "visualize(measurement, x_max, y_max)\n"
   ]
  },
  {
   "cell_type": "code",
   "execution_count": null,
   "metadata": {},
   "outputs": [],
   "source": []
  },
  {
   "cell_type": "markdown",
   "metadata": {},
   "source": []
  },
  {
   "cell_type": "code",
   "execution_count": null,
   "metadata": {},
   "outputs": [],
   "source": []
  },
  {
   "cell_type": "code",
   "execution_count": null,
   "metadata": {},
   "outputs": [],
   "source": []
  },
  {
   "cell_type": "code",
   "execution_count": null,
   "metadata": {},
   "outputs": [],
   "source": []
  },
  {
   "cell_type": "code",
   "execution_count": null,
   "metadata": {},
   "outputs": [],
   "source": []
  }
 ],
 "metadata": {
  "kernelspec": {
   "display_name": "Python 3.8.10 64-bit (microsoft store)",
   "language": "python",
   "name": "python3"
  },
  "language_info": {
   "codemirror_mode": {
    "name": "ipython",
    "version": 3
   },
   "file_extension": ".py",
   "mimetype": "text/x-python",
   "name": "python",
   "nbconvert_exporter": "python",
   "pygments_lexer": "ipython3",
   "version": "3.8.10"
  },
  "orig_nbformat": 4,
  "vscode": {
   "interpreter": {
    "hash": "85ad50d9bc146c85f3fc0e59d0a5f568038cb42bd91391f1b19a754b908c4ffe"
   }
  }
 },
 "nbformat": 4,
 "nbformat_minor": 2
}
