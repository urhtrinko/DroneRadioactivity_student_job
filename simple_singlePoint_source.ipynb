{
 "cells": [
  {
   "cell_type": "markdown",
   "metadata": {},
   "source": [
    "# Imported accesories"
   ]
  },
  {
   "cell_type": "code",
   "execution_count": 168,
   "metadata": {},
   "outputs": [],
   "source": [
    "import numpy as np\n",
    "from vector_class import TripleVector\n",
    "import matplotlib.pyplot as plt\n",
    "import random\n",
    "import sys\n"
   ]
  },
  {
   "cell_type": "markdown",
   "metadata": {},
   "source": [
    "# Parameters"
   ]
  },
  {
   "cell_type": "code",
   "execution_count": 213,
   "metadata": {},
   "outputs": [],
   "source": [
    "A0 = 100000 # Bq\n",
    "Ab = 50 # Bq\n",
    "h = 10 # m\n",
    "D_t = 100 # the pause on each point od the grid in s\n",
    "x_max = 10 # m\n",
    "y_max = 10 # m\n",
    "grid = [10, 10] # m\n",
    "n_bins = 30\n",
    "\n",
    "radiation = [A0, Ab, D_t]\n",
    "detector = [h, x_max, y_max, grid]\n"
   ]
  },
  {
   "cell_type": "markdown",
   "metadata": {},
   "source": [
    "# Flying over the surface"
   ]
  },
  {
   "cell_type": "code",
   "execution_count": 201,
   "metadata": {},
   "outputs": [],
   "source": [
    "def I(A0, r, D_t):\n",
    "    return (1 / (r + 1)**2) * A0 * D_t\n",
    "\n",
    "def point_source(x_max, y_max):\n",
    "    return [random.uniform(-x_max, x_max),random.uniform(-y_max, y_max)]\n",
    "\n",
    "def flyOver(radiation, detector): # grid is a list which tells the number of tiles for x and y\n",
    "    A0, Ab, D_t = radiation[0], radiation[1], radiation[2]\n",
    "    h, x_max, y_max, grid = detector[0], detector[1], detector[2], detector[3]\n",
    "    N_x, N_y = grid[0], grid[1]\n",
    "    square_x, square_y = (2*x_max)/N_x, (2*y_max)/N_y \n",
    "    xes = np.linspace(-x_max + square_x/2, x_max - square_x/2, int(N_x))\n",
    "    source = point_source(x_max, y_max)\n",
    "    intensities = np.zeros((int(N_x), int(N_y)))\n",
    "    intensities_list = []\n",
    "    grid_x, grid_y = np.zeros((int(N_x), int(N_y))), np.zeros((int(N_x), int(N_y)))\n",
    "    n, m = N_x - 1, 0\n",
    "    y = -y_max + square_y/2\n",
    "    i = 1\n",
    "    for x in xes:\n",
    "        while abs(y) <= y_max:\n",
    "            drone = TripleVector(x, y, h)\n",
    "            position = TripleVector(source[0], source[1], 0)\n",
    "            r_vector = drone - position\n",
    "            r = r_vector.magnitude()\n",
    "            intensity = I(A0, r, D_t)\n",
    "            if Ab*D_t > intensity:\n",
    "                intensities[n, m] = 0\n",
    "            else:\n",
    "                intensities[n, m] = intensity - Ab*D_t\n",
    "                intensities_list.append(intensity - Ab*D_t)\n",
    "            grid_x[n, m], grid_y[n, m] = x, y\n",
    "            y += (square_y)*i\n",
    "            n -= 1*i\n",
    "        n += 1*i\n",
    "        i = i * (-1)\n",
    "        y += (square_y)*i\n",
    "        m += 1\n",
    "\n",
    "    return [intensities, source, intensities_list, grid_x, grid_y]\n",
    "\n",
    "#  A0, Ab, D_t, h, x_max, y_max, square\n",
    "measurement = flyOver(radiation, detector)\n",
    "\n",
    "# print(measurement[0])\n",
    "\n"
   ]
  },
  {
   "cell_type": "markdown",
   "metadata": {},
   "source": [
    "# Location from measurement"
   ]
  },
  {
   "cell_type": "code",
   "execution_count": 202,
   "metadata": {},
   "outputs": [],
   "source": [
    "def close_numbers(measurement, n_bins):\n",
    "    edge2, edge1 = np.max(measurement[0]), np.min(measurement[0])\n",
    "    ran = np.linspace(edge1, edge2, n_bins)\n",
    "    histogram = np.histogram(measurement[2], ran)\n",
    "    if max(histogram[0]) <= 2:\n",
    "        sys.exit(\"Error to many bins - all of them contain less than three points.\")\n",
    "    i = list(histogram[0]).index(max(histogram[0]))\n",
    "    Range = histogram[1][i:(i+2)]\n",
    "    n, m = measurement[0].shape\n",
    "    X, Y = [], []\n",
    "    for i in range(n):\n",
    "        for j in range(m):\n",
    "            if (Range[0] <= measurement[0][i, j] and measurement[0][i, j] <= Range[1]):\n",
    "                X.append(measurement[3][i, j])\n",
    "                Y.append(measurement[4][i, j])\n",
    "    points = [np.array(X), np.array(Y)]\n",
    "    return points\n",
    "\n",
    "def circle_center(x, y, w=[]):\n",
    "    A = np.array([x, y, np.ones(len(x))]).T\n",
    "    b = x**2 + y**2\n",
    "    \n",
    "    # Modify A,b for weighted least squares\n",
    "    if len(w) == len(x):\n",
    "        W = np.diag(w)\n",
    "        A = np.dot(W,A)\n",
    "        b = np.dot(W,b)\n",
    "    \n",
    "    # Solve by method of least squares\n",
    "    c = np.linalg.lstsq(A,b,rcond=None)[0]\n",
    "    \n",
    "    # Get circle parameters from solution c\n",
    "    xc = c[0]/2\n",
    "    yc = c[1]/2\n",
    "    r = np.sqrt(c[2] + xc**2 + yc**2)\n",
    "    return [xc, yc, r]\n",
    "\n",
    "points = close_numbers(measurement, 40)\n",
    "circle_values = circle_center(points[0], points[1])"
   ]
  },
  {
   "cell_type": "markdown",
   "metadata": {},
   "source": [
    "# Error calculation"
   ]
  },
  {
   "cell_type": "code",
   "execution_count": 203,
   "metadata": {},
   "outputs": [],
   "source": [
    "def dist_points(point1, point2):\n",
    "    return (point1 - point2).magnitude()\n",
    "\n",
    "def combination(radiation, detector, n_bins):\n",
    "    measurement = flyOver(radiation, detector)\n",
    "    points = close_numbers(measurement, n_bins)\n",
    "    circle_values = circle_center(points[0], points[1])\n",
    "    dr = dist_points(TripleVector(measurement[1][0], measurement[1][1], 0), TripleVector(circle_values[0], circle_values[1], 0))\n",
    "    return [measurement, x_max, y_max, circle_values, dr]\n",
    "\n",
    "\n",
    "# vect1 = TripleVector(1, 2, 1)\n",
    "# vect2 = TripleVector(1, 5, 1)\n",
    "\n",
    "# print(dist_points(vect1, vect2))\n"
   ]
  },
  {
   "cell_type": "markdown",
   "metadata": {},
   "source": [
    "# Visualization"
   ]
  },
  {
   "cell_type": "code",
   "execution_count": 217,
   "metadata": {},
   "outputs": [
    {
     "data": {
      "image/png": "[encoded data removed]",
      "text/plain": [
       "<Figure size 432x288 with 1 Axes>"
      ]
     },
     "metadata": {
      "needs_background": "light"
     },
     "output_type": "display_data"
    }
   ],
   "source": [
    "def visualize(measurement, x_max, y_max, circle_values):\n",
    "    \n",
    "    plt.imshow(measurement[0], extent=[-x_max,x_max,-y_max,y_max], aspect=\"auto\")\n",
    "    # plt.imshow(np.zeros((8, 8)), extent=[-x_max,x_max,-y_max,y_max], aspect=\"auto\")\n",
    "    X, Y = measurement[1][0], measurement[1][1]\n",
    "    plt.plot(X, Y, \"o\", color = 'r', label = \"Original source\")\n",
    "    plt.plot(circle_values[0], circle_values[1], \"o\", color = 'g', label = \"Estimated source\")\n",
    "    # plt.axis(\"equal\")\n",
    "    plt.xlabel(\"X axis [m]\", fontsize = 15)\n",
    "    plt.xticks(fontsize = 15)\n",
    "    plt.ylabel(\"Y axis [m]\", fontsize = 15)\n",
    "    plt.yticks(fontsize = 15)\n",
    "\n",
    "   \n",
    "    plt.legend(fontsize = 15)\n",
    "    #plt.grid()\n",
    "\n",
    "    plt.tight_layout()\n",
    "    # plt.savefig(\"graphics/test.pdf\")\n",
    "    plt.show()\n",
    "\n",
    "\n",
    "data = combination(radiation, detector, n_bins)\n",
    "\n",
    "visualize(data[0], data[1], data[2], data[3])\n",
    "\n"
   ]
  },
  {
   "cell_type": "code",
   "execution_count": 212,
   "metadata": {},
   "outputs": [
    {
     "data": {
      "image/png": "[encoded data removed]",
      "text/plain": [
       "<Figure size 432x288 with 1 Axes>"
      ]
     },
     "metadata": {
      "needs_background": "light"
     },
     "output_type": "display_data"
    },
    {
     "name": "stdout",
     "output_type": "stream",
     "text": [
      "1.8063542785327078\n"
     ]
    }
   ],
   "source": [
    "def gauss_r(radiation, detector, n_bins, n_sim):\n",
    "    R = []\n",
    "    for i in range(n_sim):\n",
    "        dr = combination(radiation, detector, n_bins)[-1]\n",
    "        R.append(dr)\n",
    "    plt.hist(np.array(R), 100)\n",
    "    plt.xlabel(\"r error [m]\", fontsize = 15)\n",
    "    plt.xticks(fontsize = 15)\n",
    "    plt.ylabel(\"number of values\", fontsize = 15)\n",
    "    plt.yticks(fontsize = 15)\n",
    "\n",
    "    #plt.legend(fontsize = 15)\n",
    "    #plt.grid()\n",
    "\n",
    "    plt.tight_layout()\n",
    "    #plt.savefig(\"\")\n",
    "    plt.show()\n",
    "\n",
    "    d_R = np.std(R)\n",
    "\n",
    "    return d_R\n",
    "\n",
    "print(gauss_r(radiation, detector, n_bins, 1000))"
   ]
  },
  {
   "cell_type": "code",
   "execution_count": null,
   "metadata": {},
   "outputs": [],
   "source": []
  },
  {
   "cell_type": "code",
   "execution_count": null,
   "metadata": {},
   "outputs": [],
   "source": []
  },
  {
   "cell_type": "code",
   "execution_count": null,
   "metadata": {},
   "outputs": [],
   "source": []
  },
  {
   "cell_type": "code",
   "execution_count": null,
   "metadata": {},
   "outputs": [],
   "source": []
  }
 ],
 "metadata": {
  "kernelspec": {
   "display_name": "Python 3.8.10 64-bit (microsoft store)",
   "language": "python",
   "name": "python3"
  },
  "language_info": {
   "codemirror_mode": {
    "name": "ipython",
    "version": 3
   },
   "file_extension": ".py",
   "mimetype": "text/x-python",
   "name": "python",
   "nbconvert_exporter": "python",
   "pygments_lexer": "ipython3",
   "version": "3.8.10"
  },
  "orig_nbformat": 4,
  "vscode": {
   "interpreter": {
    "hash": "85ad50d9bc146c85f3fc0e59d0a5f568038cb42bd91391f1b19a754b908c4ffe"
   }
  }
 },
 "nbformat": 4,
 "nbformat_minor": 2
}
