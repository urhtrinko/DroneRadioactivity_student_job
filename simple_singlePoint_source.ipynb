{
 "cells": [
  {
   "cell_type": "code",
   "execution_count": 38,
   "metadata": {},
   "outputs": [],
   "source": [
    "import numpy as np\n",
    "from vector_class import TripleVector\n",
    "import matplotlib.pyplot as plt\n"
   ]
  },
  {
   "cell_type": "markdown",
   "metadata": {},
   "source": [
    "# Parameters"
   ]
  },
  {
   "cell_type": "code",
   "execution_count": 32,
   "metadata": {},
   "outputs": [
    {
     "data": {
      "text/plain": [
       "array([-3., -1.,  1.,  3.])"
      ]
     },
     "execution_count": 32,
     "metadata": {},
     "output_type": "execute_result"
    }
   ],
   "source": [
    "A0 = 100 # Bq\n",
    "Ab = 5 # Bq\n",
    "h = 10 # m\n",
    "D_t = 10 # the pause on each point od the grid in s\n",
    "x_max = 10 # m\n",
    "y_max = 10 # m\n",
    "\n",
    "np.linspace(-3, 3, 4)"
   ]
  },
  {
   "cell_type": "markdown",
   "metadata": {},
   "source": [
    "# Flying over the surface"
   ]
  },
  {
   "cell_type": "code",
   "execution_count": null,
   "metadata": {},
   "outputs": [],
   "source": [
    "from tokenize import Triple\n",
    "\n",
    "def I(A0, r, D_t):\n",
    "    return (1 / r**2) * A0 * D_t\n",
    "\n",
    "def flyOver(source, A0, Ab, D_t, h, x_max, y_max, square):\n",
    "    if (x_max/square % 2) != 0 or (y_max/square % 2) != 0:\n",
    "        return \"Error: Not valid grid size or division\"\n",
    "    xes = np.linspace(-x_max + square/2, x_max - square/2, int(2*x_max/square))\n",
    "    grid = np.zeros((1, 2))\n",
    "    intensities = np.zeros((1, 3))\n",
    "    i = 1\n",
    "    y = -3.5\n",
    "    for x in xes:\n",
    "        while abs(y) <= y_max:\n",
    "            drone = TripleVector(x, y, h)\n",
    "            position = TripleVector(source[0], source[1], 0)\n",
    "            r_vector = drone - position\n",
    "            r = r_vector.magnitude()\n",
    "            row = np.array((x, y, I(A0, r, D_t)))\n",
    "            intensities = np.vstack((intensities, row))\n",
    "            grid = np.vstack((grid, np.array((x, y))))\n",
    "            y += (square)*i\n",
    "        i = i * (-1)\n",
    "        y += (square)*i \n",
    "    return intensities[1:, :]\n",
    "\n",
    "\n",
    "flyOver([1.1, 0.5], A0, Ab, D_t, h, 4, 4, 1)\n"
   ]
  },
  {
   "cell_type": "markdown",
   "metadata": {},
   "source": [
    "## Visualization"
   ]
  },
  {
   "cell_type": "code",
   "execution_count": null,
   "metadata": {},
   "outputs": [],
   "source": []
  },
  {
   "cell_type": "code",
   "execution_count": 41,
   "metadata": {},
   "outputs": [
    {
     "data": {
      "image/png": "[encoded data removed]",
      "text/plain": [
       "<Figure size 432x288 with 2 Axes>"
      ]
     },
     "metadata": {
      "needs_background": "light"
     },
     "output_type": "display_data"
    },
    {
     "data": {
      "text/plain": [
       "array([[0.23303532, 0.18962555, 0.16796914, 0.40024041, 0.90535818,\n",
       "        0.93366229, 0.51047011, 0.83735847, 0.26260818, 0.98222066],\n",
       "       [0.44946774, 0.30882571, 0.53362097, 0.30833827, 0.15707439,\n",
       "        0.32359922, 0.28012596, 0.4538513 , 0.11203548, 0.30061166],\n",
       "       [0.45599665, 0.95281179, 0.03428392, 0.77091969, 0.54570466,\n",
       "        0.79469747, 0.24921058, 0.71180168, 0.39624318, 0.68340873],\n",
       "       [0.64034023, 0.1327663 , 0.17008387, 0.31960364, 0.29631869,\n",
       "        0.78935362, 0.57818858, 0.0710189 , 0.44115819, 0.01020514],\n",
       "       [0.16527809, 0.2256937 , 0.2592289 , 0.91840023, 0.24455477,\n",
       "        0.79161343, 0.36045393, 0.28349084, 0.43155482, 0.31066127],\n",
       "       [0.04748259, 0.32540373, 0.14479455, 0.37062884, 0.11905714,\n",
       "        0.06760735, 0.04089872, 0.12944149, 0.57637557, 0.2757683 ]])"
      ]
     },
     "execution_count": 41,
     "metadata": {},
     "output_type": "execute_result"
    }
   ],
   "source": [
    "Z = np.random.rand(6, 10)\n",
    "\n",
    "\n",
    "plt.pcolor(grid, Z)\n",
    "\n",
    "plt.show()\n",
    "\n",
    "Z\n"
   ]
  },
  {
   "cell_type": "code",
   "execution_count": null,
   "metadata": {},
   "outputs": [],
   "source": []
  }
 ],
 "metadata": {
  "kernelspec": {
   "display_name": "Python 3.8.10 64-bit (microsoft store)",
   "language": "python",
   "name": "python3"
  },
  "language_info": {
   "codemirror_mode": {
    "name": "ipython",
    "version": 3
   },
   "file_extension": ".py",
   "mimetype": "text/x-python",
   "name": "python",
   "nbconvert_exporter": "python",
   "pygments_lexer": "ipython3",
   "version": "3.8.10"
  },
  "orig_nbformat": 4,
  "vscode": {
   "interpreter": {
    "hash": "85ad50d9bc146c85f3fc0e59d0a5f568038cb42bd91391f1b19a754b908c4ffe"
   }
  }
 },
 "nbformat": 4,
 "nbformat_minor": 2
}
