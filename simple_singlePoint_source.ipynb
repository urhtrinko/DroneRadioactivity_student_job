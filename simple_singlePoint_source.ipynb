{
 "cells": [
  {
   "cell_type": "markdown",
   "metadata": {},
   "source": [
    "# Imported accesories"
   ]
  },
  {
   "cell_type": "code",
   "execution_count": 150,
   "metadata": {},
   "outputs": [],
   "source": [
    "import numpy as np\n",
    "from vector_class import TripleVector\n",
    "import matplotlib.pyplot as plt\n",
    "import random\n"
   ]
  },
  {
   "cell_type": "markdown",
   "metadata": {},
   "source": [
    "# Parameters"
   ]
  },
  {
   "cell_type": "code",
   "execution_count": 30,
   "metadata": {},
   "outputs": [
    {
     "data": {
      "text/plain": [
       "array([-3., -1.,  1.,  3.])"
      ]
     },
     "execution_count": 30,
     "metadata": {},
     "output_type": "execute_result"
    }
   ],
   "source": [
    "A0 = 100 # Bq\n",
    "Ab = 5 # Bq\n",
    "h = 1 # m\n",
    "D_t = 10 # the pause on each point od the grid in s\n",
    "x_max = 4 # m\n",
    "y_max = 4 # m\n",
    "#grid\n",
    "\n",
    "np.linspace(-3, 3, 4)"
   ]
  },
  {
   "cell_type": "markdown",
   "metadata": {},
   "source": [
    "# Flying over the surface"
   ]
  },
  {
   "cell_type": "code",
   "execution_count": 167,
   "metadata": {},
   "outputs": [],
   "source": [
    "from tokenize import Triple\n",
    "\n",
    "def I(A0, r, D_t):\n",
    "    return (1 / (r + 1)**2) * A0 * D_t\n",
    "\n",
    "def point_source(x_max, y_max):\n",
    "    return [random.uniform(-x_max, x_max),random.uniform(-y_max, y_max)]\n",
    "\n",
    "def flyOver(A0, Ab, D_t, h, x_max, y_max, square):\n",
    "    if (x_max/square % 2) != 0 or (y_max/square % 2) != 0:\n",
    "        return \"Error: Not valid grid size or division\"\n",
    "    xes = np.linspace(-x_max + square/2, x_max - square/2, int(2*x_max/square))\n",
    "    source = point_source(x_max, y_max)\n",
    "    intensities = np.zeros((int(2*(x_max/square)), int(2*(y_max/square))))\n",
    "    intensities_list = []\n",
    "    grid_x, grid_y = np.zeros((int(2*(x_max/square)), int(2*(y_max/square)))), np.zeros((int(2*(x_max/square)), int(2*(y_max/square))))\n",
    "    n, m = int(2*(x_max/square)) - 1, 0\n",
    "    i = 1\n",
    "    y = -y_max + square/2\n",
    "    for x in xes:\n",
    "        while abs(y) <= y_max:\n",
    "            drone = TripleVector(x, y, h)\n",
    "            position = TripleVector(source[0], source[1], 0)\n",
    "            r_vector = drone - position\n",
    "            r = r_vector.magnitude()\n",
    "            intensity = I(A0, r, D_t)\n",
    "            if Ab*D_t > intensity:\n",
    "                return \"Backround signal to strong\"\n",
    "            intensities[n, m] = intensity\n",
    "            intensities_list.append(intensity)\n",
    "            grid_x[n, m], grid_y[n, m] = x, y\n",
    "            # print(intensities)\n",
    "            # grid = np.vstack((grid, np.array((x, y))))\n",
    "            y += (square)*i\n",
    "\n",
    "            n -= 1*i\n",
    "        n += 1*i\n",
    "        i = i * (-1)\n",
    "        y += (square)*i\n",
    "        m += 1\n",
    "\n",
    "    return [intensities[:, :], source, intensities_list, grid_x, grid_y]\n",
    "\n",
    "# source, A0, Ab, D_t, h, x_max, y_max, square\n",
    "measurement = flyOver(1000, 5, 10, 6, 4, 4, 1)\n",
    "\n",
    "# print(measurement)\n",
    "\n"
   ]
  },
  {
   "cell_type": "code",
   "execution_count": null,
   "metadata": {},
   "outputs": [],
   "source": [
    "# "
   ]
  },
  {
   "cell_type": "code",
   "execution_count": null,
   "metadata": {},
   "outputs": [],
   "source": []
  },
  {
   "cell_type": "markdown",
   "metadata": {},
   "source": [
    "# Location from measurement"
   ]
  },
  {
   "cell_type": "code",
   "execution_count": 171,
   "metadata": {},
   "outputs": [
    {
     "name": "stdout",
     "output_type": "stream",
     "text": [
      "4\n"
     ]
    }
   ],
   "source": [
    "def close_numbers(measurement, n_bins):\n",
    "    edge2, edge1 = np.max(measurement[0]), np.min(measurement[0])\n",
    "    ran = np.linspace(edge1, edge2, n_bins)\n",
    "    histogram = np.histogram(measurement[2], ran)\n",
    "    print(max(histogram[0]))\n",
    "    i = list(histogram[0]).index(max(histogram[0]))\n",
    "    Range = histogram[1][i:(i+2)]\n",
    "    n, m = measurement[0].shape\n",
    "    X, Y = [], []\n",
    "    for i in range(n):\n",
    "        for j in range(m):\n",
    "            if (Range[0] <= measurement[0][i, j] and measurement[0][i, j] <= Range[1]):\n",
    "                X.append(measurement[3][i, j])\n",
    "                Y.append(measurement[4][i, j])\n",
    "    points = [np.array(X), np.array(Y)]\n",
    "    return points\n",
    "\n",
    "def circle_center(x, y, w=[]):\n",
    "    A = np.array([x, y, np.ones(len(x))]).T\n",
    "    b = x**2 + y**2\n",
    "    \n",
    "    # Modify A,b for weighted least squares\n",
    "    if len(w) == len(x):\n",
    "        W = np.diag(w)\n",
    "        A = np.dot(W,A)\n",
    "        b = np.dot(W,b)\n",
    "    \n",
    "    # Solve by method of least squares\n",
    "    c = np.linalg.lstsq(A,b,rcond=None)[0]\n",
    "    \n",
    "    # Get circle parameters from solution c\n",
    "    xc = c[0]/2\n",
    "    yc = c[1]/2\n",
    "    r = np.sqrt(c[2] + xc**2 + yc**2)\n",
    "    return [xc, yc, r]\n",
    "\n",
    "points = close_numbers(measurement, 30)\n",
    "circle_values = circle_center(points[0], points[1])"
   ]
  },
  {
   "cell_type": "markdown",
   "metadata": {},
   "source": [
    "# Visualization"
   ]
  },
  {
   "cell_type": "code",
   "execution_count": 172,
   "metadata": {},
   "outputs": [
    {
     "data": {
      "image/png": "[encoded data removed]",
      "text/plain": [
       "<Figure size 432x288 with 1 Axes>"
      ]
     },
     "metadata": {
      "needs_background": "light"
     },
     "output_type": "display_data"
    }
   ],
   "source": [
    "def visualize(measurement, x_max, y_max, circle_values):\n",
    "    \n",
    "    plt.imshow(measurement[0], extent=[-x_max,x_max,-y_max,y_max], aspect=\"auto\")\n",
    "    X, Y = measurement[1][0], measurement[1][1]\n",
    "    plt.plot(X, Y, \"o\", color = 'r', label = \"Original point source\")\n",
    "    plt.plot(circle_values[0], circle_values[1], \"o\", color = 'g', label = \"Calculated source\")\n",
    "    plt.xlabel(\"X axis [m]\", fontsize = 15)\n",
    "    plt.xticks(fontsize = 15)\n",
    "    plt.ylabel(\"Y axis [m]\", fontsize = 15)\n",
    "    plt.yticks(fontsize = 15)\n",
    "\n",
    "   \n",
    "    plt.legend(fontsize = 15)\n",
    "    #plt.grid()\n",
    "\n",
    "    plt.tight_layout()\n",
    "    #plt.savefig(\"\")\n",
    "    plt.show()\n",
    "\n",
    "visualize(measurement, x_max, y_max, circle_values)\n",
    "\n"
   ]
  },
  {
   "cell_type": "markdown",
   "metadata": {},
   "source": []
  },
  {
   "cell_type": "code",
   "execution_count": null,
   "metadata": {},
   "outputs": [],
   "source": []
  },
  {
   "cell_type": "code",
   "execution_count": null,
   "metadata": {},
   "outputs": [],
   "source": []
  },
  {
   "cell_type": "code",
   "execution_count": null,
   "metadata": {},
   "outputs": [],
   "source": []
  },
  {
   "cell_type": "code",
   "execution_count": null,
   "metadata": {},
   "outputs": [],
   "source": []
  }
 ],
 "metadata": {
  "kernelspec": {
   "display_name": "Python 3.8.10 64-bit (microsoft store)",
   "language": "python",
   "name": "python3"
  },
  "language_info": {
   "codemirror_mode": {
    "name": "ipython",
    "version": 3
   },
   "file_extension": ".py",
   "mimetype": "text/x-python",
   "name": "python",
   "nbconvert_exporter": "python",
   "pygments_lexer": "ipython3",
   "version": "3.8.10"
  },
  "orig_nbformat": 4,
  "vscode": {
   "interpreter": {
    "hash": "85ad50d9bc146c85f3fc0e59d0a5f568038cb42bd91391f1b19a754b908c4ffe"
   }
  }
 },
 "nbformat": 4,
 "nbformat_minor": 2
}
