{
 "cells": [
  {
   "cell_type": "markdown",
   "metadata": {},
   "source": [
    "# Imported accesories"
   ]
  },
  {
   "cell_type": "code",
   "execution_count": 1,
   "metadata": {},
   "outputs": [],
   "source": [
    "import numpy as np\n",
    "from vector_class import TripleVector\n",
    "import matplotlib.pyplot as plt\n",
    "import random\n",
    "import sys\n",
    "from numpy import random\n",
    "\n"
   ]
  },
  {
   "cell_type": "markdown",
   "metadata": {},
   "source": [
    "# Parameters"
   ]
  },
  {
   "cell_type": "code",
   "execution_count": 2,
   "metadata": {},
   "outputs": [],
   "source": [
    "A0 = 1e10 # Bq\n",
    "Ab = 500 # Bq\n",
    "h = 5 # m\n",
    "D_t = 100 # the pause on each point od the grid in s\n",
    "x_max = 4 # m\n",
    "y_max = 4 # m\n",
    "grid = [8, 8] # m\n",
    "n_bins = 20\n",
    "\n",
    "radiation = [A0, Ab, D_t]\n",
    "detector = [h, x_max, y_max, grid]\n",
    "\n"
   ]
  },
  {
   "cell_type": "markdown",
   "metadata": {},
   "source": [
    "# Code"
   ]
  },
  {
   "cell_type": "markdown",
   "metadata": {},
   "source": [
    "## Flying over the surface"
   ]
  },
  {
   "cell_type": "code",
   "execution_count": 3,
   "metadata": {},
   "outputs": [],
   "source": [
    "def I(A0, r, D_t, rk=1):\n",
    "    return (rk**2 / (r + rk)**2) * A0*D_t\n",
    "\n",
    "def r(A0, I, D_t, rk=1):\n",
    "    return rk*(np.sqrt((A0*D_t / I)) - 1)\n",
    "\n",
    "def point_source(x_max, y_max):\n",
    "    return [random.uniform(-x_max, x_max),random.uniform(-y_max, y_max)]\n",
    "\n",
    "def flyOver(radiation, detector, source = []): # grid is a list which tells the number of tiles for x and y\n",
    "    A0, Ab, D_t = radiation[0], radiation[1], radiation[2]\n",
    "    h, x_max, y_max, grid = detector[0], detector[1], detector[2], detector[3]\n",
    "    N_x, N_y = grid[0], grid[1]\n",
    "    square_x, square_y = (2*x_max)/N_x, (2*y_max)/N_y \n",
    "    xes = np.linspace(-x_max + square_x/2, x_max - square_x/2, int(N_x))\n",
    "    if len(source) == 0:\n",
    "        source = point_source(x_max, y_max)\n",
    "    intensities = np.zeros((int(N_x), int(N_y)))\n",
    "    intensities_list = []\n",
    "    grid_x, grid_y = np.zeros((int(N_x), int(N_y))), np.zeros((int(N_x), int(N_y)))\n",
    "    n, m = N_x - 1, 0\n",
    "    y = -y_max + square_y/2\n",
    "    i = 1\n",
    "    max_intensity = {\"number\": [0], \"postion\": [[(0, 0), (0, 0)]]}\n",
    "    for x in xes:\n",
    "        while abs(y) <= y_max:\n",
    "            drone = TripleVector(x, y, h)\n",
    "            position = TripleVector(source[0], source[1], 0)\n",
    "            r_vector = drone - position\n",
    "            r = r_vector.magnitude()\n",
    "            intensity = I(A0, r, D_t)\n",
    "            if Ab*D_t > intensity:\n",
    "                intensities[n, m] = 0\n",
    "            else:\n",
    "                intensities[n, m] = intensity - Ab*D_t\n",
    "                intensities_list.append(intensity - Ab*D_t)\n",
    "            grid_x[n, m], grid_y[n, m] = x, y\n",
    "            if max_intensity[\"number\"][0] < intensity:\n",
    "                max_intensity[\"number\"], max_intensity[\"position\"] = [intensity], [[(x - square_x/2, x + square_x/2), (y - square_y/2, y + square_y/2)]]\n",
    "            elif max_intensity[\"number\"][0] == intensity:\n",
    "                max_intensity[\"position\"] = [max_intensity[\"position\"][0], [(x - square_x/2, x + square_x/2), (y - square_y/2, y + square_y/2)]]\n",
    "            y += (square_y)*i\n",
    "            n -= 1*i\n",
    "        n += 1*i\n",
    "        i = i * (-1)\n",
    "        y += (square_y)*i\n",
    "        m += 1\n",
    "\n",
    "    return {\"intensities_array\": intensities, \"source\": source, \"intensities_list\": intensities_list, \"grid_x\": grid_x, \"grid_y\": grid_y, \"hotspot\": max_intensity[\"position\"], \"square_x\": square_x, \"square_y\": square_y}\n",
    "\n",
    "#  A0, Ab, D_t, h, x_max, y_max, square\n",
    "measurement = flyOver(radiation, detector)\n",
    "\n"
   ]
  },
  {
   "cell_type": "markdown",
   "metadata": {},
   "source": [
    "## Location from measurement"
   ]
  },
  {
   "cell_type": "code",
   "execution_count": 4,
   "metadata": {},
   "outputs": [],
   "source": [
    "def circle_center(x, y, w=[]):\n",
    "    A = np.array([x, y, np.ones(len(x))]).T\n",
    "    b = x**2 + y**2\n",
    "    \n",
    "    # Modify A,b for weighted least squares\n",
    "    if len(w) == len(x):\n",
    "        W = np.diag(w)\n",
    "        A = np.dot(W,A)\n",
    "        b = np.dot(W,b)\n",
    "    \n",
    "    # Solve by method of least squares\n",
    "    c = np.linalg.lstsq(A, b, rcond=None)[0]\n",
    "    S = np.linalg.lstsq(A, b, rcond=None)[1]\n",
    "    \n",
    "    # Get circle parameters from solution c\n",
    "    xc = c[0]/2\n",
    "    yc = c[1]/2\n",
    "    r = np.sqrt(c[2] + xc**2 + yc**2)\n",
    "    return {\"parameters\": [xc, yc, r], \"sum_residuals\": S}\n",
    "\n",
    "\n",
    "def find_source(measurement, radiation, n_bins):\n",
    "    A0, Ab, D_t = radiation[0], radiation[1], radiation[2]\n",
    "    square_x = measurement[\"square_x\"]\n",
    "    square_y = measurement[\"square_y\"]\n",
    "    edge2, edge1 = np.max(measurement[\"intensities_array\"]), np.min(measurement[\"intensities_array\"])\n",
    "    \n",
    "    ran = np.linspace(edge1, edge2, n_bins)\n",
    "    histogram = np.histogram(measurement[\"intensities_list\"], ran) # here the list of intensities becomes useful\n",
    "    if max(histogram[0]) <= 2:\n",
    "        sys.exit(\"Error to many bins - all of them contain less than three points. Reduce the number n_bins!\")\n",
    "    candidates, outsiders= np.zeros((1, 2)), np.zeros((1, 2))\n",
    "    var_can, var_out = [], []\n",
    "    borders = measurement[\"hotspot\"]\n",
    "    for fit_points in histogram[0]:\n",
    "        if fit_points > 2:\n",
    "            i = list(histogram[0]).index(fit_points)\n",
    "            Range = histogram[1][i:(i+2)]\n",
    "            dr = np.abs(r(A0, Range[1], D_t) - r(A0, Range[0], D_t))\n",
    "            n, m = measurement[\"intensities_array\"].shape\n",
    "            X, Y = [], []\n",
    "            for i in range(n):\n",
    "                for j in range(m):\n",
    "                    if (Range[0] <= measurement[\"intensities_array\"][i, j] and measurement[\"intensities_array\"][i, j] <= Range[1]):\n",
    "                        X.append(measurement[\"grid_x\"][i, j])\n",
    "                        Y.append(measurement[\"grid_y\"][i, j])\n",
    "            points = [np.array(X), np.array(Y)]\n",
    "            circle = circle_center(points[0], points[1])\n",
    "            circle_values = circle[\"parameters\"]\n",
    "            S = circle[\"sum_residuals\"]\n",
    "            X_c, Y_c = circle_values[0], circle_values[1]\n",
    "            n, m = len(points[0]), 3\n",
    "            if len(S) != 0:\n",
    "                variance = (S[0]/(n - m))*dr**2\n",
    "            else:\n",
    "                variance = 0\n",
    "            for border in borders: # eliminate the circle centres that are out of the tile \"hotspots\"\n",
    "                if (border[0][0] <= X_c and X_c <= border[0][1]) and (border[1][0] <= Y_c and Y_c <= border[1][1]):\n",
    "                    candidates = np.vstack((candidates, np.array([X_c, Y_c])))\n",
    "                    var_can.append(variance)\n",
    "                else:\n",
    "                    outsiders = np.vstack((outsiders, np.array([X_c, Y_c])))\n",
    "                    var_out.append(variance)\n",
    "\n",
    "    border = borders[0]\n",
    "    while len(candidates[1:, :]) == 0:\n",
    "        border = [(border[0][0] - square_x, border[0][1] + square_x), (border[1][0] - square_y, border[1][1] + square_y)]\n",
    "        for i in range(len(outsiders[1:, :])):\n",
    "            X_c, Y_c = outsiders[i, 0], outsiders[i, 1]\n",
    "            if (border[0][0] <= X_c and X_c <= border[0][1]) and (border[1][0] <= Y_c and Y_c <= border[1][1]):\n",
    "                candidates = np.vstack((candidates, np.array([X_c, Y_c])))\n",
    "                var_can.append(var_out[i])\n",
    "\n",
    "    # print(candidates[1:, :])\n",
    "    # print(var_can)\n",
    "    # print(sum(list(var_can))/len(var_can))\n",
    "\n",
    "    return {\"point_candidates\": candidates[1:, :], \"average_point\": candidates[1:, :].mean(axis=0), \"variance\": (sum(list(var_can))/len(var_can))}\n",
    "\n",
    "points = find_source(measurement, radiation, 40)\n",
    "\n",
    "# print(np.sqrt(points[\"variance\"]))\n",
    "\n",
    "# print(elimination(np.array([[ 0,  1],\n",
    "#        [-0.5, 1.0],\n",
    "#        [10, 11],\n",
    "#        [15, 16]]), [[(-2.0, 2.0), (-3.0, 3.0)]]))\n",
    "\n"
   ]
  },
  {
   "cell_type": "code",
   "execution_count": 5,
   "metadata": {},
   "outputs": [
    {
     "name": "stdout",
     "output_type": "stream",
     "text": [
      "(array([ 1.  , -0.95]), array([0.05]), 2, array([4.10003045, 1.09075677]))\n"
     ]
    }
   ],
   "source": [
    "x = np.array([0, 1, 2, 3])\n",
    "y = np.array([-1, 0.2, 0.9, 2.1])\n",
    "\n",
    "A = np.vstack([x, np.ones(len(x))]).T\n",
    "\n",
    "m, c = np.linalg.lstsq(A, y, rcond=None)[0]\n",
    "\n",
    "print(np.linalg.lstsq(A, y, rcond=None))\n",
    "\n"
   ]
  },
  {
   "cell_type": "markdown",
   "metadata": {},
   "source": [
    "## Combine the measurement and location of the source"
   ]
  },
  {
   "cell_type": "code",
   "execution_count": 6,
   "metadata": {},
   "outputs": [],
   "source": [
    "def dist_points(point1, point2):\n",
    "    return (point1 - point2).magnitude()\n",
    "\n",
    "def combination(radiation, detector, n_bins, source = []):\n",
    "    measurement = flyOver(radiation, detector, source)\n",
    "    points = find_source(measurement, radiation, n_bins)\n",
    "    #dr = dist_points(TripleVector(measurement[1][0], measurement[1][1], 0), TripleVector(circle_values[0], circle_values[1], 0))\n",
    "    # hotspot_tile = measurement[\"hotspot\"]\n",
    "    return {\"measurement\": measurement, \"x_max\": x_max, \"y_max\": y_max, \"find_source\": points, \"standard_deviation\": np.sqrt(points[\"variance\"])} # , hotspot_tile]#, dr]\n",
    "\n"
   ]
  },
  {
   "cell_type": "markdown",
   "metadata": {},
   "source": [
    "## Visualization"
   ]
  },
  {
   "cell_type": "code",
   "execution_count": 7,
   "metadata": {},
   "outputs": [
    {
     "data": {
      "image/png": "[encoded data removed]",
      "text/plain": [
       "<Figure size 720x720 with 2 Axes>"
      ]
     },
     "metadata": {
      "needs_background": "light"
     },
     "output_type": "display_data"
    }
   ],
   "source": [
    "# COMMENT: Purple tiles are the ones where the signal is so weak that you cannot distiguish it from the background radiation\n",
    "\n",
    "def visualize(measurement, x_max, y_max, points):\n",
    "\n",
    "    fig, (ax1, ax2) = plt.subplots(nrows = 2, ncols = 1, figsize = (10, 10))\n",
    "    \n",
    "    ax1.imshow(measurement[\"intensities_array\"], extent=[-x_max,x_max,-y_max,y_max], aspect=\"auto\")\n",
    "    # plt.imshow(np.zeros((8, 8)), extent=[-x_max,x_max,-y_max,y_max], aspect=\"auto\")\n",
    "    X, Y = measurement[\"source\"][0], measurement[\"source\"][1]\n",
    "    ax1.plot(X, Y, \"o\", color = 'r', label = \"Original source\")\n",
    "    ax1.plot(points[\"average_point\"][0], points[\"average_point\"][1], \"o\", color = 'k', label = \"Average from estimated sources\")\n",
    "    ax1.axis(\"equal\")\n",
    "    ax1.set_xlabel(\"X axis [m]\", fontsize = 15)\n",
    "    ax1.set_ylabel(\"Y axis [m]\", fontsize = 15)\n",
    "\n",
    "   \n",
    "    ax1.legend(fontsize = 15)\n",
    "    #plt.grid()\n",
    "\n",
    "    ax2.imshow(measurement[\"intensities_array\"], extent=[-x_max,x_max,-y_max,y_max], aspect=\"auto\")\n",
    "    # plt.imshow(np.zeros((8, 8)), extent=[-x_max,x_max,-y_max,y_max], aspect=\"auto\")\n",
    "    X, Y = measurement[\"source\"][0], measurement[\"source\"][1]\n",
    "    ax2.plot(X, Y, \"o\", color = 'r', label = \"Original source\")\n",
    "    ax2.plot(points[\"point_candidates\"][:, 0], points[\"point_candidates\"][:, 1], \"o\", color = 'g', label = \"Estimated sources\")\n",
    "    ax2.plot(points[\"average_point\"][0], points[\"average_point\"][1], \"o\", color = 'k', label = \"Average from estimated sources\")\n",
    "    ax2.set_xlim(measurement[\"hotspot\"][0][0][0], measurement[\"hotspot\"][0][0][1])\n",
    "    ax2.set_xlabel(\"X axis [m]\", fontsize = 15)\n",
    "    ax2.set_ylim(measurement[\"hotspot\"][0][1][0], measurement[\"hotspot\"][0][1][1])\n",
    "    ax2.set_ylabel(\"Y axis [m]\", fontsize = 15)\n",
    "\n",
    "   \n",
    "    ax2.legend(fontsize = 15)\n",
    "    #plt.grid()\n",
    "    \n",
    "\n",
    "    plt.tight_layout()\n",
    "    # plt.savefig(\"graphics/imporved.jpg\")\n",
    "    plt.show()\n",
    "    # return points[1]\n",
    "\n",
    "\n",
    "data = combination(radiation, detector, n_bins)\n",
    "\n",
    "visualize(data[\"measurement\"], data[\"x_max\"], data[\"y_max\"], data[\"find_source\"])\n",
    "\n",
    "# print(data[0][1])\n",
    "# print(data[4])\n",
    "# data[\"find_source\"][\"average_point\"][0]\n",
    "\n"
   ]
  },
  {
   "cell_type": "markdown",
   "metadata": {},
   "source": [
    "## Error calculation"
   ]
  },
  {
   "cell_type": "markdown",
   "metadata": {},
   "source": [
    "### Standard deviation from multiple simulations"
   ]
  },
  {
   "cell_type": "code",
   "execution_count": 8,
   "metadata": {},
   "outputs": [
    {
     "data": {
      "image/png": "[encoded data removed]",
      "text/plain": [
       "<Figure size 432x288 with 1 Axes>"
      ]
     },
     "metadata": {
      "needs_background": "light"
     },
     "output_type": "display_data"
    },
    {
     "data": {
      "text/plain": [
       "13"
      ]
     },
     "execution_count": 8,
     "metadata": {},
     "output_type": "execute_result"
    }
   ],
   "source": [
    "def dist_points(point1, point2):\n",
    "    return (point1 - point2).magnitude()\n",
    "\n",
    "# run simulation n_sim times and keep track of the distance between the original source and estimated source. Plot a histogram for the values.\n",
    "def stdDev(radiation, detector, n_bins, n_sim):\n",
    "    R = []\n",
    "    for i in range(n_sim):\n",
    "        data = combination(radiation, detector, n_bins)\n",
    "        original = (data[\"measurement\"])[\"source\"]\n",
    "        estimate = (data[\"find_source\"])[\"average_point\"]\n",
    "        R.append(dist_points(TripleVector(original[0], original[1], 0), TripleVector(estimate[0], estimate[1], 0)))\n",
    " \n",
    "    # plt.hist(np.array(R), 100)\n",
    "    # plt.xlabel(\"r error [m]\", fontsize = 15)\n",
    "    # plt.xticks(fontsize = 15)\n",
    "    # plt.ylabel(\"number of values\", fontsize = 15)\n",
    "    # plt.yticks(fontsize = 15)\n",
    "\n",
    "    # #plt.legend(fontsize = 15)\n",
    "    # #plt.grid()\n",
    "\n",
    "    # plt.tight_layout()\n",
    "    # # plt.savefig(\"graphics/dr_hist.jpg\")\n",
    "    # plt.show()\n",
    "\n",
    "    d_R = np.std(R)\n",
    "\n",
    "    return d_R\n",
    "\n",
    "# standar deviation in relation to number of bins used to define the measured intesities histogram\n",
    "def stdDev_to_nBins(radiation, detector, n_bins, n_sim, RangeBins):\n",
    "    min = 0\n",
    "    MyList = []\n",
    "    for bin in RangeBins:\n",
    "        std = stdDev(radiation, detector, int(bin), n_sim)\n",
    "        MyList.append(std)\n",
    "        if min == 0:\n",
    "            min = [bin, std]\n",
    "        elif std < min[-1]:\n",
    "            min = [bin, std]\n",
    "\n",
    "    plt.plot(RangeBins, MyList, \"o\")\n",
    "    plt.xlabel(\"bin\", fontsize = 15)\n",
    "    plt.xticks(fontsize = 15)\n",
    "    plt.ylabel(\"stdev [m]\", fontsize = 15)\n",
    "    plt.yticks(fontsize = 15)\n",
    "\n",
    "    #plt.legend(fontsize = 15)\n",
    "    #plt.grid()\n",
    "\n",
    "    plt.tight_layout()\n",
    "    #plt.savefig(\"\")\n",
    "    plt.show()\n",
    "\n",
    "    return int(min[0])\n",
    "\n",
    "# stdDev(radiation, detector, n_bins, 100)\n",
    "stdDev_to_nBins(radiation, detector, n_bins, 100, [int(n) for n in np.linspace(2, 50, 49)])\n"
   ]
  },
  {
   "cell_type": "markdown",
   "metadata": {},
   "source": [
    "### Calculated standard deviation (room for improvement)(?)"
   ]
  },
  {
   "cell_type": "code",
   "execution_count": 13,
   "metadata": {},
   "outputs": [],
   "source": [
    "# Comparison between the measured and calculated standard deviation\n",
    "def MeaCalComp(radiation, detector, n_sim):\n",
    "    dr_sim = []\n",
    "    dr_cal = []\n",
    "    I = []\n",
    "    for i in range(100):\n",
    "        dr_sim.append(stdDev(radiation, detector, n_bins, n_sim))\n",
    "        dr_cal.append(combination(radiation, detector, n_bins)[\"standard_deviation\"])\n",
    "        I.append(i)\n",
    "    plt.plot(np.array(I), np.array(dr_sim), \"o\", color = \"k\", label = \"From simulations\")\n",
    "    plt.plot(np.array(I), np.array(dr_cal), \"o\", color = \"b\", label = \"From calculations\")\n",
    "    plt.xlabel(\"n of simulation\", fontsize = 15)\n",
    "    plt.xticks(fontsize = 15)\n",
    "    plt.ylabel(\"stdev [m]\", fontsize = 15)\n",
    "    plt.yticks(fontsize = 15)\n",
    "\n",
    "    plt.legend(fontsize = 15)\n",
    "    #plt.grid()\n",
    "\n",
    "    plt.tight_layout()\n",
    "    #plt.savefig(\"\")\n",
    "    plt.show()\n",
    "        \n",
    "# MeaCalComp(radiation, detector, 100)\n",
    "\n",
    "# We can se that the calculated data is all over the place for multiple randomlly generated points odurces. In comparison the data from the \n",
    "# simluated standar deviations devates a little but is much more stabel. I am guessing that there is a mistake in the process of calculation. \n",
    "# I am not sure if I understand the covariance matrix correctly, further work needed here.\n"
   ]
  },
  {
   "cell_type": "markdown",
   "metadata": {},
   "source": [
    "## Analysis"
   ]
  },
  {
   "cell_type": "markdown",
   "metadata": {},
   "source": [
    "### Deviation compared to position of source"
   ]
  },
  {
   "cell_type": "code",
   "execution_count": 10,
   "metadata": {},
   "outputs": [
    {
     "data": {
      "image/png": "[encoded data removed]",
      "text/plain": [
       "<Figure size 432x288 with 2 Axes>"
      ]
     },
     "metadata": {
      "needs_background": "light"
     },
     "output_type": "display_data"
    }
   ],
   "source": [
    "# graf to show how the deviation is affected for different positions of the source\n",
    "\n",
    "# the code will go over every tile but will choose a random position within that tile\n",
    "def DevCompPos(radiation, detector, n_bins):    \n",
    "    x_max, y_max, grid = detector[1], detector[2], detector[3]\n",
    "    N_x, N_y = grid[0], grid[1]\n",
    "    square_x, square_y = (2*x_max)/N_x, (2*y_max)/N_y \n",
    "    xes = np.linspace(-x_max + square_x/2, x_max - square_x/2, int(N_x))\n",
    "    yes = np.linspace(-y_max + square_y/2, y_max + square_y/2, int(N_y))\n",
    "    MyArr = np.ones((N_x, N_y))\n",
    "    for i in range(N_x):\n",
    "        for j in range(N_y):\n",
    "            source = [random.uniform(xes[i] - square_x/2, xes[i] + square_x/2), random.uniform(yes[j] - square_y/2, yes[j] + square_y/2)]\n",
    "            data = combination(radiation, detector, n_bins, source)\n",
    "            estimation = TripleVector((data[\"find_source\"])[\"average_point\"][0], (data[\"find_source\"])[\"average_point\"][1], 0)\n",
    "            original = TripleVector(source[0], source[1], 0)\n",
    "            dr = dist_points(estimation, original)\n",
    "            MyArr[i, j] = dr\n",
    "\n",
    "    \n",
    "\n",
    "\n",
    "    return MyList\n",
    "\n",
    "# print(DevCompPos(radiation, detector, n_bins))\n",
    "\n",
    "np.random.seed(2)\n",
    "\n",
    "## generate a random data set\n",
    "x, y = np.random.randn(2, 30)\n",
    "y *= 100\n",
    "z = 11*x + 3.4*y - 4 + np.random.randn(30) ##the model\n",
    "\n",
    "fig, ax = plt.subplots()\n",
    "scat = ax.scatter(x, y, c=z, s=200, marker='o')\n",
    "fig.colorbar(scat)\n",
    "\n",
    "plt.show()\n",
    "\n"
   ]
  },
  {
   "cell_type": "markdown",
   "metadata": {},
   "source": [
    "# Describtion of the code"
   ]
  },
  {
   "cell_type": "code",
   "execution_count": 14,
   "metadata": {},
   "outputs": [
    {
     "data": {
      "image/png": "[encoded data removed]",
      "text/plain": [
       "<Figure size 720x720 with 2 Axes>"
      ]
     },
     "metadata": {
      "needs_background": "light"
     },
     "output_type": "display_data"
    },
    {
     "name": "stdout",
     "output_type": "stream",
     "text": [
      "0.3520171705087923\n"
     ]
    }
   ],
   "source": [
    "# DESCRIPTION OF THE CODE\n",
    "# 1) flyOver() generates a single point source randomly somwhere on the grid specified by x_max and y_max (if we do not specify a specific \n",
    "# position). The grid is also divided into tiles by the argument grid. The detector \"flys over\" at the hieght h starting in the bottom left \n",
    "# tile and moving upward. When it reaches the upper left tile it moves right for one tile and goes down. This continues for the entire grid.\n",
    "# At each point the detector stops in the center of the tile for D_t and measures the intensity at that tile. This is estimated using the\n",
    "# inverse square law, defined with the function I(). flyover() returns a dictionary in which the first value is a n x m array, where n and m\n",
    "# are the respective values in grid. Each entry in the array contains the intensity which coresponds to the measurement in the tile which has\n",
    "# the position [n, m]. The second dictionary value in the list is the position of the randomly generated point source. The third value is a list\n",
    "# of intensities, which will be useful in further code. The last two values each contain an array of the same dimentions as the one in the first\n",
    "# key of the dictionary. The first one contains the x coordinates of the cenetr of tiles and the second one contains the same data just for the\n",
    "# y coodidinates.\n",
    "\n",
    "# 2) find_Source() uses the data made by flyOver() to estimate the position of the point source. Beside that it takes one more parameter, n_bins. \n",
    "# this is the number of bins that will be used in a histogram made with the list of intensities measured with the detector fly-by. Using the \n",
    "# histogram we can group the intesities which are closely together according to the values. For all of the intensities that fall in the same\n",
    "# bin we gather the point position of the detector. These points must lie on the same circle. We use the the numpay least square method to find \n",
    "# the center of such a circle. This proces is repeated for all of the bins that contain at least three intensities. The possible centers of \n",
    "# circles are then examined further. The ones which are located outside of the tile which has the largest intesity value (\"hotspot\" tile) are \n",
    "# disqualified, but if none of the points are in the \"hotspot\" tile the acceptable area is gradualy increased from the original size until at\n",
    "# at least one point is obtained. From this we then calculate the average position and this is the estimated point source position. The function\n",
    "# returns an N x 2 array which contains the points which are averaged and an array which returns the calculated avarage point.\n",
    "\n",
    "# 3) combination() is just some sunsidary function that combines 1) and 2) in one command. It also returns out the deviation for the estimated \n",
    "# point position.\n",
    "\n",
    "# 4) visualize() uses matplotlib to produce two plots. The one on top shows the input grid where each tile is colored acoording to the\n",
    "# intensity, which was measured there. It also plots the positon of the randomly generated point source (red dot) and the estimated point \n",
    "# source (black dot). However the bottom plot shows only the \"hitspot tile\". It shows the same points as the first plot, but on top of that \n",
    "# also all the center circle points (green dots) which are averaged to get the final sorc position.\n",
    "\n",
    "# 5) The error calculations subtitle contains different functions which I am still working on to determine the error of the estimated point \n",
    "# source. \n",
    "\n",
    "# PARAMETERS\n",
    "A0 = 1e6 # activity of the source in Bq\n",
    "Ab = 500 # background activity in Bq\n",
    "h = 10 # hight at which the detector flies over in m\n",
    "x_max = 5 # Size of the area of flyover in x direction in m\n",
    "y_max = 5 # Size of the area of flyover in y direction in m\n",
    "grid = [10, 10] # Size of the grid in which the area of flyover is divided into smaller \"tiles\" where the detector stops and measures the\n",
    "                # number of radioactive decays. The first number is the number of these areas in x direction and the second is the number in y\n",
    "                # direction, components must be INTEGERS!\n",
    "D_t = 100 # the pause on each point od the grid in s\n",
    "n_bins = 20 # number of bins in the histogram made by find_source()\n",
    "\n",
    "# Combinig the parameters into a list so that the data is more compacted\n",
    "radiation = [A0, Ab, D_t]\n",
    "detector = [h, x_max, y_max, grid]\n",
    "\n",
    "data = combination(radiation, detector, n_bins)\n",
    "\n",
    "visualize(data[\"measurement\"], data[\"x_max\"], data[\"y_max\"], data[\"find_source\"])\n",
    "\n",
    "print(data[\"standard_deviation\"])\n"
   ]
  },
  {
   "cell_type": "code",
   "execution_count": 12,
   "metadata": {},
   "outputs": [
    {
     "name": "stdout",
     "output_type": "stream",
     "text": [
      "-0.7304113500000001\n",
      "-4.904464544999999\n",
      "0.29289321881345254\n",
      "1.1547005383792515\n"
     ]
    }
   ],
   "source": [
    "MyList = [[-0.8255814, -4.89534884],\n",
    " [-0.8255814, -4.89534884],\n",
    " [-0.8255814, -4.89534884],\n",
    " [-0.6352413, -4.91358025],\n",
    " [-0.6352413, -4.91358025],\n",
    " [-0.6352413, -4.91358025]]\n",
    "\n",
    "result = [-0.73041135 -4.90446454]\n",
    "\n",
    "N, M = len(MyList), len(MyList[1])\n",
    "X = []\n",
    "Y = []\n",
    "for i in range(N):\n",
    "    for j in range(M):\n",
    "        if j == 0:\n",
    "            X.append(MyList[i][j])\n",
    "        else:\n",
    "            Y.append(MyList[i][j])\n",
    "print(sum(X)/N)\n",
    "print(sum(Y)/N)\n",
    "\n",
    "print((np.sqrt(2) - 1)/np.sqrt(2))\n",
    "print((np.sqrt(3) - np.sqrt(2)/np.sqrt(6)))"
   ]
  },
  {
   "cell_type": "code",
   "execution_count": null,
   "metadata": {},
   "outputs": [],
   "source": []
  },
  {
   "cell_type": "code",
   "execution_count": null,
   "metadata": {},
   "outputs": [],
   "source": []
  }
 ],
 "metadata": {
  "kernelspec": {
   "display_name": "Python 3.8.10 64-bit (microsoft store)",
   "language": "python",
   "name": "python3"
  },
  "language_info": {
   "codemirror_mode": {
    "name": "ipython",
    "version": 3
   },
   "file_extension": ".py",
   "mimetype": "text/x-python",
   "name": "python",
   "nbconvert_exporter": "python",
   "pygments_lexer": "ipython3",
   "version": "3.8.10"
  },
  "orig_nbformat": 4,
  "vscode": {
   "interpreter": {
    "hash": "85ad50d9bc146c85f3fc0e59d0a5f568038cb42bd91391f1b19a754b908c4ffe"
   }
  }
 },
 "nbformat": 4,
 "nbformat_minor": 2
}
