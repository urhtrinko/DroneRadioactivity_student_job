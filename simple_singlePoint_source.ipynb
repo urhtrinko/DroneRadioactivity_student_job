{
 "cells": [
  {
   "cell_type": "code",
   "execution_count": 1,
   "metadata": {},
   "outputs": [],
   "source": [
    "import numpy as np"
   ]
  },
  {
   "cell_type": "markdown",
   "metadata": {},
   "source": [
    "# Parameters"
   ]
  },
  {
   "cell_type": "code",
   "execution_count": 7,
   "metadata": {},
   "outputs": [
    {
     "data": {
      "text/plain": [
       "array([-3., -1.,  1.,  3.])"
      ]
     },
     "execution_count": 7,
     "metadata": {},
     "output_type": "execute_result"
    }
   ],
   "source": [
    "I0 = 100 # Bq\n",
    "Ib = 5 # Bq\n",
    "h = 10 # m\n",
    "x_max = 10 # m\n",
    "y_max = 10 # m\n",
    "\n",
    "np.linspace(-3, 3, 4)"
   ]
  },
  {
   "cell_type": "markdown",
   "metadata": {},
   "source": [
    "# Flying over the surface"
   ]
  },
  {
   "cell_type": "code",
   "execution_count": 28,
   "metadata": {},
   "outputs": [
    {
     "name": "stdout",
     "output_type": "stream",
     "text": [
      "-3.5\n",
      "-3.5\n",
      "-3.5\n",
      "-3.5\n",
      "-3.5\n",
      "-3.5\n",
      "-3.5\n",
      "-3.5\n",
      "-2.5\n",
      "-2.5\n",
      "-2.5\n",
      "-2.5\n",
      "-2.5\n",
      "-2.5\n",
      "-2.5\n",
      "-2.5\n",
      "-1.5\n",
      "-1.5\n",
      "-1.5\n",
      "-1.5\n",
      "-1.5\n",
      "-1.5\n",
      "-1.5\n",
      "-1.5\n",
      "-0.5\n",
      "-0.5\n",
      "-0.5\n",
      "-0.5\n",
      "-0.5\n",
      "-0.5\n",
      "-0.5\n",
      "-0.5\n",
      "0.5\n",
      "0.5\n",
      "0.5\n",
      "0.5\n",
      "0.5\n",
      "0.5\n",
      "0.5\n",
      "0.5\n",
      "1.5\n",
      "1.5\n",
      "1.5\n",
      "1.5\n",
      "1.5\n",
      "1.5\n",
      "1.5\n",
      "1.5\n",
      "2.5\n",
      "2.5\n",
      "2.5\n",
      "2.5\n",
      "2.5\n",
      "2.5\n",
      "2.5\n",
      "2.5\n",
      "3.5\n",
      "3.5\n",
      "3.5\n",
      "3.5\n",
      "3.5\n",
      "3.5\n",
      "3.5\n",
      "3.5\n"
     ]
    }
   ],
   "source": [
    "def grid(x_max, y_max, square):\n",
    "    if (x_max/square % 2) != 0 or (y_max/square % 2) != 0:\n",
    "        return \"Error: Not valid grid size or division\"\n",
    "    xes = np.linspace(-x_max + square/2, x_max - square/2, int(2*x_max/square))\n",
    "    stop_points = np.zeros((1, 2))\n",
    "    i = 1\n",
    "    y = -3.5\n",
    "    for x in xes:\n",
    "        while abs(y) <= y_max:\n",
    "            stop_points = np.vstack((stop_points, np.array((x, y))))\n",
    "            y += (square)*i\n",
    "        i = i * (-1)\n",
    "        y += (square)*i \n",
    "    return stop_points[1:, :]\n",
    "\n",
    "def\n",
    "\n",
    "\n",
    "def FlyOver(source, I0, Ib, h, x_max, y_max, square):\n",
    "    for position in grid(x_max, y_max, square):\n",
    "        \n",
    "        \n",
    "FlyOver(np.array([0.5, 0.5]), I0, Ib, h, 4, 4, 1)\n"
   ]
  },
  {
   "cell_type": "code",
   "execution_count": null,
   "metadata": {},
   "outputs": [],
   "source": []
  }
 ],
 "metadata": {
  "kernelspec": {
   "display_name": "Python 3.8.10 64-bit (microsoft store)",
   "language": "python",
   "name": "python3"
  },
  "language_info": {
   "codemirror_mode": {
    "name": "ipython",
    "version": 3
   },
   "file_extension": ".py",
   "mimetype": "text/x-python",
   "name": "python",
   "nbconvert_exporter": "python",
   "pygments_lexer": "ipython3",
   "version": "3.8.10"
  },
  "orig_nbformat": 4,
  "vscode": {
   "interpreter": {
    "hash": "85ad50d9bc146c85f3fc0e59d0a5f568038cb42bd91391f1b19a754b908c4ffe"
   }
  }
 },
 "nbformat": 4,
 "nbformat_minor": 2
}
