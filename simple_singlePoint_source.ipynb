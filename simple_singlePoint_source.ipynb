{
 "cells": [
  {
   "cell_type": "markdown",
   "metadata": {},
   "source": [
    "# Imported accesories"
   ]
  },
  {
   "cell_type": "code",
   "execution_count": 107,
   "metadata": {},
   "outputs": [],
   "source": [
    "import numpy as np\n",
    "from vector_class import TripleVector\n",
    "import matplotlib.pyplot as plt\n",
    "import random\n",
    "import sys\n",
    "from numpy import random\n",
    "\n"
   ]
  },
  {
   "cell_type": "markdown",
   "metadata": {},
   "source": [
    "# Parameters"
   ]
  },
  {
   "cell_type": "code",
   "execution_count": 108,
   "metadata": {},
   "outputs": [],
   "source": [
    "A0 = 1e10 # Bq\n",
    "Ab = 500 # Bq\n",
    "h = 5 # m\n",
    "D_t = 100 # the pause on each point od the grid in s\n",
    "x_max = 4 # m\n",
    "y_max = 4 # m\n",
    "grid = [8, 8] # m\n",
    "n_bins = 30\n",
    "\n",
    "radiation = [A0, Ab, D_t]\n",
    "detector = [h, x_max, y_max, grid]\n",
    "\n"
   ]
  },
  {
   "cell_type": "markdown",
   "metadata": {},
   "source": [
    "# Code"
   ]
  },
  {
   "cell_type": "markdown",
   "metadata": {},
   "source": [
    "## Flying over the surface"
   ]
  },
  {
   "cell_type": "code",
   "execution_count": 109,
   "metadata": {},
   "outputs": [],
   "source": [
    "def I(A0, r, D_t):\n",
    "    return (1 / (r + 1)**2) * A0 * D_t\n",
    "\n",
    "def point_source(x_max, y_max):\n",
    "    return [random.uniform(-x_max, x_max),random.uniform(-y_max, y_max)]\n",
    "\n",
    "def flyOver(radiation, detector): # grid is a list which tells the number of tiles for x and y\n",
    "    A0, Ab, D_t = radiation[0], radiation[1], radiation[2]\n",
    "    h, x_max, y_max, grid = detector[0], detector[1], detector[2], detector[3]\n",
    "    N_x, N_y = grid[0], grid[1]\n",
    "    square_x, square_y = (2*x_max)/N_x, (2*y_max)/N_y \n",
    "    xes = np.linspace(-x_max + square_x/2, x_max - square_x/2, int(N_x))\n",
    "    source = point_source(x_max, y_max)\n",
    "    intensities = np.zeros((int(N_x), int(N_y)))\n",
    "    intensities_list = []\n",
    "    grid_x, grid_y = np.zeros((int(N_x), int(N_y))), np.zeros((int(N_x), int(N_y)))\n",
    "    n, m = N_x - 1, 0\n",
    "    y = -y_max + square_y/2\n",
    "    i = 1\n",
    "    max_intensity = {\"number\": [0], \"postion\": [[(0, 0), (0, 0)]]}\n",
    "    for x in xes:\n",
    "        while abs(y) <= y_max:\n",
    "            drone = TripleVector(x, y, h)\n",
    "            position = TripleVector(source[0], source[1], 0)\n",
    "            r_vector = drone - position\n",
    "            r = r_vector.magnitude()\n",
    "            intensity = I(A0, r, D_t)\n",
    "            if Ab*D_t > intensity:\n",
    "                intensities[n, m] = 0\n",
    "            else:\n",
    "                intensities[n, m] = intensity - Ab*D_t\n",
    "                intensities_list.append(intensity - Ab*D_t)\n",
    "            grid_x[n, m], grid_y[n, m] = x, y\n",
    "            if max_intensity[\"number\"][0] < intensity:\n",
    "                max_intensity[\"number\"], max_intensity[\"position\"] = [intensity], [[(x - square_x/2, x + square_x/2), (y - square_y/2, y + square_y/2)]]\n",
    "            elif max_intensity[\"number\"][0] == intensity:\n",
    "                max_intensity[\"position\"] = [max_intensity[\"position\"][0], [(x - square_x/2, x + square_x/2), (y - square_y/2, y + square_y/2)]]\n",
    "            y += (square_y)*i\n",
    "            n -= 1*i\n",
    "        n += 1*i\n",
    "        i = i * (-1)\n",
    "        y += (square_y)*i\n",
    "        m += 1\n",
    "\n",
    "    return [intensities, source, intensities_list, grid_x, grid_y, max_intensity[\"position\"]]\n",
    "\n",
    "#  A0, Ab, D_t, h, x_max, y_max, square\n",
    "measurement = flyOver(radiation, detector)\n",
    "\n",
    "# print(measurement[0])\n",
    "\n"
   ]
  },
  {
   "cell_type": "code",
   "execution_count": null,
   "metadata": {},
   "outputs": [],
   "source": []
  },
  {
   "cell_type": "markdown",
   "metadata": {},
   "source": [
    "## Location from measurement"
   ]
  },
  {
   "cell_type": "code",
   "execution_count": 110,
   "metadata": {},
   "outputs": [],
   "source": [
    "def circle_center(x, y, w=[]):\n",
    "    A = np.array([x, y, np.ones(len(x))]).T\n",
    "    b = x**2 + y**2\n",
    "    \n",
    "    # Modify A,b for weighted least squares\n",
    "    if len(w) == len(x):\n",
    "        W = np.diag(w)\n",
    "        A = np.dot(W,A)\n",
    "        b = np.dot(W,b)\n",
    "    \n",
    "    # Solve by method of least squares\n",
    "    c = np.linalg.lstsq(A,b,rcond=None)[0]\n",
    "    \n",
    "    # Get circle parameters from solution c\n",
    "    xc = c[0]/2\n",
    "    yc = c[1]/2\n",
    "    r = np.sqrt(c[2] + xc**2 + yc**2)\n",
    "    return [xc, yc, r]\n",
    "\n",
    "def elimination(candidates, borders):\n",
    "    #eliminate the ones that are far away\n",
    "    survivors = np.zeros((1, 2))\n",
    "    for i in range(len(candidates)):\n",
    "        X = candidates[i, 0]\n",
    "        Y = candidates[i, 1]\n",
    "        for border in borders:\n",
    "            if (border[0][0] <= X and X <= border[0][1]) and (border[1][0] <= Y and Y <= border[1][1]):\n",
    "                survivors = np.vstack((survivors, np.array([X, Y])))\n",
    "    return survivors[1:, :]\n",
    "\n",
    "\n",
    "def find_source(measurement, n_bins):\n",
    "    edge2, edge1 = np.max(measurement[0]), np.min(measurement[0])\n",
    "    ran = np.linspace(edge1, edge2, n_bins)\n",
    "    histogram = np.histogram(measurement[2], ran) # here the list of intensities becomes useful\n",
    "    if max(histogram[0]) <= 2:\n",
    "        sys.exit(\"Error to many bins - all of them contain less than three points. Reduce the number n_bins!\")\n",
    "    candidates = np.zeros((1, 2))\n",
    "    borders = measurement[5]\n",
    "    for fit_points in histogram[0]:\n",
    "        if fit_points > 2:\n",
    "            i = list(histogram[0]).index(fit_points)\n",
    "            Range = histogram[1][i:(i+2)]\n",
    "            n, m = measurement[0].shape\n",
    "            X, Y = [], []\n",
    "            for i in range(n):\n",
    "                for j in range(m):\n",
    "                    if (Range[0] <= measurement[0][i, j] and measurement[0][i, j] <= Range[1]):\n",
    "                        X.append(measurement[3][i, j])\n",
    "                        Y.append(measurement[4][i, j])\n",
    "            points = [np.array(X), np.array(Y)]\n",
    "            circle_values = circle_center(points[0], points[1])\n",
    "            X_c, Y_c = circle_values[0], circle_values[1]\n",
    "            for border in borders: # eliminate the circle centres that are out of the tile \"hotspots\"\n",
    "                if (border[0][0] <= X_c and X_c <= border[0][1]) and (border[1][0] <= Y_c and Y_c <= border[1][1]):\n",
    "                    candidates = np.vstack((candidates, np.array([X_c, Y_c])))\n",
    "    return [candidates[1:, :], candidates[1:, :].mean(axis=0)]\n",
    "\n",
    "points = find_source(measurement, 40)\n",
    "\n",
    "# print(elimination(np.array([[ 0,  1],\n",
    "#        [-0.5, 1.0],\n",
    "#        [10, 11],\n",
    "#        [15, 16]]), [[(-2.0, 2.0), (-3.0, 3.0)]]))\n"
   ]
  },
  {
   "cell_type": "markdown",
   "metadata": {},
   "source": [
    "## Combine the measurement and location of the source"
   ]
  },
  {
   "cell_type": "code",
   "execution_count": 111,
   "metadata": {},
   "outputs": [],
   "source": [
    "def dist_points(point1, point2):\n",
    "    return (point1 - point2).magnitude()\n",
    "\n",
    "def combination(radiation, detector, n_bins):\n",
    "    measurement = flyOver(radiation, detector)\n",
    "    points = find_source(measurement, n_bins)\n",
    "    #dr = dist_points(TripleVector(measurement[1][0], measurement[1][1], 0), TripleVector(circle_values[0], circle_values[1], 0))\n",
    "    hotspot_tile = measurement[5]\n",
    "    return [measurement, x_max, y_max, points, hotspot_tile]#, dr]\n",
    "\n"
   ]
  },
  {
   "cell_type": "markdown",
   "metadata": {},
   "source": [
    "## Visualization"
   ]
  },
  {
   "cell_type": "code",
   "execution_count": 126,
   "metadata": {},
   "outputs": [
    {
     "data": {
      "image/png": "[encoded data removed]",
      "text/plain": [
       "<Figure size 720x720 with 2 Axes>"
      ]
     },
     "metadata": {
      "needs_background": "light"
     },
     "output_type": "display_data"
    }
   ],
   "source": [
    "# COMMENT: Purple tiles are the ones where the signal is so weak that you cannot distiguish it from the background radiation\n",
    "\n",
    "def visualize(measurement, x_max, y_max, points, hotspot):\n",
    "\n",
    "    fig, (ax1, ax2) = plt.subplots(nrows = 2, ncols = 1, figsize = (10, 10))\n",
    "    \n",
    "    ax1.imshow(measurement[0], extent=[-x_max,x_max,-y_max,y_max], aspect=\"auto\")\n",
    "    # plt.imshow(np.zeros((8, 8)), extent=[-x_max,x_max,-y_max,y_max], aspect=\"auto\")\n",
    "    X, Y = measurement[1][0], measurement[1][1]\n",
    "    ax1.plot(X, Y, \"o\", color = 'r', label = \"Original source\")\n",
    "    ax1.plot(points[1][0], points[1][1], \"o\", color = 'k', label = \"Average from estimated sources\")\n",
    "    ax1.axis(\"equal\")\n",
    "    ax1.set_xlabel(\"X axis [m]\", fontsize = 15)\n",
    "    ax1.set_ylabel(\"Y axis [m]\", fontsize = 15)\n",
    "\n",
    "   \n",
    "    ax1.legend(fontsize = 15)\n",
    "    #plt.grid()\n",
    "\n",
    "    ax2.imshow(measurement[0], extent=[-x_max,x_max,-y_max,y_max], aspect=\"auto\")\n",
    "    # plt.imshow(np.zeros((8, 8)), extent=[-x_max,x_max,-y_max,y_max], aspect=\"auto\")\n",
    "    X, Y = measurement[1][0], measurement[1][1]\n",
    "    ax2.plot(X, Y, \"o\", color = 'r', label = \"Original source\")\n",
    "    ax2.plot(points[0][:, 0], points[0][:, 1], \"o\", color = 'g', label = \"Estimated sources\")\n",
    "    ax2.plot(points[1][0], points[1][1], \"o\", color = 'k', label = \"Average from estimated sources\")\n",
    "    ax2.axis(\"equal\")\n",
    "    ax2.set_xlim(hotspot[0][0][0], hotspot[0][0][1])\n",
    "    ax2.set_xlabel(\"X axis [m]\", fontsize = 15)\n",
    "    ax2.set_ylim(hotspot[0][1][0], hotspot[0][1][1])\n",
    "    ax2.set_ylabel(\"Y axis [m]\", fontsize = 15)\n",
    "\n",
    "   \n",
    "    ax2.legend(fontsize = 15)\n",
    "    #plt.grid()\n",
    "    \n",
    "\n",
    "    plt.tight_layout()\n",
    "    # plt.savefig(\"graphics/test.pdf\")\n",
    "    plt.show()\n",
    "    # return points[1]\n",
    "\n",
    "\n",
    "data = combination(radiation, detector, n_bins)\n",
    "\n",
    "visualize(data[0], data[1], data[2], data[3], data[4])\n",
    "\n",
    "# print(data[0][1])\n",
    "# print(data[4])\n",
    "\n"
   ]
  },
  {
   "cell_type": "markdown",
   "metadata": {},
   "source": [
    "## Error calculation"
   ]
  },
  {
   "cell_type": "code",
   "execution_count": 113,
   "metadata": {},
   "outputs": [
    {
     "name": "stderr",
     "output_type": "stream",
     "text": [
      "<ipython-input-110-abb89b7faecb>:57: RuntimeWarning: Mean of empty slice.\n",
      "  return [candidates[1:, :], candidates[1:, :].mean(axis=0)]\n",
      "C:\\Users\\urhtr\\AppData\\Local\\Packages\\PythonSoftwareFoundation.Python.3.8_qbz5n2kfra8p0\\LocalCache\\local-packages\\Python38\\site-packages\\numpy\\core\\_methods.py:181: RuntimeWarning: invalid value encountered in true_divide\n",
      "  ret = um.true_divide(\n"
     ]
    },
    {
     "ename": "ValueError",
     "evalue": "x must have 2 or fewer dimensions",
     "output_type": "error",
     "traceback": [
      "\u001b[1;31m---------------------------------------------------------------------------\u001b[0m",
      "\u001b[1;31mValueError\u001b[0m                                Traceback (most recent call last)",
      "\u001b[1;32m<ipython-input-113-7196efd9fa14>\u001b[0m in \u001b[0;36m<module>\u001b[1;34m\u001b[0m\n\u001b[0;32m     21\u001b[0m     \u001b[1;32mreturn\u001b[0m \u001b[0md_R\u001b[0m\u001b[1;33m\u001b[0m\u001b[1;33m\u001b[0m\u001b[0m\n\u001b[0;32m     22\u001b[0m \u001b[1;33m\u001b[0m\u001b[0m\n\u001b[1;32m---> 23\u001b[1;33m \u001b[0mprint\u001b[0m\u001b[1;33m(\u001b[0m\u001b[0mgauss_r\u001b[0m\u001b[1;33m(\u001b[0m\u001b[0mradiation\u001b[0m\u001b[1;33m,\u001b[0m \u001b[0mdetector\u001b[0m\u001b[1;33m,\u001b[0m \u001b[0mn_bins\u001b[0m\u001b[1;33m,\u001b[0m \u001b[1;36m1000\u001b[0m\u001b[1;33m)\u001b[0m\u001b[1;33m)\u001b[0m\u001b[1;33m\u001b[0m\u001b[1;33m\u001b[0m\u001b[0m\n\u001b[0m",
      "\u001b[1;32m<ipython-input-113-7196efd9fa14>\u001b[0m in \u001b[0;36mgauss_r\u001b[1;34m(radiation, detector, n_bins, n_sim)\u001b[0m\n\u001b[0;32m      4\u001b[0m         \u001b[0mdr\u001b[0m \u001b[1;33m=\u001b[0m \u001b[0mcombination\u001b[0m\u001b[1;33m(\u001b[0m\u001b[0mradiation\u001b[0m\u001b[1;33m,\u001b[0m \u001b[0mdetector\u001b[0m\u001b[1;33m,\u001b[0m \u001b[0mn_bins\u001b[0m\u001b[1;33m)\u001b[0m\u001b[1;33m[\u001b[0m\u001b[1;33m-\u001b[0m\u001b[1;36m1\u001b[0m\u001b[1;33m]\u001b[0m\u001b[1;33m\u001b[0m\u001b[1;33m\u001b[0m\u001b[0m\n\u001b[0;32m      5\u001b[0m         \u001b[0mR\u001b[0m\u001b[1;33m.\u001b[0m\u001b[0mappend\u001b[0m\u001b[1;33m(\u001b[0m\u001b[0mdr\u001b[0m\u001b[1;33m)\u001b[0m\u001b[1;33m\u001b[0m\u001b[1;33m\u001b[0m\u001b[0m\n\u001b[1;32m----> 6\u001b[1;33m     \u001b[0mplt\u001b[0m\u001b[1;33m.\u001b[0m\u001b[0mhist\u001b[0m\u001b[1;33m(\u001b[0m\u001b[0mnp\u001b[0m\u001b[1;33m.\u001b[0m\u001b[0marray\u001b[0m\u001b[1;33m(\u001b[0m\u001b[0mR\u001b[0m\u001b[1;33m)\u001b[0m\u001b[1;33m,\u001b[0m \u001b[1;36m100\u001b[0m\u001b[1;33m)\u001b[0m\u001b[1;33m\u001b[0m\u001b[1;33m\u001b[0m\u001b[0m\n\u001b[0m\u001b[0;32m      7\u001b[0m     \u001b[0mplt\u001b[0m\u001b[1;33m.\u001b[0m\u001b[0mxlabel\u001b[0m\u001b[1;33m(\u001b[0m\u001b[1;34m\"r error [m]\"\u001b[0m\u001b[1;33m,\u001b[0m \u001b[0mfontsize\u001b[0m \u001b[1;33m=\u001b[0m \u001b[1;36m15\u001b[0m\u001b[1;33m)\u001b[0m\u001b[1;33m\u001b[0m\u001b[1;33m\u001b[0m\u001b[0m\n\u001b[0;32m      8\u001b[0m     \u001b[0mplt\u001b[0m\u001b[1;33m.\u001b[0m\u001b[0mxticks\u001b[0m\u001b[1;33m(\u001b[0m\u001b[0mfontsize\u001b[0m \u001b[1;33m=\u001b[0m \u001b[1;36m15\u001b[0m\u001b[1;33m)\u001b[0m\u001b[1;33m\u001b[0m\u001b[1;33m\u001b[0m\u001b[0m\n",
      "\u001b[1;32m~\\AppData\\Local\\Packages\\PythonSoftwareFoundation.Python.3.8_qbz5n2kfra8p0\\LocalCache\\local-packages\\Python38\\site-packages\\matplotlib\\pyplot.py\u001b[0m in \u001b[0;36mhist\u001b[1;34m(x, bins, range, density, weights, cumulative, bottom, histtype, align, orientation, rwidth, log, color, label, stacked, data, **kwargs)\u001b[0m\n\u001b[0;32m   2588\u001b[0m         \u001b[0morientation\u001b[0m\u001b[1;33m=\u001b[0m\u001b[1;34m'vertical'\u001b[0m\u001b[1;33m,\u001b[0m \u001b[0mrwidth\u001b[0m\u001b[1;33m=\u001b[0m\u001b[1;32mNone\u001b[0m\u001b[1;33m,\u001b[0m \u001b[0mlog\u001b[0m\u001b[1;33m=\u001b[0m\u001b[1;32mFalse\u001b[0m\u001b[1;33m,\u001b[0m \u001b[0mcolor\u001b[0m\u001b[1;33m=\u001b[0m\u001b[1;32mNone\u001b[0m\u001b[1;33m,\u001b[0m\u001b[1;33m\u001b[0m\u001b[1;33m\u001b[0m\u001b[0m\n\u001b[0;32m   2589\u001b[0m         label=None, stacked=False, *, data=None, **kwargs):\n\u001b[1;32m-> 2590\u001b[1;33m     return gca().hist(\n\u001b[0m\u001b[0;32m   2591\u001b[0m         \u001b[0mx\u001b[0m\u001b[1;33m,\u001b[0m \u001b[0mbins\u001b[0m\u001b[1;33m=\u001b[0m\u001b[0mbins\u001b[0m\u001b[1;33m,\u001b[0m \u001b[0mrange\u001b[0m\u001b[1;33m=\u001b[0m\u001b[0mrange\u001b[0m\u001b[1;33m,\u001b[0m \u001b[0mdensity\u001b[0m\u001b[1;33m=\u001b[0m\u001b[0mdensity\u001b[0m\u001b[1;33m,\u001b[0m \u001b[0mweights\u001b[0m\u001b[1;33m=\u001b[0m\u001b[0mweights\u001b[0m\u001b[1;33m,\u001b[0m\u001b[1;33m\u001b[0m\u001b[1;33m\u001b[0m\u001b[0m\n\u001b[0;32m   2592\u001b[0m         \u001b[0mcumulative\u001b[0m\u001b[1;33m=\u001b[0m\u001b[0mcumulative\u001b[0m\u001b[1;33m,\u001b[0m \u001b[0mbottom\u001b[0m\u001b[1;33m=\u001b[0m\u001b[0mbottom\u001b[0m\u001b[1;33m,\u001b[0m \u001b[0mhisttype\u001b[0m\u001b[1;33m=\u001b[0m\u001b[0mhisttype\u001b[0m\u001b[1;33m,\u001b[0m\u001b[1;33m\u001b[0m\u001b[1;33m\u001b[0m\u001b[0m\n",
      "\u001b[1;32m~\\AppData\\Local\\Packages\\PythonSoftwareFoundation.Python.3.8_qbz5n2kfra8p0\\LocalCache\\local-packages\\Python38\\site-packages\\matplotlib\\__init__.py\u001b[0m in \u001b[0;36minner\u001b[1;34m(ax, data, *args, **kwargs)\u001b[0m\n\u001b[0;32m   1410\u001b[0m     \u001b[1;32mdef\u001b[0m \u001b[0minner\u001b[0m\u001b[1;33m(\u001b[0m\u001b[0max\u001b[0m\u001b[1;33m,\u001b[0m \u001b[1;33m*\u001b[0m\u001b[0margs\u001b[0m\u001b[1;33m,\u001b[0m \u001b[0mdata\u001b[0m\u001b[1;33m=\u001b[0m\u001b[1;32mNone\u001b[0m\u001b[1;33m,\u001b[0m \u001b[1;33m**\u001b[0m\u001b[0mkwargs\u001b[0m\u001b[1;33m)\u001b[0m\u001b[1;33m:\u001b[0m\u001b[1;33m\u001b[0m\u001b[1;33m\u001b[0m\u001b[0m\n\u001b[0;32m   1411\u001b[0m         \u001b[1;32mif\u001b[0m \u001b[0mdata\u001b[0m \u001b[1;32mis\u001b[0m \u001b[1;32mNone\u001b[0m\u001b[1;33m:\u001b[0m\u001b[1;33m\u001b[0m\u001b[1;33m\u001b[0m\u001b[0m\n\u001b[1;32m-> 1412\u001b[1;33m             \u001b[1;32mreturn\u001b[0m \u001b[0mfunc\u001b[0m\u001b[1;33m(\u001b[0m\u001b[0max\u001b[0m\u001b[1;33m,\u001b[0m \u001b[1;33m*\u001b[0m\u001b[0mmap\u001b[0m\u001b[1;33m(\u001b[0m\u001b[0msanitize_sequence\u001b[0m\u001b[1;33m,\u001b[0m \u001b[0margs\u001b[0m\u001b[1;33m)\u001b[0m\u001b[1;33m,\u001b[0m \u001b[1;33m**\u001b[0m\u001b[0mkwargs\u001b[0m\u001b[1;33m)\u001b[0m\u001b[1;33m\u001b[0m\u001b[1;33m\u001b[0m\u001b[0m\n\u001b[0m\u001b[0;32m   1413\u001b[0m \u001b[1;33m\u001b[0m\u001b[0m\n\u001b[0;32m   1414\u001b[0m         \u001b[0mbound\u001b[0m \u001b[1;33m=\u001b[0m \u001b[0mnew_sig\u001b[0m\u001b[1;33m.\u001b[0m\u001b[0mbind\u001b[0m\u001b[1;33m(\u001b[0m\u001b[0max\u001b[0m\u001b[1;33m,\u001b[0m \u001b[1;33m*\u001b[0m\u001b[0margs\u001b[0m\u001b[1;33m,\u001b[0m \u001b[1;33m**\u001b[0m\u001b[0mkwargs\u001b[0m\u001b[1;33m)\u001b[0m\u001b[1;33m\u001b[0m\u001b[1;33m\u001b[0m\u001b[0m\n",
      "\u001b[1;32m~\\AppData\\Local\\Packages\\PythonSoftwareFoundation.Python.3.8_qbz5n2kfra8p0\\LocalCache\\local-packages\\Python38\\site-packages\\matplotlib\\axes\\_axes.py\u001b[0m in \u001b[0;36mhist\u001b[1;34m(self, x, bins, range, density, weights, cumulative, bottom, histtype, align, orientation, rwidth, log, color, label, stacked, **kwargs)\u001b[0m\n\u001b[0;32m   6550\u001b[0m \u001b[1;33m\u001b[0m\u001b[0m\n\u001b[0;32m   6551\u001b[0m         \u001b[1;31m# Massage 'x' for processing.\u001b[0m\u001b[1;33m\u001b[0m\u001b[1;33m\u001b[0m\u001b[1;33m\u001b[0m\u001b[0m\n\u001b[1;32m-> 6552\u001b[1;33m         \u001b[0mx\u001b[0m \u001b[1;33m=\u001b[0m \u001b[0mcbook\u001b[0m\u001b[1;33m.\u001b[0m\u001b[0m_reshape_2D\u001b[0m\u001b[1;33m(\u001b[0m\u001b[0mx\u001b[0m\u001b[1;33m,\u001b[0m \u001b[1;34m'x'\u001b[0m\u001b[1;33m)\u001b[0m\u001b[1;33m\u001b[0m\u001b[1;33m\u001b[0m\u001b[0m\n\u001b[0m\u001b[0;32m   6553\u001b[0m         \u001b[0mnx\u001b[0m \u001b[1;33m=\u001b[0m \u001b[0mlen\u001b[0m\u001b[1;33m(\u001b[0m\u001b[0mx\u001b[0m\u001b[1;33m)\u001b[0m  \u001b[1;31m# number of datasets\u001b[0m\u001b[1;33m\u001b[0m\u001b[1;33m\u001b[0m\u001b[0m\n\u001b[0;32m   6554\u001b[0m \u001b[1;33m\u001b[0m\u001b[0m\n",
      "\u001b[1;32m~\\AppData\\Local\\Packages\\PythonSoftwareFoundation.Python.3.8_qbz5n2kfra8p0\\LocalCache\\local-packages\\Python38\\site-packages\\matplotlib\\cbook\\__init__.py\u001b[0m in \u001b[0;36m_reshape_2D\u001b[1;34m(X, name)\u001b[0m\n\u001b[0;32m   1379\u001b[0m             \u001b[1;32mreturn\u001b[0m \u001b[1;33m[\u001b[0m\u001b[0mnp\u001b[0m\u001b[1;33m.\u001b[0m\u001b[0mreshape\u001b[0m\u001b[1;33m(\u001b[0m\u001b[0mx\u001b[0m\u001b[1;33m,\u001b[0m \u001b[1;33m-\u001b[0m\u001b[1;36m1\u001b[0m\u001b[1;33m)\u001b[0m \u001b[1;32mfor\u001b[0m \u001b[0mx\u001b[0m \u001b[1;32min\u001b[0m \u001b[0mX\u001b[0m\u001b[1;33m]\u001b[0m\u001b[1;33m\u001b[0m\u001b[1;33m\u001b[0m\u001b[0m\n\u001b[0;32m   1380\u001b[0m         \u001b[1;32melse\u001b[0m\u001b[1;33m:\u001b[0m\u001b[1;33m\u001b[0m\u001b[1;33m\u001b[0m\u001b[0m\n\u001b[1;32m-> 1381\u001b[1;33m             \u001b[1;32mraise\u001b[0m \u001b[0mValueError\u001b[0m\u001b[1;33m(\u001b[0m\u001b[1;34mf'{name} must have 2 or fewer dimensions'\u001b[0m\u001b[1;33m)\u001b[0m\u001b[1;33m\u001b[0m\u001b[1;33m\u001b[0m\u001b[0m\n\u001b[0m\u001b[0;32m   1382\u001b[0m \u001b[1;33m\u001b[0m\u001b[0m\n\u001b[0;32m   1383\u001b[0m     \u001b[1;31m# Iterate over list of iterables.\u001b[0m\u001b[1;33m\u001b[0m\u001b[1;33m\u001b[0m\u001b[1;33m\u001b[0m\u001b[0m\n",
      "\u001b[1;31mValueError\u001b[0m: x must have 2 or fewer dimensions"
     ]
    },
    {
     "data": {
      "image/png": "[encoded data removed]",
      "text/plain": [
       "<Figure size 432x288 with 1 Axes>"
      ]
     },
     "metadata": {
      "needs_background": "light"
     },
     "output_type": "display_data"
    }
   ],
   "source": [
    "def gauss_r(radiation, detector, n_bins, n_sim):\n",
    "    R = []\n",
    "    for i in range(n_sim):\n",
    "        dr = combination(radiation, detector, n_bins)[-1]\n",
    "        R.append(dr)\n",
    "    plt.hist(np.array(R), 100)\n",
    "    plt.xlabel(\"r error [m]\", fontsize = 15)\n",
    "    plt.xticks(fontsize = 15)\n",
    "    plt.ylabel(\"number of values\", fontsize = 15)\n",
    "    plt.yticks(fontsize = 15)\n",
    "\n",
    "    #plt.legend(fontsize = 15)\n",
    "    #plt.grid()\n",
    "\n",
    "    plt.tight_layout()\n",
    "    #plt.savefig(\"\")\n",
    "    plt.show()\n",
    "\n",
    "    d_R = np.std(R)\n",
    "\n",
    "    return d_R\n",
    "\n",
    "print(gauss_r(radiation, detector, n_bins, 1000))"
   ]
  },
  {
   "cell_type": "markdown",
   "metadata": {},
   "source": [
    "# Describtion of the code"
   ]
  },
  {
   "cell_type": "code",
   "execution_count": null,
   "metadata": {},
   "outputs": [],
   "source": [
    "# PARAMETERS\n",
    "A0 = 1e6 # activity of the source in Bq\n",
    "Ab = 500 # background activity in Bq\n",
    "h = 10 # hight at which the setector flies over in m\n",
    "x_max = 5 # Size of the area of flyover in x direction in m\n",
    "y_max = 5 # Size of the area of flyover in y direction in m\n",
    "grid = [10, 10] # Size of the grid in which the area of flyover is divided into smaller \"tiles\" where the detector stops and measures the\n",
    "                # number of radioactive decays. The first number is the number of these areas in x direction and the second is the number in y\n",
    "                # direction\n",
    "D_t = 100 # the pause on each point od the grid in s\n",
    "n_bins = 30\n",
    "\n",
    "# DESCRIPTION OF THE CODE\n",
    "# 1) flyOver() generates a single point source randomly somwhere on the grid specified by x_max and y_max. The detector then \"flys over\" at the\n",
    "# hieght h starting in the bottom left tile and moving upward. When it reaches the upper left tile it moves right for one tile and goes down.\n",
    "# This continues for the entire grid. At each point the detector stops for D_t and measures the intensity at that tile. This is estimated using\n",
    "# the inverse square law, defined with the function I(). flyover() returns a list in which the first element is a n x m array, where n and m\n",
    "# are the respective values in grid. Each entry in the array contains the intensity which coresponds to the measurement in the tile which has\n",
    "# the position [n, m]. The second entry in the list is the position of the randomly generated point source. The third entry is a list of\n",
    "# intensities, which will be useful in further code. The last two entries each contain an array of the same size as the one in the first entry \n",
    "# of the list. The first one contains the x coorcinates of the cenetr of tiles and the second one contains the same data just for the y \n",
    "# coodidinates.\n",
    "\n",
    "# Combinig the parameters into a list so that the data is more compacted\n",
    "radiation = [A0, Ab, D_t]\n",
    "detector = [h, x_max, y_max, grid]\n",
    "\n",
    "data = combination(radiation, detector, n_bins)\n",
    "\n",
    "visualize(data[0], data[1], data[2], data[3])"
   ]
  },
  {
   "cell_type": "code",
   "execution_count": null,
   "metadata": {},
   "outputs": [],
   "source": []
  },
  {
   "cell_type": "code",
   "execution_count": null,
   "metadata": {},
   "outputs": [],
   "source": []
  }
 ],
 "metadata": {
  "kernelspec": {
   "display_name": "Python 3.8.10 64-bit (microsoft store)",
   "language": "python",
   "name": "python3"
  },
  "language_info": {
   "codemirror_mode": {
    "name": "ipython",
    "version": 3
   },
   "file_extension": ".py",
   "mimetype": "text/x-python",
   "name": "python",
   "nbconvert_exporter": "python",
   "pygments_lexer": "ipython3",
   "version": "3.8.10"
  },
  "orig_nbformat": 4,
  "vscode": {
   "interpreter": {
    "hash": "85ad50d9bc146c85f3fc0e59d0a5f568038cb42bd91391f1b19a754b908c4ffe"
   }
  }
 },
 "nbformat": 4,
 "nbformat_minor": 2
}
