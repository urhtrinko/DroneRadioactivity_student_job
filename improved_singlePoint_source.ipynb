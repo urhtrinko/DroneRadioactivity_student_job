{
 "cells": [
  {
   "cell_type": "markdown",
   "metadata": {},
   "source": [
    "# Imports"
   ]
  },
  {
   "cell_type": "code",
   "execution_count": 11,
   "metadata": {},
   "outputs": [],
   "source": [
    "# code libraries\n",
    "import numpy as np\n",
    "import matplotlib.pyplot as plt\n",
    "from vector_class import TripleVector\n",
    "import random\n",
    "\n",
    "# code from simple single source\n",
    "# from simple_singlePoint_source import visualize\n"
   ]
  },
  {
   "cell_type": "markdown",
   "metadata": {},
   "source": [
    "# Parameters"
   ]
  },
  {
   "cell_type": "code",
   "execution_count": 13,
   "metadata": {},
   "outputs": [],
   "source": [
    "A0 = 1e10 # Bq\n",
    "Ab = 500 # Bq\n",
    "h = 10 # m\n",
    "D_t = 100 # the pause on each point od the grid in s\n",
    "x_max = 4 # m\n",
    "y_max = 4 # m\n",
    "grid = [8, 8] # m\n",
    "n_bins = 20\n",
    "\n",
    "radiation = [A0, Ab, D_t]\n",
    "detector = [h, x_max, y_max, grid]\n",
    "\n"
   ]
  },
  {
   "cell_type": "markdown",
   "metadata": {},
   "source": [
    "## Flyover"
   ]
  },
  {
   "cell_type": "code",
   "execution_count": 16,
   "metadata": {},
   "outputs": [],
   "source": [
    "# The goal is to improve the code so that the drone flys over the grid in a way that it always gathers the information around the point\n",
    "# source.\n",
    "\n",
    "def I(A0, r, dt, rk=1):\n",
    "    return (rk**2 / (r + rk)**2) * A0*dt\n",
    "\n",
    "def point_source(x_max, y_max):\n",
    "    return [random.uniform(-x_max, x_max),random.uniform(-y_max, y_max)]\n",
    "\n",
    "def dist(data, i, j):\n",
    "    source, xes, yes, N_x, h = data[0], data[1], data[2], data[3], data[4]\n",
    "    return (TripleVector(source[0], source[1], 0) - TripleVector(xes[(N_x - 1) - i], yes[j], h)).magnitude()\n",
    "   \n",
    "\n",
    "def improv_flyOver(radiation, detector, source = []):\n",
    "    A0, Ab, dt = radiation[0], radiation[1], radiation[2]\n",
    "    h, x_max, y_max, grid = detector[0], detector[1], detector[2], detector[3]\n",
    "    N_x, N_y = grid[0], grid[1]\n",
    "    square_x, square_y = (2*x_max)/N_x, (2*y_max)/N_y\n",
    "    if len(source) == 0:\n",
    "        source = point_source(x_max, y_max)\n",
    "\n",
    "    xes, yes = np.linspace(-x_max+square_x/2, x_max-square_x/2, int(N_x)), np.linspace(-y_max+square_y/2, y_max- square_y/2, int(N_y))\n",
    "    map = np.zeros((N_x, N_y))\n",
    "    i, j = N_x - 1, 0\n",
    "    data = source, xes, yes, N_x, h\n",
    "    r = dist(data, i, j)\n",
    "    I_max = max([I(A0, dist(data, i, j + 1)), I(A0, dist(data, i - 1, j)), I(A0, dist(data, i - 1, j + 1))])\n",
    "    while I(A0, r, dt) < I_max:\n",
    "        if (i == (N_x - 1)) and (j == 0):\n",
    "            print(\"Beginnig\")\n",
    "        elif j == 0:\n",
    "            print(\"Left\")\n",
    "        elif j == (N_y -1):\n",
    "            print(\"Right\")\n",
    "        elif i == 0:\n",
    "            print(\"Top\")\n",
    "        elif i == (N_x - 1):\n",
    "            print(\"Bottom\")\n",
    "        else:\n",
    "            print(\"Middle\")\n",
    "    \n",
    "    return\n",
    "\n"
   ]
  },
  {
   "cell_type": "code",
   "execution_count": null,
   "metadata": {},
   "outputs": [],
   "source": []
  }
 ],
 "metadata": {
  "kernelspec": {
   "display_name": "Python 3.8.10 64-bit (microsoft store)",
   "language": "python",
   "name": "python3"
  },
  "language_info": {
   "codemirror_mode": {
    "name": "ipython",
    "version": 3
   },
   "file_extension": ".py",
   "mimetype": "text/x-python",
   "name": "python",
   "nbconvert_exporter": "python",
   "pygments_lexer": "ipython3",
   "version": "3.8.10"
  },
  "orig_nbformat": 4,
  "vscode": {
   "interpreter": {
    "hash": "85ad50d9bc146c85f3fc0e59d0a5f568038cb42bd91391f1b19a754b908c4ffe"
   }
  }
 },
 "nbformat": 4,
 "nbformat_minor": 2
}
