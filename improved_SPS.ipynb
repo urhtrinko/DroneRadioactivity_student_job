{
 "cells": [
  {
   "cell_type": "markdown",
   "metadata": {},
   "source": [
    "# Imports"
   ]
  },
  {
   "cell_type": "code",
   "execution_count": 1,
   "metadata": {},
   "outputs": [],
   "source": [
    "# code libraries\n",
    "import numpy as np\n",
    "import matplotlib.pyplot as plt\n",
    "from vector_class import TripleVector\n",
    "import random\n",
    "\n",
    "# code from simple single source\n",
    "# from simple_singlePoint_source import visualize\n"
   ]
  },
  {
   "cell_type": "code",
   "execution_count": 2,
   "metadata": {},
   "outputs": [],
   "source": [
    "# The goal is to improve the code so that the drone flies over the grid in a way that it firs locates the \"hotspot\" tile and then gathers the \n",
    "# information around it source. It dose this by flying around it in circles\n"
   ]
  },
  {
   "cell_type": "markdown",
   "metadata": {},
   "source": [
    "# Parameters"
   ]
  },
  {
   "cell_type": "code",
   "execution_count": 3,
   "metadata": {},
   "outputs": [],
   "source": [
    "A_min = 1e3 # Bq\n",
    "A_max = 2e3 # Bq\n",
    "A_b = 5e-5 # Bq\n",
    "h = 10 # m\n",
    "dt = 100 # the pause on each point od the grid in s\n",
    "x_max = 4; sigma_x = 0.1 # m\n",
    "y_max = 4; sigma_y = 0.1 # m\n",
    "grid = 5\n",
    "n_bins = 20\n",
    "K = 0.1 # is somewhere in the interval [0, 1]\n",
    "F = 0.140 # factor for inhilation of Pu-239 in mSV/Bq\n",
    "\n",
    "radiation = {\"A_min\": A_min, \"A_max\": A_max, \"A_b\": A_b, \"dt\": dt, \"dose_factor\": F}\n",
    "detector = {\"h\": h, \"x_max\": x_max, \"y_max\": y_max, \"grid\": grid, \"detector_constant\": K} # the detector constant tells us the quality of the \n",
    "                                                                                          # detector"
   ]
  },
  {
   "cell_type": "markdown",
   "metadata": {},
   "source": [
    "## Subsidary code"
   ]
  },
  {
   "cell_type": "code",
   "execution_count": 17,
   "metadata": {},
   "outputs": [],
   "source": [
    "def activity(source, x, y, h, ru=0, rv=0):\n",
    "    u, v, A0 = source[0], source[1], source[2] # u, v are the coordinates of the source and A0 is its activity\n",
    "    return (A0*(ru**2 + rv**2 + h**2)) / ((x - (u - ru))**2 + (y - (v - rv))**2 + h**2)\n",
    "\n",
    "def point_source(x_max, y_max, A_min, A_max, x_min=0, y_min=0):\n",
    "    if (x_min == 0) and (y_min == 0):    \n",
    "        return [random.uniform(-x_max, x_max), random.uniform(-y_max, y_max), random.uniform(A_min, A_max)]\n",
    "    else:\n",
    "        return [random.uniform(x_min, x_max), random.uniform(y_min, y_max), random.uniform(A_min, A_max)]\n",
    "\n",
    "# def simulated_event(source, x, y, h, grid_x_noise, grid_y_noise, noise=[], n=\"None\", m=\"None\"):\n",
    "#     A = activity(source, x, y, h)\n",
    "#     A_det = A * (1 - K)\n",
    "#     N = np.random.poisson(A_det * dt)\n",
    "#     N_b = np.random.poisson(A_b * dt)# background radiation\n",
    "\n",
    "#     # Add noise to the location data because of the GPS uncertianty\n",
    "\n",
    "#     if len(noise) != 0:\n",
    "#         if (n != \"None\" and m != \"None\"):\n",
    "#             sigma_x = noise[0]; sigma_y = noise[1]\n",
    "#             grid_x_noise[n, m] = x + np.random.normal(0, sigma_x)\n",
    "#             grid_y_noise[n, m] = y + np.random.normal(0, sigma_y)\n",
    "#         else:\n",
    "#             sigma_x = noise[0]; sigma_y = noise[1]\n",
    "#             x += np.random.normal(0, sigma_x)\n",
    "#             y += np.random.normal(0, sigma_y)\n",
    "\n",
    "#     return {\"number\": N, \"N_b\": N_b, \"grid_x_noise\": grid_x_noise, \"grid_y_noise\": grid_y_noise, \"x\": x, \"y\": y}Sž\n",
    "\n",
    "def dose_speed(source, x, y, radiation, detector):\n",
    "    A_b, dt = radiation[\"A_b\"], radiation[\"dt\"]\n",
    "    h, K = detector[\"h\"], detector[\"detector_constant\"]\n",
    "    \n",
    "    A = activity(source, x, y, h)\n",
    "    A_det = A * (1 - K)\n",
    "    N = np.random.poisson(A_det * dt)\n",
    "    N_b = np.random.poisson(A_b * dt)# background radiation\n",
    "\n",
    "    HD = F * (N + N_b)\n",
    "\n",
    "\n",
    "    dHD = F * np.sqrt(N + N_b)\n",
    "    return [HD, dHD]\n",
    "\n"
   ]
  },
  {
   "cell_type": "markdown",
   "metadata": {},
   "source": [
    "## Flyover"
   ]
  },
  {
   "cell_type": "markdown",
   "metadata": {},
   "source": [
    "### Modified code that wil be used to spiral around a point"
   ]
  },
  {
   "cell_type": "code",
   "execution_count": 6,
   "metadata": {},
   "outputs": [],
   "source": [
    "test_source = point_source(x_max, y_max, A_min, A_max)\n",
    "# print(test_source)\n"
   ]
  },
  {
   "cell_type": "code",
   "execution_count": 25,
   "metadata": {},
   "outputs": [
    {
     "name": "stdout",
     "output_type": "stream",
     "text": [
      "[[11198.740000000002, 12042.240000000002, 11134.62], [{'i': 1, 'j': 0}, {'i': 1, 'j': 1}, {'i': 0, 'j': 1}]]\n",
      "[10186.26, 37.7634267512894] \n",
      " [10590.720000000001, 38.50585410038323] \n",
      " [11213.160000000002, 39.621236729814484] \n",
      " [10624.460000000001, 38.56714145487063]\n"
     ]
    }
   ],
   "source": [
    "NORTH, S, W, E = (0, -1), (0, 1), (-1, 0), (1, 0) # directions\n",
    "anticlockwise = {NORTH: W, E: NORTH, S: E, W: S} # old -> new direction\n",
    "clockwise = {NORTH: E, E: S, S: W, W: NORTH}\n",
    "\n",
    "option1 = {\"rotation\": clockwise, \"special\": ''}\n",
    "option2 = {\"rotation\": clockwise, \"special\": 'up'}\n",
    "option3 = {\"rotation\": clockwise, \"special\": 'left+up'}\n",
    "option4 = {\"rotation\": anticlockwise, \"special\": 'up'}\n",
    "option5 = {\"rotation\": anticlockwise, \"special\": ''}\n",
    "\n",
    "def measure(x, y, source, doses, coordinates, radiation, detector):\n",
    "    X = grid_x[y, x]; Y = grid_y[y, x]; dose = dose_speed(source, X, Y, radiation, detector)[0]\n",
    "    doses.append(dose)\n",
    "    coordinates.append({\"i\": x, \"j\": y})\n",
    "    return {\"dos\": doses, \"coo\": coordinates}\n",
    "\n",
    "N_grid = grid\n",
    "dx, dy = (2*x_max)/N_grid, (2*y_max)/N_grid\n",
    "xs = np.linspace(-x_max + dx/2, x_max - dx/2, int(N_grid))\n",
    "ys = np.flip(np.linspace(-y_max + dy/2, y_max - dy/2, int(N_grid)))\n",
    "grid_x, grid_y = np.meshgrid(xs, ys)\n",
    "grid_x_noise, grid_y_noise = np.zeros((N_grid, N_grid)), np.zeros((N_grid, N_grid))\n",
    "data = {\"h\": h, \"A_b\": A_b, \"K\": K, \"F\": F, \"dt\": dt, \"grid_x_noise\": grid_x_noise, \"grid_y_noise\": grid_y_noise, \"noise\": []}\n",
    "\n",
    "def spiral(tehnical, option, source, radiation, detector, count_max=9):\n",
    "    doses = []; coordinates = []\n",
    "    width = tehnical[\"width\"]; height = tehnical[\"height\"]; start_x = tehnical[\"start_x\"]; start_y = tehnical[\"start_y\"]\n",
    "    turn_type = option[\"rotation\"]; special = option[\"special\"]\n",
    "    if width < 1 or height < 1:\n",
    "        raise ValueError\n",
    "    x, y = start_x, start_y # start near the center\n",
    "    dx, dy = NORTH # initial direction\n",
    "    matrix = [[None] * width for _ in range(height)]\n",
    "    count = 0\n",
    "    while True:\n",
    "        count += 1\n",
    "        \n",
    "        measuring = measure(x, y, source, doses, coordinates, radiation, detector)\n",
    "        doses = measuring[\"dos\"]; coordinates = measuring[\"coo\"]\n",
    "        matrix[y][x] = count\n",
    "    \n",
    "        if (special == \"up\" and count == 1):\n",
    "            count += 1\n",
    "            y -= 1\n",
    "\n",
    "            measuring = measure(x, y, source, doses, coordinates, radiation, detector)\n",
    "            doses = measuring[\"dos\"]; coordinates = measuring[\"coo\"]\n",
    "            matrix[y][x] = count\n",
    "\n",
    "        elif (special == \"left+up\" and count == 1):\n",
    "            count += 1\n",
    "            x -=1\n",
    "\n",
    "            measuring = measure(x, y, source, doses, coordinates, radiation, detector)\n",
    "            doses = measuring[\"dos\"]; coordinates = measuring[\"coo\"]\n",
    "            matrix[y][x] = count\n",
    "\n",
    "            count += 1\n",
    "            y -= 1\n",
    "\n",
    "            measuring = measure(x, y, source, doses, coordinates, radiation, detector)\n",
    "            doses = measuring[\"dos\"]; coordinates = measuring[\"coo\"]\n",
    "            matrix[y][x] = count\n",
    "\n",
    "        if count_max <= count:\n",
    "            return [doses[1:], coordinates[1:]]\n",
    "\n",
    "        # try to turn right\n",
    "        new_dx, new_dy = turn_type[dx,dy]\n",
    "        new_x, new_y = x + new_dx, y + new_dy\n",
    "        if not (0 <= new_x < width and 0 <= new_y < height):\n",
    "                return [doses[1:], coordinates[1:]] # nowhere to go\n",
    "        else:\n",
    "            if (0 <= new_x < width and 0 <= new_y < height and matrix[new_y][new_x] is None): # can turn right\n",
    "                x, y = new_x, new_y\n",
    "                dx, dy = new_dx, new_dy\n",
    "            else: # try to move straight\n",
    "                x, y = x + dx, y + dy\n",
    "                if not (0 <= x < width and 0 <= y < height):\n",
    "                    return [doses[1:], coordinates[1:]] # nowhere to go\n",
    "\n",
    "\n",
    "\n",
    "tehnical = {\"width\": grid, \"height\": grid, \"start_x\": 0, \"start_y\": 0}\n",
    "\n",
    "matrix = spiral(tehnical, option1, [0, 0, 1000], radiation, detector)\n",
    "# print_matrix(matrix)\n",
    "print(matrix)\n",
    "\n",
    "HD0 = dose_speed([0, 0, 1000], -3.5, 3.5, radiation, detector)\n",
    "HD1 = dose_speed([0, 0, 1000], -2.5, 3.5, radiation, detector)\n",
    "HD2 = dose_speed([0, 0, 1000], -2.5, 2.5, radiation, detector)\n",
    "HD3 = dose_speed([0, 0, 1000], -3.5, 2.5, radiation, detector)\n",
    "\n",
    "print(HD0, \"\\n\", HD1, \"\\n\", HD2, \"\\n\", HD3)\n"
   ]
  },
  {
   "cell_type": "code",
   "execution_count": null,
   "metadata": {},
   "outputs": [],
   "source": []
  },
  {
   "cell_type": "markdown",
   "metadata": {},
   "source": [
    "### Flyover actually"
   ]
  },
  {
   "cell_type": "code",
   "execution_count": null,
   "metadata": {},
   "outputs": [],
   "source": [
    "def improv_flyOver(radiation, detector, source = [], noise = []):\n",
    "    A_min, A_max, A_b, dt = radiation['A_min'], radiation['A_max'], radiation['A_b'], radiation['dt']\n",
    "    h, x_max, y_max, grid, K = detector['h'], detector['x_max'], detector['y_max'], detector['grid'], detector['detector_constant']\n",
    "    N_grid = grid\n",
    "    dx, dy = (2*x_max)/N_grid, (2*y_max)/N_grid\n",
    "    \n",
    "    # grid_x_noise, grid_y_noise = np.zeros((N_grid, N_grid)), np.zeros((N_grid, N_grid))\n",
    "    xs = np.linspace(-x_max + dx/2, x_max - dx/2, int(N_grid))\n",
    "    ys = np.flip(np.linspace(-y_max + dy/2, y_max - dy/2, int(N_grid)))\n",
    "    grid_x, grid_y = np.meshgrid(xs, ys)\n",
    "    grid_x_noise, grid_y_noise = np.zeros((N_grid, N_grid)), np.zeros((N_grid, N_grid))\n",
    "    map = np.zeros((N_grid, N_grid))\n",
    "    data = {\"h\": h, \"A_b\": A_b, \"K\": K, \"F\": F, \"dt\": dt, \"grid_x_noise\": grid_x_noise, \"grid_y_noise\": grid_y_noise, \"noise\": noise}\n",
    "\n",
    "    if len(source) == 0:\n",
    "        source = point_source(x_max, y_max, A_min, A_max)\n",
    "    \n",
    "    i, j = 0, 0\n",
    "    option = option1\n",
    "    x = grid_x[i, j]; y = grid_y[i, j]\n",
    "    tehnical = {\"width\": grid, \"height\": grid, \"start_x\": j, \"start_y\": i}\n",
    "    HD = dose_speed(source, x, y, data)[0]\n",
    "    \n",
    "    HDs = spiral(tehnical, option, source, grid_x, grid_y, data)[0]; coors = spiral(tehnical, option, source, grid_x, grid_y, data)[1]\n",
    "    # print(HDs)\n",
    "    HD_max = max(HDs)\n",
    "    max_i = HDs.index(HD_max)\n",
    "    while HD < HD_max:\n",
    "        print(HD_max)\n",
    "        input()\n",
    "        map[j, i] = HD\n",
    "        print(map)\n",
    "        input()\n",
    "        i = coors[max_i]['i']; j = coors[max_i]['j']\n",
    "        x = grid_x[i, j]; y = grid_y[i, j]\n",
    "        print(i, j)\n",
    "        print(x, y)\n",
    "        print(option)\n",
    "        input()\n",
    "\n",
    "        # def f(option):\n",
    "        #     tehnical['start_x'] = i; tehnical['start_y'] = j\n",
    "        #     HDs = spiral(tehnical, option1, source, grid_x, grid_y, data)[0]; coors = spiral(tehnical, option1, source, grid_x, grid_y, data)[1]\n",
    "        #     return [HDs, coors]\n",
    "\n",
    "        if j == 0: # top\n",
    "            option = option5\n",
    "        elif j == (N_grid -1): # bottom\n",
    "            option = option3\n",
    "        elif i == 0: # left\n",
    "            option = option2\n",
    "        elif i == (N_grid - 1): # right\n",
    "            option = option4\n",
    "        else: # middle\n",
    "            option = option1\n",
    "\n",
    "    return map\n",
    "\n",
    "improv_flyOver(radiation, detector, test_source)"
   ]
  },
  {
   "cell_type": "code",
   "execution_count": null,
   "metadata": {},
   "outputs": [],
   "source": []
  }
 ],
 "metadata": {
  "kernelspec": {
   "display_name": "Python 3.8.10 64-bit (microsoft store)",
   "language": "python",
   "name": "python3"
  },
  "language_info": {
   "codemirror_mode": {
    "name": "ipython",
    "version": 3
   },
   "file_extension": ".py",
   "mimetype": "text/x-python",
   "name": "python",
   "nbconvert_exporter": "python",
   "pygments_lexer": "ipython3",
   "version": "3.8.10"
  },
  "orig_nbformat": 4,
  "vscode": {
   "interpreter": {
    "hash": "85ad50d9bc146c85f3fc0e59d0a5f568038cb42bd91391f1b19a754b908c4ffe"
   }
  }
 },
 "nbformat": 4,
 "nbformat_minor": 2
}
