{
 "cells": [
  {
   "cell_type": "markdown",
   "metadata": {},
   "source": [
    "# Imports"
   ]
  },
  {
   "cell_type": "code",
   "execution_count": 6,
   "metadata": {},
   "outputs": [],
   "source": [
    "# code libraries\n",
    "import numpy as np\n",
    "import matplotlib.pyplot as plt\n",
    "from vector_class import TripleVector\n",
    "import random\n",
    "\n",
    "# code from simple single source\n",
    "# from simple_singlePoint_source import visualize\n"
   ]
  },
  {
   "cell_type": "markdown",
   "metadata": {},
   "source": [
    "# Parameters"
   ]
  },
  {
   "cell_type": "code",
   "execution_count": 7,
   "metadata": {},
   "outputs": [],
   "source": [
    "A_min = 1e3 # Bq\n",
    "A_max = 2e3 # Bq\n",
    "A_b = 5e-5 # Bq\n",
    "h = 10 # m\n",
    "dt = 100 # the pause on each point od the grid in s\n",
    "x_max = 4; sigma_x = 0.1 # m\n",
    "y_max = 4; sigma_y = 0.1 # m\n",
    "grid = 8\n",
    "n_bins = 20\n",
    "K = 0.1 # is somewhere in the interval [0, 1]\n",
    "F = 0.140 # factor for inhilation of Pu-239 in mSV/Bq\n",
    "\n",
    "radiation = {\"A_min\": A_min, \"A_max\": A_max, \"A_b\": A_b, \"dt\": dt, \"dose_factor\": F}\n",
    "detector = {\"h\": h, \"x_max\": x_max, \"y_max\": y_max, \"grid\": grid, \"detector_constant\": K} # the detector constant tells us the quality of the \n",
    "                                                                                          # detector\n",
    "\n"
   ]
  },
  {
   "cell_type": "markdown",
   "metadata": {},
   "source": [
    "## Flyover"
   ]
  },
  {
   "cell_type": "code",
   "execution_count": 17,
   "metadata": {},
   "outputs": [
    {
     "data": {
      "text/plain": [
       "[[25, 24, 23, 22, 21],\n",
       " [10, 9, 8, 7, 20],\n",
       " [11, 2, 1, 6, 19],\n",
       " [12, 3, 4, 5, 18],\n",
       " [13, 14, 15, 16, 17]]"
      ]
     },
     "execution_count": 17,
     "metadata": {},
     "output_type": "execute_result"
    }
   ],
   "source": [
    "NORTH, S, W, E = (0, -1), (0, 1), (-1, 0), (1, 0) # directions\n",
    "turn_left = {NORTH: W, E: NORTH, S: E, W: S} # old -> new direction\n",
    "\n",
    "def spiral(width, height):\n",
    "    if width < 1 or height < 1:\n",
    "        raise ValueError\n",
    "    x, y = width // 2, height // 2 # start near the center\n",
    "    dx, dy = NORTH # initial direction\n",
    "    matrix = [[None] * width for _ in range(height)]\n",
    "    count = 0\n",
    "    while True:\n",
    "        count += 1\n",
    "        matrix[y][x] = count # visit\n",
    "        # try to turn right\n",
    "        new_dx, new_dy = turn_left[dx,dy]\n",
    "        new_x, new_y = x + new_dx, y + new_dy\n",
    "        if (0 <= new_x < width and 0 <= new_y < height and\n",
    "            matrix[new_y][new_x] is None): # can turn right\n",
    "            x, y = new_x, new_y\n",
    "            dx, dy = new_dx, new_dy\n",
    "        else: # try to move straight\n",
    "            x, y = x + dx, y + dy\n",
    "            if not (0 <= x < width and 0 <= y < height):\n",
    "                return matrix # nowhere to go\n",
    "\n",
    "def print_matrix(matrix):\n",
    "    width = len(str(max(el for row in matrix for el in row if el is not None)))\n",
    "    fmt = \"{:0%dd}\" % width\n",
    "    for row in matrix:\n",
    "        print(\" \".join(\"_\"*width if el is None else fmt.format(el) for el in row))\n",
    "\n",
    "spiral(5, 5)\n"
   ]
  },
  {
   "cell_type": "code",
   "execution_count": 13,
   "metadata": {},
   "outputs": [],
   "source": [
    "# The goal is to improve the code so that the drone flies over the grid in a way that it firs locates the \"hotspot\" tile and then gathers the \n",
    "# information around it source. It dose this by flying around it in circles\n",
    "\n",
    "def activity(source, x, y, h, ru=0, rv=0):\n",
    "    u, v, A0 = source[0], source[1], source[2] # u, v are the coordinates of the source and A0 is its activity\n",
    "    return (A0*(ru**2 + rv**2 + h**2)) / ((x - (u - ru))**2 + (y - (v - rv))**2 + h**2)\n",
    "\n",
    "def point_source(x_max, y_max):\n",
    "    return [random.uniform(-x_max, x_max),random.uniform(-y_max, y_max)]\n",
    "\n",
    "def improv_flyOver(radiation, detector, source = []):\n",
    "    A_min, A_max, A_b, dt = radiation[\"A_min\"], radiation[\"A_max\"], radiation[\"A_b\"], radiation[\"dt\"]\n",
    "    h, x_max, y_max, grid, K = detector[\"h\"], detector[\"x_max\"], detector[\"y_max\"], detector[\"grid\"], detector[\"detector_constant\"]\n",
    "    N_grid = grid\n",
    "    dx, dy = (2*x_max)/N_grid, (2*y_max)/N_grid\n",
    "\n",
    "    \n",
    "    # grid_x_noise, grid_y_noise = np.zeros((N_grid, N_grid)), np.zeros((N_grid, N_grid))\n",
    "    xs = np.linspace(-x_max + dx/2, x_max - dx/2, int(N_grid))\n",
    "    ys = np.flip(np.linspace(-y_max + dy/2, y_max - dy/2, int(N_grid)))\n",
    "    grid_x, grid_y = np.meshgrid(xs, ys)\n",
    "\n",
    "    data = [A_b, K, F, dt]\n",
    "    map = np.zeros((N_grid, N_grid))\n",
    "\n",
    "    if len(source) == 0:\n",
    "        source = point_source(x_max, y_max)\n",
    "\n",
    "\n",
    "    i, j = N_grid - 1, 0\n",
    "    x = grid_x[i, j], y = grid_y[i, j]\n",
    "    HD_max = max([dose_speed(source, x + dx, y, h, *data), dose_speed(source, x + dx, y + dy, h, *data), dose_speed(source, x, y + dy, h), *data])\n",
    "    while dose_speed(source, x, y, h, *data) < HD_max:\n",
    "        if (i == (N_grid - 1)) and (j == 0):\n",
    "            print(\"Beginnig\")\n",
    "        elif j == 0:\n",
    "            print(\"Left\")\n",
    "        elif j == (N_grid -1):\n",
    "            print(\"Right\")\n",
    "        elif i == 0:\n",
    "            print(\"Top\")\n",
    "        elif i == (N_grid - 1):\n",
    "            print(\"Bottom\")\n",
    "        else:\n",
    "            print(\"Middle\")\n",
    "    \n",
    "    return\n",
    "\n",
    "def dose_speed(source, x, y, h, A_b, K, F, dt):\n",
    "    A = activity(source, x, y, h)\n",
    "    A_det = A * (1 - K)\n",
    "    N = np.random.poisson(A_det*dt)\n",
    "    N_b = np.random.poisson(A_b*dt) # background radiation\n",
    "    HD = F * (N + N_b)\n",
    "    dHD = F * np.sqrt(N + N_b)\n",
    "    return [HD, dHD]\n",
    "\n",
    "\n",
    "\n",
    "\n"
   ]
  },
  {
   "cell_type": "code",
   "execution_count": null,
   "metadata": {},
   "outputs": [],
   "source": []
  }
 ],
 "metadata": {
  "kernelspec": {
   "display_name": "Python 3.8.10 64-bit (microsoft store)",
   "language": "python",
   "name": "python3"
  },
  "language_info": {
   "codemirror_mode": {
    "name": "ipython",
    "version": 3
   },
   "file_extension": ".py",
   "mimetype": "text/x-python",
   "name": "python",
   "nbconvert_exporter": "python",
   "pygments_lexer": "ipython3",
   "version": "3.8.10"
  },
  "orig_nbformat": 4,
  "vscode": {
   "interpreter": {
    "hash": "85ad50d9bc146c85f3fc0e59d0a5f568038cb42bd91391f1b19a754b908c4ffe"
   }
  }
 },
 "nbformat": 4,
 "nbformat_minor": 2
}
