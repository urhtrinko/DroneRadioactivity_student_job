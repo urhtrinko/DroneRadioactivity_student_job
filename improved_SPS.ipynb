{
 "cells": [
  {
   "cell_type": "markdown",
   "metadata": {},
   "source": [
    "# Imports"
   ]
  },
  {
   "cell_type": "code",
   "execution_count": 14,
   "metadata": {},
   "outputs": [],
   "source": [
    "# code libraries\n",
    "import numpy as np\n",
    "import matplotlib.pyplot as plt\n",
    "from vector_class import TripleVector\n",
    "import random\n",
    "from scipy.optimize import curve_fit\n",
    "\n",
    "# code from simple single source\n",
    "# from simple_singlePoint_source import visualize\n"
   ]
  },
  {
   "cell_type": "code",
   "execution_count": 15,
   "metadata": {},
   "outputs": [],
   "source": [
    "# The goal is to improve the code so that the drone flies over the grid in a way that it firs locates the \"hotspot\" tile and then gathers the \n",
    "# information around it source. It dose this by flying around it in circles\n"
   ]
  },
  {
   "cell_type": "markdown",
   "metadata": {},
   "source": [
    "# Parameters"
   ]
  },
  {
   "cell_type": "code",
   "execution_count": 16,
   "metadata": {},
   "outputs": [],
   "source": [
    "A_min = 1e3 # Bq\n",
    "A_max = 2e3 # Bq\n",
    "A_b = 5e-5 # Bq\n",
    "h = 10 # m\n",
    "dt = 100 # the pause on each point od the grid in s\n",
    "x_max = 4; sigma_x = 0.1 # m\n",
    "y_max = 4; sigma_y = 0.1 # m\n",
    "grid = 10\n",
    "n_bins = 10\n",
    "K = 0.1 # is somewhere in the interval [0, 1]\n",
    "F = 0.140 # factor for inhilation of Pu-239 in mSV/Bq\n",
    "\n",
    "\"\"\n",
    "n_points = 100\n",
    "max_phi = 12*np.pi\n",
    "\n",
    "radiation = {\"A_min\": A_min, \"A_max\": A_max, \"A_b\": A_b, \"dt\": dt, \"dose_factor\": F}\n",
    "detector = {\"h\": h, \"x_max\": x_max, \"y_max\": y_max, \"grid\": grid, \"detector_constant\": K, \"n_points\": n_points, \"max_phi\": max_phi} # the detector constant tells us the quality of the \n",
    "                                                                                          # detector"
   ]
  },
  {
   "cell_type": "markdown",
   "metadata": {},
   "source": [
    "## Subsidary code"
   ]
  },
  {
   "cell_type": "code",
   "execution_count": 17,
   "metadata": {},
   "outputs": [],
   "source": [
    "def activity(source, x, y, h, ru=0, rv=0):\n",
    "    u, v, A0 = source[0], source[1], source[2] # u, v are the coordinates of the source and A0 is its activity\n",
    "    return (A0*(ru**2 + rv**2 + h**2)) / ((x - (u - ru))**2 + (y - (v - rv))**2 + h**2)\n",
    "\n",
    "def point_source(x_max, y_max, A_min, A_max, x_min=0, y_min=0):\n",
    "    if (x_min == 0) and (y_min == 0):    \n",
    "        return [random.uniform(-x_max, x_max), random.uniform(-y_max, y_max), random.uniform(A_min, A_max)]\n",
    "    else:\n",
    "        return [random.uniform(x_min, x_max), random.uniform(y_min, y_max), random.uniform(A_min, A_max)]\n",
    "\n",
    "# def simulated_event(source, x, y, h, grid_x_noise, grid_y_noise, noise=[], n=\"None\", m=\"None\"):\n",
    "#     A = activity(source, x, y, h)\n",
    "#     A_det = A * (1 - K)\n",
    "#     N = np.random.poisson(A_det * dt)\n",
    "#     N_b = np.random.poisson(A_b * dt)# background radiation\n",
    "\n",
    "#     # Add noise to the location data because of the GPS uncertianty\n",
    "\n",
    "#     if len(noise) != 0:\n",
    "#         if (n != \"None\" and m != \"None\"):\n",
    "#             sigma_x = noise[0]; sigma_y = noise[1]\n",
    "#             grid_x_noise[n, m] = x + np.random.normal(0, sigma_x)\n",
    "#             grid_y_noise[n, m] = y + np.random.normal(0, sigma_y)\n",
    "#         else:\n",
    "#             sigma_x = noise[0]; sigma_y = noise[1]\n",
    "#             x += np.random.normal(0, sigma_x)\n",
    "#             y += np.random.normal(0, sigma_y)\n",
    "\n",
    "#     return {\"number\": N, \"N_b\": N_b, \"grid_x_noise\": grid_x_noise, \"grid_y_noise\": grid_y_noise, \"x\": x, \"y\": y}Sž\n",
    "\n",
    "def dose_speed_xy(source, x, y, radiation, detector):\n",
    "    A_b, dt = radiation[\"A_b\"], radiation[\"dt\"]\n",
    "    h, K = detector[\"h\"], detector[\"detector_constant\"]\n",
    "    \n",
    "    A = activity(source, x, y, h)\n",
    "    A_det = A * (1 - K)\n",
    "    N = np.random.poisson(A_det * dt)\n",
    "    N_b = np.random.poisson(A_b * dt)# background radiation\n",
    "\n",
    "    HD = F * (N + N_b)\n",
    "\n",
    "\n",
    "    dHD = F * np.sqrt(N + N_b)\n",
    "    return [HD, dHD]\n",
    "\n"
   ]
  },
  {
   "cell_type": "markdown",
   "metadata": {},
   "source": [
    "## Flyover"
   ]
  },
  {
   "cell_type": "markdown",
   "metadata": {},
   "source": [
    "### Modified code that wil be used to spiral around a point"
   ]
  },
  {
   "cell_type": "code",
   "execution_count": 18,
   "metadata": {},
   "outputs": [],
   "source": [
    "test_source = point_source(x_max, y_max, A_min, A_max)\n",
    "# print(test_source)\n"
   ]
  },
  {
   "cell_type": "code",
   "execution_count": 19,
   "metadata": {},
   "outputs": [],
   "source": [
    "NORTH, S, W, E = (0, -1), (0, 1), (-1, 0), (1, 0) # directions\n",
    "anticlockwise = {NORTH: W, E: NORTH, S: E, W: S} # old -> new direction\n",
    "clockwise = {NORTH: E, E: S, S: W, W: NORTH}\n",
    "\n",
    "option1 = {\"rotation\": clockwise, \"special\": ''}\n",
    "option2 = {\"rotation\": clockwise, \"special\": 'up'}\n",
    "option3 = {\"rotation\": clockwise, \"special\": 'left+up'}\n",
    "option4 = {\"rotation\": anticlockwise, \"special\": 'up'}\n",
    "option5 = {\"rotation\": anticlockwise, \"special\": ''}\n",
    "\n",
    "def measure(x, y, source, doses, coordinates, radiation, detector):\n",
    "    X = grid_x[y, x]; Y = grid_y[y, x]; dose = dose_speed(source, X, Y, radiation, detector)[0]\n",
    "    doses.append(dose)\n",
    "    coordinates.append({\"i\": x, \"j\": y})\n",
    "    return {\"dos\": doses, \"coo\": coordinates}\n",
    "\n",
    "N_grid = grid\n",
    "dx, dy = (2*x_max)/N_grid, (2*y_max)/N_grid\n",
    "xs = np.linspace(-x_max + dx/2, x_max - dx/2, int(N_grid))\n",
    "ys = np.flip(np.linspace(-y_max + dy/2, y_max - dy/2, int(N_grid)))\n",
    "grid_x, grid_y = np.meshgrid(xs, ys)\n",
    "grid_x_noise, grid_y_noise = np.zeros((N_grid, N_grid)), np.zeros((N_grid, N_grid))\n",
    "data = {\"h\": h, \"A_b\": A_b, \"K\": K, \"F\": F, \"dt\": dt, \"grid_x_noise\": grid_x_noise, \"grid_y_noise\": grid_y_noise, \"noise\": []}\n",
    "\n",
    "def spiral(tehnical, option, source, radiation, detector, count_max=9):\n",
    "    doses = []; coordinates = []\n",
    "    width = tehnical[\"width\"]; height = tehnical[\"height\"]; start_x = tehnical[\"start_x\"]; start_y = tehnical[\"start_y\"]\n",
    "    turn_type = option[\"rotation\"]; special = option[\"special\"]\n",
    "    if width < 1 or height < 1:\n",
    "        raise ValueError\n",
    "    x, y = start_x, start_y # start near the center\n",
    "    dx, dy = NORTH # initial direction\n",
    "    matrix = [[None] * width for _ in range(height)]\n",
    "    count = 0\n",
    "    while True:\n",
    "        count += 1\n",
    "        \n",
    "        measuring = measure(x, y, source, doses, coordinates, radiation, detector)\n",
    "        doses = measuring[\"dos\"]; coordinates = measuring[\"coo\"]\n",
    "        matrix[y][x] = count\n",
    "    \n",
    "        if (special == \"up\" and count == 1):\n",
    "            count += 1\n",
    "            y -= 1\n",
    "\n",
    "            measuring = measure(x, y, source, doses, coordinates, radiation, detector)\n",
    "            doses = measuring[\"dos\"]; coordinates = measuring[\"coo\"]\n",
    "            matrix[y][x] = count\n",
    "\n",
    "        elif (special == \"left+up\" and count == 1):\n",
    "            count += 1\n",
    "            x -=1\n",
    "\n",
    "            measuring = measure(x, y, source, doses, coordinates, radiation, detector)\n",
    "            doses = measuring[\"dos\"]; coordinates = measuring[\"coo\"]\n",
    "            matrix[y][x] = count\n",
    "\n",
    "            count += 1\n",
    "            y -= 1\n",
    "\n",
    "            measuring = measure(x, y, source, doses, coordinates, radiation, detector)\n",
    "            doses = measuring[\"dos\"]; coordinates = measuring[\"coo\"]\n",
    "            matrix[y][x] = count\n",
    "\n",
    "        if count_max <= count:\n",
    "            return [doses[1:], coordinates[1:]]\n",
    "\n",
    "        # try to turn right\n",
    "        new_dx, new_dy = turn_type[dx,dy]\n",
    "        new_x, new_y = x + new_dx, y + new_dy\n",
    "        if not (0 <= new_x < width and 0 <= new_y < height):\n",
    "                return [doses[1:], coordinates[1:]] # nowhere to go\n",
    "        else:\n",
    "            if (0 <= new_x < width and 0 <= new_y < height and matrix[new_y][new_x] is None): # can turn right\n",
    "                x, y = new_x, new_y\n",
    "                dx, dy = new_dx, new_dy\n",
    "            else: # try to move straight\n",
    "                x, y = x + dx, y + dy\n",
    "                if not (0 <= x < width and 0 <= y < height):\n",
    "                    return [doses[1:], coordinates[1:]] # nowhere to go\n",
    "\n",
    "\n",
    "\n",
    "tehnical = {\"width\": grid, \"height\": grid, \"start_x\": 0, \"start_y\": 0}\n",
    "\n"
   ]
  },
  {
   "cell_type": "code",
   "execution_count": null,
   "metadata": {},
   "outputs": [],
   "source": []
  },
  {
   "cell_type": "markdown",
   "metadata": {},
   "source": [
    "### Flyover actually"
   ]
  },
  {
   "cell_type": "code",
   "execution_count": 20,
   "metadata": {},
   "outputs": [],
   "source": [
    "def dose_speed(source, i, j, radiation, detector, grid_x, grid_y):\n",
    "    A_b, dt = radiation[\"A_b\"], radiation[\"dt\"]\n",
    "    h, K = detector[\"h\"], detector[\"detector_constant\"]\n",
    "\n",
    "    x = grid_x[i, j]; y = grid_y[i, j]\n",
    "\n",
    "    A = activity(source, x, y, h)\n",
    "    A_det = A * (1 - K)\n",
    "    N = np.random.poisson(A_det * dt)\n",
    "    N_b = np.random.poisson(A_b * dt)# background radiation\n",
    "\n",
    "    HD = F * (N + N_b)\n",
    "\n",
    "    dHD = F * np.sqrt(N + N_b)\n",
    "    return [HD, dHD]\n",
    "\n",
    "def make_list(source, i, j, radiation, detector, grid_x, grid_y):\n",
    "    N_grid = detector['grid']\n",
    "    HDs = []; direction = []\n",
    "    if j != (N_grid - 1): # go right\n",
    "        HDs0 = dose_speed(source, i, j + 1, radiation, detector, grid_x, grid_y)\n",
    "        HDs.append(HDs0[0])\n",
    "        direction.append(0)\n",
    "    if (i != (N_grid - 1)) and (j != (N_grid - 1)): # go diagonally\n",
    "        HDs1 = dose_speed(source, i + 1, j + 1, radiation, detector, grid_x, grid_y)\n",
    "        HDs.append(HDs1[0])\n",
    "        direction.append(1)\n",
    "    if i != (N_grid - 1): # go left\n",
    "        HDs2 = dose_speed(source, i + 1, j, radiation, detector, grid_x, grid_y)\n",
    "        HDs.append(HDs2[0])\n",
    "        direction.append(2)\n",
    "    max_HD = max(HDs)\n",
    "    max_id = HDs.index(max_HD)\n",
    "    d = direction[max_id]\n",
    "    return [d, max_HD]\n",
    "\n",
    "def r_ArhSpir(phi, k=1):\n",
    "    return k * phi\n",
    "\n",
    "def improv_flyOver(radiation, detector, source = []):\n",
    "    A_min, A_max, A_b, dt = radiation['A_min'], radiation['A_max'], radiation['A_b'], radiation['dt']\n",
    "    h, x_max, y_max, N_grid, K = detector['h'], detector['x_max'], detector['y_max'], detector['grid'], detector['detector_constant']\n",
    "    n_points, max_phi = detector['n_points'], detector['max_phi']\n",
    "    dx, dy = (2*x_max)/N_grid, (2*y_max)/N_grid\n",
    "    \n",
    "    # grid_x_noise, grid_y_noise = np.zeros((N_grid, N_grid)), np.zeros((N_grid, N_grid))\n",
    "    xs = np.linspace(-x_max + dx/2, x_max - dx/2, int(N_grid))\n",
    "    ys = np.flip(np.linspace(-y_max + dy/2, y_max - dy/2, int(N_grid)))\n",
    "    grid_x, grid_y = np.meshgrid(xs, ys)\n",
    "    # grid_x_noise, grid_y_noise = np.zeros((N_grid, N_grid)), np.zeros((N_grid, N_grid))\n",
    "    map = np.zeros((N_grid, N_grid))\n",
    "    \n",
    "    if len(source) == 0:\n",
    "        source = point_source(x_max, y_max, A_min, A_max)\n",
    "\n",
    "    i, j = 0, 0\n",
    "    HD = dose_speed(source, i, j, radiation, detector, grid_x, grid_y)[0]\n",
    "    HD_max = 0\n",
    "    while ((HD < HD_max) and (i != (N_grid - 1) and j != (N_grid - 1)))  or (i == 0 and j == 0):\n",
    "            map[i, j] = HD\n",
    "            d = make_list(source, i, j, radiation, detector, grid_x, grid_y)[0]\n",
    "            if d == 0: # go right\n",
    "                j += 1\n",
    "            elif d == 1: # go diagonally\n",
    "                i +=1; j += 1\n",
    "            else: # go down\n",
    "                i += 1\n",
    "            HD = dose_speed(source, i, j, radiation, detector, grid_x, grid_y)[0]\n",
    "            HD_max = make_list(source, i, j, radiation, detector, grid_x, grid_y)[1]\n",
    "    map[i, j] = HD\n",
    "    x_h = grid_x[i, j]; y_h = grid_y[i, j]\n",
    "    phis = np.linspace(0, max_phi, n_points)\n",
    "    if x_max <= y_max:\n",
    "        k = x_max / (max_phi * np.cos(max_phi))\n",
    "    else:\n",
    "        k = y_max / (max_phi * np.sin(max_phi))\n",
    "    x_data = []; y_data = []\n",
    "    HDs = []; dHDs = []\n",
    "    for phi in phis:\n",
    "        r = r_ArhSpir(phi, k)\n",
    "        x_data.append(r*np.cos(phi) + x_h)\n",
    "        y_data.append(r*np.sin(phi) + y_h)\n",
    "        List = dose_speed_xy(source, x_data[-1], y_data[-1], radiation, detector)\n",
    "        HDs.append(List[0]); dHDs.append(List[1])\n",
    "\n",
    "    return {\"m_dose\": np.array(HDs), \"dm_dose\": dHDs, \"maps\": map, \"source\": source, \"x_max\": x_max, \"y_max\": y_max, \"hotspot\": [x_h, y_h], \"x_data\": np.array(x_data), \"y_data\": np.array(y_data)}\n",
    "\n",
    "source00 = [0, 0, 1e6]\n",
    "sourcex0 = [3.6, 0, 1000]\n",
    "source0y = [0, 3.6, 1000]\n",
    "measurement = improv_flyOver(radiation, detector)\n",
    "\n",
    "\n",
    "    "
   ]
  },
  {
   "cell_type": "markdown",
   "metadata": {},
   "source": [
    "## Finding source"
   ]
  },
  {
   "cell_type": "code",
   "execution_count": 21,
   "metadata": {},
   "outputs": [],
   "source": [
    "def improv_locationCF(measurement, detector):\n",
    "    x_data = measurement['x_data']\n",
    "    y_data = measurement['y_data']\n",
    "    h, x_max, y_max = detector['h'], detector['x_max'], detector['y_max']\n",
    "\n",
    "    XY = np.vstack((x_data, y_data))\n",
    "    HDs = measurement['m_dose']\n",
    "    dHDs = measurement['dm_dose']\n",
    "\n",
    "    source0 = [random.uniform(-x_max, x_max), random.uniform(-y_max, y_max), 1]\n",
    "\n",
    "    def dose(x, y, u, v, alpha):\n",
    "        return alpha / ((x - u)**2 + (y - v)**2 + h**2)\n",
    "\n",
    "    def __dose(M, *args): # M is a table of shape (N, 2), where each row is a new point of measurement, N is the number of measuremnts\n",
    "        x, y = M\n",
    "        arr = np.zeros(x.shape)\n",
    "        for i in range(len(args)//3):\n",
    "            arr += dose(x, y, *args[i*3:i*3+3])\n",
    "        return arr\n",
    "\n",
    "    popt, pcov = curve_fit(__dose, XY, HDs, source0, sigma = dHDs, absolute_sigma = True, method=\"lm\")\n",
    "    perr = np.sqrt(np.diag(pcov))\n",
    "    \n",
    "\n",
    "    MyDict = {\"XY\": XY, \"Ns\": HDs, \"source0\": source0}\n",
    "\n",
    "    return popt, perr, MyDict\n",
    "\n",
    "\n"
   ]
  },
  {
   "cell_type": "markdown",
   "metadata": {},
   "source": [
    "## Combination"
   ]
  },
  {
   "cell_type": "code",
   "execution_count": 25,
   "metadata": {},
   "outputs": [],
   "source": [
    "\n",
    "# combines the detector flyover and the location detection\n",
    "def combination(radiation, detector, source=[]):\n",
    "    measurement = improv_flyOver(radiation, detector, source)\n",
    "    sourceCF, stDev = improv_locationCF(measurement, detector)[0], improv_locationCF(measurement, detector)[1]\n",
    "    return {'measurement': measurement, 'sourceCF': sourceCF, \"sourceCF_stDev\": stDev}\n",
    "\n",
    "data = combination(radiation, detector)"
   ]
  },
  {
   "cell_type": "markdown",
   "metadata": {},
   "source": [
    "## Visualization"
   ]
  },
  {
   "cell_type": "code",
   "execution_count": 23,
   "metadata": {},
   "outputs": [
    {
     "data": {
      "image/png": "[encoded data removed]",
      "text/plain": [
       "<Figure size 1080x432 with 3 Axes>"
      ]
     },
     "metadata": {
      "needs_background": "light"
     },
     "output_type": "display_data"
    }
   ],
   "source": [
    "def visualize(data):\n",
    "    measurement = data['measurement']\n",
    "    estimate = data['sourceCF']\n",
    "\n",
    "    X, Y = measurement['source'][0], measurement['source'][1]\n",
    "    x_max, y_max = measurement['x_max'], measurement['y_max']\n",
    "    HDs = measurement['m_dose']\n",
    "\n",
    "    fig, (ax1, ax2) = plt.subplots(nrows = 1, ncols = 2, figsize = (15, 6))\n",
    "    \n",
    "    im = ax1.imshow(measurement['maps'], extent=[-x_max,x_max,-y_max,y_max], aspect=\"auto\")\n",
    "    ax1.plot(X, Y, \"o\", color = 'r', ms=10, label = \"Original source\")\n",
    "    ax1.plot(estimate[0], estimate[1], 'o', color = \"b\", ms = 6, label = \"Estimated source\")\n",
    "\n",
    "    ax1.axis(\"equal\")\n",
    "    ax1.set_xlabel(\"X axis [m]\", fontsize = 15)\n",
    "    ax1.set_ylabel(\"Y axis [m]\", fontsize = 15)\n",
    "   \n",
    "    ax1.legend(fontsize = 15)\n",
    "\n",
    "    x_h, y_h = measurement['hotspot'][0], measurement['hotspot'][1]\n",
    "    x_data = measurement['x_data']; y_data = measurement['y_data']\n",
    "\n",
    "    ax2.plot(X, Y, 'o', color = 'r', ms=10, label = \"Original source\")\n",
    "    ax2.plot(x_h, y_h, 'o', color = 'k', ms=10, label = \"Hotspot point\")\n",
    "    im0 = ax2.scatter(x_data, y_data, c=HDs)\n",
    "    ax2.plot(estimate[0], estimate[1], 'o', color = \"b\", ms = 6, label = \"Estimated source\")\n",
    "\n",
    "\n",
    "    # ax2.plot(x_data, y_data, \"o\", color = \"k\", label = \"Measurements\")\n",
    "\n",
    "    ax2.set_xlabel(\"X axis [m]\", fontsize = 15)\n",
    "    ax2.set_ylabel(\"Y axis [m]\", fontsize = 15)\n",
    "   \n",
    "    ax2.legend(fontsize = 15)\n",
    "\n",
    "    fig.colorbar(im0, ax=ax2)\n",
    "\n",
    "    plt.tight_layout()\n",
    "    # plt.savefig(\"graphics/imporved.jpg\")\n",
    "    plt.show()\n",
    "    # return points[1]\n",
    "    # print(measurement[\"intensities_array\"], '\\n', measurement[\"grid_x\"], '\\n', measurement[\"grid_y\"])\n",
    "\n",
    "data = combination(radiation, detector)\n",
    "visualize(data)\n",
    "\n",
    "# An error that can occur is if we input to large of a number of grids the difference between the neighbouring tiles might be overshadowed by\n",
    "# the poisson distribution error of the detector. This will result in the detector stoping before reaching the hotspot tile.\n"
   ]
  },
  {
   "cell_type": "markdown",
   "metadata": {},
   "source": [
    "##"
   ]
  },
  {
   "cell_type": "markdown",
   "metadata": {},
   "source": [
    "# Tutorials"
   ]
  },
  {
   "cell_type": "code",
   "execution_count": null,
   "metadata": {},
   "outputs": [],
   "source": [
    "import numpy as np\n",
    "import matplotlib.pyplot as plt\n",
    "\n",
    "# Fixing random state for reproducibility\n",
    "np.random.seed(19680801)\n",
    "\n",
    "\n",
    "N = 50\n",
    "x = np.random.rand(N)\n",
    "y = np.random.rand(N)\n",
    "colors = np.random.rand(N)\n",
    "area = (30 * np.random.rand(N))**2  # 0 to 15 point radii\n",
    "\n",
    "print(type(x), \"\\n\", y.shape, \"\\n\", colors)\n",
    "\n",
    "plt.scatter(x, y, c=colors, alpha=0.5)\n",
    "plt.show()"
   ]
  },
  {
   "cell_type": "code",
   "execution_count": null,
   "metadata": {},
   "outputs": [],
   "source": []
  }
 ],
 "metadata": {
  "kernelspec": {
   "display_name": "Python 3.8.10 64-bit (microsoft store)",
   "language": "python",
   "name": "python3"
  },
  "language_info": {
   "codemirror_mode": {
    "name": "ipython",
    "version": 3
   },
   "file_extension": ".py",
   "mimetype": "text/x-python",
   "name": "python",
   "nbconvert_exporter": "python",
   "pygments_lexer": "ipython3",
   "version": "3.8.10"
  },
  "orig_nbformat": 4,
  "vscode": {
   "interpreter": {
    "hash": "85ad50d9bc146c85f3fc0e59d0a5f568038cb42bd91391f1b19a754b908c4ffe"
   }
  }
 },
 "nbformat": 4,
 "nbformat_minor": 2
}
