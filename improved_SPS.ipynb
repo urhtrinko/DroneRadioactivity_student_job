{
 "cells": [
  {
   "cell_type": "markdown",
   "metadata": {},
   "source": [
    "# Imports"
   ]
  },
  {
   "cell_type": "code",
   "execution_count": 1,
   "metadata": {},
   "outputs": [],
   "source": [
    "# code libraries\n",
    "import numpy as np\n",
    "import matplotlib.pyplot as plt\n",
    "from vector_class import TripleVector\n",
    "import random\n",
    "\n",
    "# code from simple single source\n",
    "# from simple_singlePoint_source import visualize\n"
   ]
  },
  {
   "cell_type": "markdown",
   "metadata": {},
   "source": [
    "# Parameters"
   ]
  },
  {
   "cell_type": "code",
   "execution_count": 2,
   "metadata": {},
   "outputs": [],
   "source": [
    "A_min = 1e3 # Bq\n",
    "A_max = 2e3 # Bq\n",
    "A_b = 5e-5 # Bq\n",
    "h = 10 # m\n",
    "dt = 100 # the pause on each point od the grid in s\n",
    "width = 4; sigma_x = 0.1 # m\n",
    "y_max = 4; sigma_y = 0.1 # m\n",
    "grid = 8\n",
    "n_bins = 20\n",
    "K = 0.1 # is somewhere in the interval [0, 1]\n",
    "F = 0.140 # factor for inhilation of Pu-239 in mSV/Bq\n",
    "\n",
    "radiation = {\"A_min\": A_min, \"A_max\": A_max, \"A_b\": A_b, \"dt\": dt, \"dose_factor\": F}\n",
    "detector = {\"h\": h, \"width\": width, \"y_max\": y_max, \"grid\": grid, \"detector_constant\": K} # the detector constant tells us the quality of the \n",
    "                                                                                          # detector\n",
    "\n"
   ]
  },
  {
   "cell_type": "markdown",
   "metadata": {},
   "source": [
    "## Flyover"
   ]
  },
  {
   "cell_type": "code",
   "execution_count": 45,
   "metadata": {},
   "outputs": [
    {
     "name": "stdout",
     "output_type": "stream",
     "text": [
      "_ _ _ _ _\n",
      "_ 6 1 2 _\n",
      "_ 5 4 3 _\n",
      "_ _ _ _ _\n",
      "_ _ _ _ _\n"
     ]
    }
   ],
   "source": [
    "NORTH, S, W, E = (0, -1), (0, 1), (-1, 0), (1, 0) # directions\n",
    "clokwise = {NORTH: W, E: NORTH, S: E, W: S} # old -> new direction\n",
    "anticlokwise = {NORTH: E, E: S, S: W, W: NORTH}\n",
    "\n",
    "turn_right = {NORTH: E, E: S, S: W, W: NORTH}\n",
    "\n",
    "\n",
    "def spiral(start_x, start_y, size_x, size_y, width, height, count_max):\n",
    "    stop_x = start_x + (size_x - 1); stop_y = start_y + (size_y - 1)\n",
    "    if stop_x < 1 or stop_y < 1:\n",
    "        raise ValueError\n",
    "    if width <= stop_x or height <= stop_y or stop_x <= size_x -1 or stop_y <= size_y - 1:\n",
    "        raise ValueError\n",
    "    x, y = 2, 1 # start near the center\n",
    "    dx, dy = NORTH # initial direction\n",
    "    matrix = [[None] * width for _ in range(height)]\n",
    "    count = 0\n",
    "    while True:\n",
    "        count += 1\n",
    "        matrix[y][x] = count # visit\n",
    "        if count_max <= count:\n",
    "            return matrix\n",
    "        # try to turn right\n",
    "        new_dx, new_dy = turn_right[dx,dy]\n",
    "        new_x, new_y = x + new_dx, y + new_dy\n",
    "        if (0 <= new_x < stop_x and 0 <= new_y < stop_y and matrix[new_y][new_x] is None): # can turn right\n",
    "            x, y = new_x, new_y\n",
    "            dx, dy = new_dx, new_dy\n",
    "        else: # try to move straight\n",
    "            x, y = x + dx, y + dy\n",
    "            if not (0 <= x < stop_x and 0 <= y < stop_y):\n",
    "                return matrix # nowhere to go\n",
    "\n",
    "def print_matrix(matrix):\n",
    "    stop_x = len(str(max(el for row in matrix for el in row if el is not None)))\n",
    "    fmt = \"{:0%dd}\" % stop_x\n",
    "    for row in matrix:\n",
    "        print(\" \".join(\"_\"*stop_x if el is None else fmt.format(el) for el in row))\n",
    "        \n",
    "matrix =spiral(2, 2, 3, 3, 5, 5, 6)\n",
    "print_matrix(matrix)\n",
    "\n"
   ]
  },
  {
   "cell_type": "code",
   "execution_count": 4,
   "metadata": {},
   "outputs": [],
   "source": [
    "# The goal is to improve the code so that the drone flies over the grid in a way that it firs locates the \"hotspot\" tile and then gathers the \n",
    "# information around it source. It dose this by flying around it in circles\n",
    "\n",
    "def activity(source, x, y, h, ru=0, rv=0):\n",
    "    u, v, A0 = source[0], source[1], source[2] # u, v are the coordinates of the source and A0 is its activity\n",
    "    return (A0*(ru**2 + rv**2 + h**2)) / ((x - (u - ru))**2 + (y - (v - rv))**2 + h**2)\n",
    "\n",
    "def point_source(x_max, y_max):\n",
    "    return [random.uniform(-x_max, x_max),random.uniform(-y_max, y_max)]\n",
    "\n",
    "def improv_flyOver(radiation, detector, source = []):\n",
    "    A_min, A_max, A_b, dt = radiation[\"A_min\"], radiation[\"A_max\"], radiation[\"A_b\"], radiation[\"dt\"]\n",
    "    h, x_max, y_max, grid, K = detector[\"h\"], detector[\"x_max\"], detector[\"y_max\"], detector[\"grid\"], detector[\"detector_constant\"]\n",
    "    N_grid = grid\n",
    "    dx, dy = (2*x_max)/N_grid, (2*y_max)/N_grid\n",
    "\n",
    "    \n",
    "    # grid_x_noise, grid_y_noise = np.zeros((N_grid, N_grid)), np.zeros((N_grid, N_grid))\n",
    "    xs = np.linspace(-x_max + dx/2, x_max - dx/2, int(N_grid))\n",
    "    ys = np.flip(np.linspace(-y_max + dy/2, y_max - dy/2, int(N_grid)))\n",
    "    grid_x, grid_y = np.meshgrid(xs, ys)\n",
    "\n",
    "    data = [A_b, K, F, dt]\n",
    "    map = np.zeros((N_grid, N_grid))\n",
    "\n",
    "    if len(source) == 0:\n",
    "        source = point_source(x_max, y_max)\n",
    "\n",
    "\n",
    "    i, j = N_grid - 1, 0\n",
    "    x = grid_x[i, j], y = grid_y[i, j]\n",
    "    HD_max = max([dose_speed(source, x + dx, y, h, *data), dose_speed(source, x + dx, y + dy, h, *data), dose_speed(source, x, y + dy, h), *data])\n",
    "    while dose_speed(source, x, y, h, *data) < HD_max:\n",
    "        if (i == (N_grid - 1)) and (j == 0):\n",
    "            print(\"Beginnig\")\n",
    "        elif j == 0:\n",
    "            print(\"Left\")\n",
    "        elif j == (N_grid -1):\n",
    "            print(\"Right\")\n",
    "        elif i == 0:\n",
    "            print(\"Top\")\n",
    "        elif i == (N_grid - 1):\n",
    "            print(\"Bottom\")\n",
    "        else:\n",
    "            print(\"Middle\")\n",
    "    \n",
    "    return\n",
    "\n",
    "def dose_speed(source, x, y, h, A_b, K, F, dt):\n",
    "    A = activity(source, x, y, h)\n",
    "    A_det = A * (1 - K)\n",
    "    N = np.random.poisson(A_det*dt)\n",
    "    N_b = np.random.poisson(A_b*dt) # background radiation\n",
    "    HD = F * (N + N_b)\n",
    "    dHD = F * np.sqrt(N + N_b)\n",
    "    return [HD, dHD]\n",
    "\n",
    "\n",
    "\n",
    "\n"
   ]
  },
  {
   "cell_type": "code",
   "execution_count": null,
   "metadata": {},
   "outputs": [],
   "source": []
  }
 ],
 "metadata": {
  "kernelspec": {
   "display_name": "Python 3.8.10 64-bit (microsoft store)",
   "language": "python",
   "name": "python3"
  },
  "language_info": {
   "codemirror_mode": {
    "name": "ipython",
    "version": 3
   },
   "file_extension": ".py",
   "mimetype": "text/x-python",
   "name": "python",
   "nbconvert_exporter": "python",
   "pygments_lexer": "ipython3",
   "version": "3.8.10"
  },
  "orig_nbformat": 4,
  "vscode": {
   "interpreter": {
    "hash": "85ad50d9bc146c85f3fc0e59d0a5f568038cb42bd91391f1b19a754b908c4ffe"
   }
  }
 },
 "nbformat": 4,
 "nbformat_minor": 2
}
