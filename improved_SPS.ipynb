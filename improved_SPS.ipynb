{
 "cells": [
  {
   "cell_type": "markdown",
   "metadata": {},
   "source": [
    "# Imports"
   ]
  },
  {
   "cell_type": "code",
   "execution_count": 3,
   "metadata": {},
   "outputs": [],
   "source": [
    "# code libraries\n",
    "import numpy as np\n",
    "import matplotlib.pyplot as plt\n",
    "from vector_class import TripleVector\n",
    "import random\n",
    "\n",
    "# code from simple single source\n",
    "# from simple_singlePoint_source import visualize\n"
   ]
  },
  {
   "cell_type": "code",
   "execution_count": 2,
   "metadata": {},
   "outputs": [],
   "source": [
    "# The goal is to improve the code so that the drone flies over the grid in a way that it firs locates the \"hotspot\" tile and then gathers the \n",
    "# information around it source. It dose this by flying around it in circles\n"
   ]
  },
  {
   "cell_type": "markdown",
   "metadata": {},
   "source": [
    "# Parameters"
   ]
  },
  {
   "cell_type": "code",
   "execution_count": 16,
   "metadata": {},
   "outputs": [],
   "source": [
    "A_min = 1e3 # Bq\n",
    "A_max = 2e3 # Bq\n",
    "A_b = 5e-5 # Bq\n",
    "h = 10 # m\n",
    "dt = 100 # the pause on each point od the grid in s\n",
    "x_max = 4; sigma_x = 0.1 # m\n",
    "y_max = 4; sigma_y = 0.1 # m\n",
    "grid = 8\n",
    "n_bins = 20\n",
    "K = 0.1 # is somewhere in the interval [0, 1]\n",
    "F = 0.140 # factor for inhilation of Pu-239 in mSV/Bq\n",
    "\n",
    "radiation = {\"A_min\": A_min, \"A_max\": A_max, \"A_b\": A_b, \"dt\": dt, \"dose_factor\": F}\n",
    "detector = {\"h\": h, \"width\": x_max, \"y_max\": y_max, \"grid\": grid, \"detector_constant\": K} # the detector constant tells us the quality of the \n",
    "                                                                                          # detector\n",
    "\n"
   ]
  },
  {
   "cell_type": "markdown",
   "metadata": {},
   "source": [
    "## Subsidary code"
   ]
  },
  {
   "cell_type": "code",
   "execution_count": 41,
   "metadata": {},
   "outputs": [],
   "source": [
    "def activity(source, x, y, h, ru=0, rv=0):\n",
    "    u, v, A0 = source[0], source[1], source[2] # u, v are the coordinates of the source and A0 is its activity\n",
    "    return (A0*(ru**2 + rv**2 + h**2)) / ((x - (u - ru))**2 + (y - (v - rv))**2 + h**2)\n",
    "\n",
    "def point_source(x_max, y_max, A_min, A_max, x_min=0, y_min=0):\n",
    "    if (x_min == 0) and (y_min == 0):    \n",
    "        return [random.uniform(-x_max, x_max), random.uniform(-y_max, y_max), random.uniform(A_min, A_max)]\n",
    "    else:\n",
    "        return [random.uniform(x_min, x_max), random.uniform(y_min, y_max), random.uniform(A_min, A_max)]\n",
    "\n",
    "def simulated_event(source, x, y, h, grid_x_noise, grid_y_noise, noise=[], n=\"None\", m=\"None\"):\n",
    "    A = activity(source, x, y, h)\n",
    "    A_det = A * (1 - K)\n",
    "    N = np.random.poisson(A_det * dt)\n",
    "    N_b = np.random.poisson(A_b * dt)# background radiation\n",
    "\n",
    "    # Add noise to the location data because of the GPS uncertianty\n",
    "\n",
    "    if len(noise) != 0:\n",
    "        if (n != \"None\" and m != \"None\"):\n",
    "            sigma_x = noise[0]; sigma_y = noise[1]\n",
    "            grid_x_noise[n, m] = x + np.random.normal(0, sigma_x)\n",
    "            grid_y_noise[n, m] = y + np.random.normal(0, sigma_y)\n",
    "        else:\n",
    "            sigma_x = noise[0]; sigma_y = noise[1]\n",
    "            x += np.random.normal(0, sigma_x)\n",
    "            y += np.random.normal(0, sigma_y)\n",
    "\n",
    "    return {\"N\": N, \"N_b\": N_b, \"grid_x_noise\": grid_x_noise, \"grid_y_noise\": grid_y_noise, \"x\": x, \"y\": y}\n",
    "\n",
    "def dose_speed(source, x, y, data):\n",
    "    h = data['h']; A_b = data['A_b']; K = data['K']; F = data['F']; dt = data['dt']\n",
    "    grid_x_noise = data['grid_x_noise']; grid_y_noise = data['grid_y_noise']; noise = data['noise']\n",
    "    \n",
    "    event = simulated_event(source, x, y, grid_x_noise, grid_y_noise, noise)\n",
    "    N = event['N']; N_b = event['N_b']\n",
    "    HD = F * (N + N_b)\n",
    "    dHD = F * np.sqrt(N + N_b)\n",
    "    return [N, N_b]\n",
    "\n"
   ]
  },
  {
   "cell_type": "markdown",
   "metadata": {},
   "source": [
    "## Flyover"
   ]
  },
  {
   "cell_type": "markdown",
   "metadata": {},
   "source": [
    "### Modified code that wil be used to spiral around a point"
   ]
  },
  {
   "cell_type": "code",
   "execution_count": 18,
   "metadata": {},
   "outputs": [
    {
     "name": "stdout",
     "output_type": "stream",
     "text": [
      "[0.17035163154039168, 0.22800144416514723, 1677.8148763042745]\n"
     ]
    }
   ],
   "source": [
    "test_source = point_source(x_max, y_max, A_min, A_max)\n",
    "print(test_source)"
   ]
  },
  {
   "cell_type": "code",
   "execution_count": 42,
   "metadata": {},
   "outputs": [
    {
     "name": "stdout",
     "output_type": "stream",
     "text": [
      "[array([[0, 0, 0, 0, 0, 0, 0, 0],\n",
      "       [0, 0, 0, 0, 0, 0, 0, 0],\n",
      "       [0, 0, 0, 0, 0, 0, 0, 0],\n",
      "       [0, 0, 0, 0, 0, 0, 0, 0],\n",
      "       [0, 0, 0, 0, 0, 0, 0, 0],\n",
      "       [0, 0, 0, 0, 0, 0, 0, 0],\n",
      "       [0, 0, 0, 0, 0, 0, 0, 0],\n",
      "       [0, 0, 0, 0, 0, 0, 0, 0]]), 0]\n"
     ]
    },
    {
     "data": {
      "text/plain": [
       "{'N': 137319,\n",
       " 'N_b': 0,\n",
       " 'grid_x_noise': array([[0., 0., 0., 0., 0., 0., 0., 0.],\n",
       "        [0., 0., 0., 0., 0., 0., 0., 0.],\n",
       "        [0., 0., 0., 0., 0., 0., 0., 0.],\n",
       "        [0., 0., 0., 0., 0., 0., 0., 0.],\n",
       "        [0., 0., 0., 0., 0., 0., 0., 0.],\n",
       "        [0., 0., 0., 0., 0., 0., 0., 0.],\n",
       "        [0., 0., 0., 0., 0., 0., 0., 0.],\n",
       "        [0., 0., 0., 0., 0., 0., 0., 0.]]),\n",
       " 'grid_y_noise': array([[0., 0., 0., 0., 0., 0., 0., 0.],\n",
       "        [0., 0., 0., 0., 0., 0., 0., 0.],\n",
       "        [0., 0., 0., 0., 0., 0., 0., 0.],\n",
       "        [0., 0., 0., 0., 0., 0., 0., 0.],\n",
       "        [0., 0., 0., 0., 0., 0., 0., 0.],\n",
       "        [0., 0., 0., 0., 0., 0., 0., 0.],\n",
       "        [0., 0., 0., 0., 0., 0., 0., 0.],\n",
       "        [0., 0., 0., 0., 0., 0., 0., 0.]]),\n",
       " 'x': -2.5,\n",
       " 'y': -1.5}"
      ]
     },
     "execution_count": 42,
     "metadata": {},
     "output_type": "execute_result"
    }
   ],
   "source": [
    "NORTH, S, W, E = (0, -1), (0, 1), (-1, 0), (1, 0) # directions\n",
    "anticlockwise = {NORTH: W, E: NORTH, S: E, W: S} # old -> new direction\n",
    "clockwise = {NORTH: E, E: S, S: W, W: NORTH}\n",
    "\n",
    "option1 = {\"rotation\": clockwise, \"special\": ''}\n",
    "option2 = {\"rotation\": clockwise, \"special\": 'up'}\n",
    "option3 = {\"rotation\": clockwise, \"special\": 'left+up'}\n",
    "option4 = {\"rotation\": anticlockwise, \"special\": 'up'}\n",
    "option5 = {\"rotation\": anticlockwise, \"special\": ''}\n",
    "\n",
    "N_grid = grid\n",
    "dx, dy = (2*x_max)/N_grid, (2*y_max)/N_grid\n",
    "xs = np.linspace(-x_max + dx/2, x_max - dx/2, int(N_grid))\n",
    "ys = np.flip(np.linspace(-y_max + dy/2, y_max - dy/2, int(N_grid)))\n",
    "grid_x, grid_y = np.meshgrid(xs, ys)\n",
    "grid_x_noise, grid_y_noise = np.zeros((N_grid, N_grid)), np.zeros((N_grid, N_grid))\n",
    "data = {\"h\": h, \"A_b\": A_b, \"K\": K, \"F\": F, \"dt\": dt, \"grid_x_noise\": grid_x_noise, \"grid_y_noise\": grid_y_noise, \"noise\": []}\n",
    "\n",
    "def spiral(tehnical, option, source, grid_x, grid_y, data, count_max=9):\n",
    "    doses = []; coordinates = []\n",
    "    width = tehnical[\"width\"]; height = tehnical[\"height\"]; start_x = tehnical[\"start_x\"]; start_y = tehnical[\"start_y\"]\n",
    "    turn_type = option[\"rotation\"]; special = option[\"special\"]\n",
    "    if width < 1 or height < 1:\n",
    "        raise ValueError\n",
    "    x, y = start_x, start_y # start near the center\n",
    "    dx, dy = NORTH # initial direction\n",
    "    matrix = [[None] * width for _ in range(height)]\n",
    "    count = 0\n",
    "    while True:\n",
    "        count += 1\n",
    "        \n",
    "        X = grid_x[y, x]; Y = grid_y[y, x]; dose = dose_speed(source, X, Y, data)\n",
    "        doses.append(dose)\n",
    "        coordinates.append({\"x-coordinate\": X, \"y-coordinate\": Y})\n",
    "        matrix[y][x] = dose # visit\n",
    "\n",
    "        if (special == \"up\" and count == 1):\n",
    "            count += 1\n",
    "            y -= 1\n",
    "            X = grid_x[y, x]; Y = grid_y[y, x]; dose = dose_speed(source, X, Y, data)[0]\n",
    "            doses.append(dose)\n",
    "            coordinates.append({\"x-coordinate\": X, \"y-coordinate\": Y})\n",
    "            matrix[y][x] = dose\n",
    "        elif (special == \"left+up\" and count == 1):\n",
    "            count += 1\n",
    "            x -=1\n",
    "            X = grid_x[y, x]; Y = grid_y[y, x]; dose = dose_speed(source, X, Y, data)[0]\n",
    "            doses.append(dose)\n",
    "            coordinates.append({\"x-coordinate\": X, \"y-coordinate\": Y})[0]\n",
    "            matrix[y][x] = dose\n",
    "            count += 1\n",
    "            y -= 1\n",
    "            X = grid_x[y, x]; Y = grid_y[y, x]; dose = dose_speed(source, X, Y, data)[0]\n",
    "            doses.append(dose)\n",
    "            coordinates.append({\"x-coordinate\": X, \"y-coordinate\": Y})\n",
    "            matrix[y][x] = dose\n",
    "        if count_max <= count:\n",
    "            return doses\n",
    "\n",
    "        # try to turn right\n",
    "        new_dx, new_dy = turn_type[dx,dy]\n",
    "        new_x, new_y = x + new_dx, y + new_dy\n",
    "        if not (0 <= new_x < width and 0 <= new_y < height):\n",
    "                return matrix # nowhere to go\n",
    "        else:\n",
    "            if (0 <= new_x < width and 0 <= new_y < height and matrix[new_y][new_x] is None): # can turn right\n",
    "                x, y = new_x, new_y\n",
    "                dx, dy = new_dx, new_dy\n",
    "            else: # try to move straight\n",
    "                x, y = x + dx, y + dy\n",
    "                if not (0 <= x < width and 0 <= y < height):\n",
    "                    return doses # nowhere to go\n",
    "\n",
    "def print_matrix(matrix):\n",
    "    stop_x = len(str(max(el for row in matrix for el in row if el is not None)))\n",
    "    fmt = \"{:0%dd}\" % stop_x\n",
    "    for row in matrix:\n",
    "        print(\" \".join(\"_\"*stop_x if el is None else fmt.format(el) for el in row))\n",
    "\n",
    "tehnical = {\"width\": grid, \"height\": grid, \"start_x\": 7, \"start_y\": 6}\n",
    "\n",
    "matrix =spiral(tehnical, option4, test_source, grid_x, grid_y, data)\n",
    "# print_matrix(matrix)\n",
    "#print(matrix)\n",
    "\n",
    "dose = dose_speed(test_source, -2.5, -1.5, data)\n",
    "print(dose)\n",
    "\n",
    "simulated_event(test_source, -2.5, -1.5, h, grid_x_noise, grid_y_noise, noise=[], n=\"None\", m=\"None\")"
   ]
  },
  {
   "cell_type": "markdown",
   "metadata": {},
   "source": [
    "### Flyover actually"
   ]
  },
  {
   "cell_type": "code",
   "execution_count": 8,
   "metadata": {},
   "outputs": [],
   "source": [
    "def improv_flyOver(radiation, detector, source = [], noise = []):\n",
    "    A_min, A_max, A_b, dt = radiation[\"A_min\"], radiation[\"A_max\"], radiation[\"A_b\"], radiation[\"dt\"]\n",
    "    h, x_max, y_max, grid, K = detector[\"h\"], detector[\"x_max\"], detector[\"y_max\"], detector[\"grid\"], detector[\"detector_constant\"]\n",
    "    N_grid = grid\n",
    "    dx, dy = (2*x_max)/N_grid, (2*y_max)/N_grid\n",
    "    \n",
    "    # grid_x_noise, grid_y_noise = np.zeros((N_grid, N_grid)), np.zeros((N_grid, N_grid))\n",
    "    xs = np.linspace(-x_max + dx/2, x_max - dx/2, int(N_grid))\n",
    "    ys = np.flip(np.linspace(-y_max + dy/2, y_max - dy/2, int(N_grid)))\n",
    "    grid_x, grid_y = np.meshgrid(xs, ys)\n",
    "    grid_x_noise, grid_y_noise = np.zeros((N_grid, N_grid)), np.zeros((N_grid, N_grid))\n",
    "    map = np.zeros((N_grid, N_grid))\n",
    "\n",
    "    if len(source) == 0:\n",
    "        source = point_source(x_max, y_max, A_min, A_max)\n",
    "    \n",
    "    data = {\"h\": h, \"A_b\": A_b, \"K\": K, \"F\": F, \"dt\": dt, \"grid_x_noise\": grid_x_noise, \"grid_y_noise\": grid_y_noise, \"noise\": noise}\n",
    "    i, j = 0, 0\n",
    "    x = grid_x[i, j], y = grid_y[i, j]\n",
    "    HD_max = max([dose_speed(source, x + dx, y, data), dose_speed(source, x + dx, y + dy, data), dose_speed(source, x, y + dy, data)])\n",
    "    while dose_speed(source, x, y, h, *data) < HD_max:\n",
    "        if (i == (N_grid - 1)) and (j == 0):\n",
    "            print(\"Beginnig\")\n",
    "        elif j == 0:\n",
    "            print(\"Left\")\n",
    "        elif j == (N_grid -1):\n",
    "            print(\"Right\")\n",
    "        elif i == 0:\n",
    "            print(\"Top\")\n",
    "        elif i == (N_grid - 1):\n",
    "            print(\"Bottom\")\n",
    "        else:\n",
    "            print(\"Middle\")\n",
    "    \n",
    "    return\n"
   ]
  },
  {
   "cell_type": "code",
   "execution_count": null,
   "metadata": {},
   "outputs": [],
   "source": []
  }
 ],
 "metadata": {
  "kernelspec": {
   "display_name": "Python 3.8.10 64-bit (microsoft store)",
   "language": "python",
   "name": "python3"
  },
  "language_info": {
   "codemirror_mode": {
    "name": "ipython",
    "version": 3
   },
   "file_extension": ".py",
   "mimetype": "text/x-python",
   "name": "python",
   "nbconvert_exporter": "python",
   "pygments_lexer": "ipython3",
   "version": "3.8.10"
  },
  "orig_nbformat": 4,
  "vscode": {
   "interpreter": {
    "hash": "85ad50d9bc146c85f3fc0e59d0a5f568038cb42bd91391f1b19a754b908c4ffe"
   }
  }
 },
 "nbformat": 4,
 "nbformat_minor": 2
}
