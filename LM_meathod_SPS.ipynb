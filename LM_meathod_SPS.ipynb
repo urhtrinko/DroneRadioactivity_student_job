{
 "cells": [
  {
   "cell_type": "code",
   "execution_count": 1,
   "metadata": {},
   "outputs": [],
   "source": [
    "import numpy as np\n",
    "from numpy import unravel_index\n",
    "import matplotlib.pyplot as plt\n",
    "import random\n",
    "from scipy.optimize import least_squares\n",
    "import sys\n",
    "from vector_class import TripleVector\n",
    "from scipy.optimize import curve_fit\n"
   ]
  },
  {
   "cell_type": "markdown",
   "metadata": {},
   "source": [
    "# Parameters"
   ]
  },
  {
   "cell_type": "code",
   "execution_count": 2,
   "metadata": {},
   "outputs": [],
   "source": [
    "A_min = 1e3 # Bq\n",
    "A_max = 2e3 # Bq\n",
    "A_b = 5e-5 # Bq\n",
    "h = 10 # m\n",
    "dt = 100 # the pause on each point od the grid in s\n",
    "x_max = 4; sigma_x = 0.1 # m\n",
    "y_max = 4; sigma_y = 0.1 # m\n",
    "grid = 8\n",
    "n_bins = 20\n",
    "K = 0.1 # is somewhere in the interval [0, 1]\n",
    "F = 0.140 # factor for inhilation of Pu-239 in mSV/Bq\n",
    "\n",
    "radiation = {\"A_min\": A_min, \"A_max\": A_max, \"A_b\": A_b, \"dose_factor\": F}\n",
    "detector = {\"h\": h, \"dt\": dt, \"x_max\": x_max, \"y_max\": y_max, \"grid\": grid, \"detector_constant\": K} # the detector constant tells us the quality of the detector\n"
   ]
  },
  {
   "cell_type": "markdown",
   "metadata": {},
   "source": [
    "## Flyover"
   ]
  },
  {
   "cell_type": "code",
   "execution_count": 3,
   "metadata": {},
   "outputs": [],
   "source": [
    " # it equals to the activity\n",
    "def activity(source, x, y, h, ru=0, rv=0):\n",
    "    u, v, A0 = source[0], source[1], source[2] # u, v are the coordinates of the source and A0 is its activity\n",
    "    return (A0*(ru**2 + rv**2 + h**2)) / ((x - (u - ru))**2 + (y - (v - rv))**2 + h**2)\n",
    "\n",
    "def point_source(x_max, y_max, A_min, A_max, x_min=0, y_min=0):\n",
    "    if (x_min == 0) and (y_min == 0):    \n",
    "        return [random.uniform(-x_max, x_max), random.uniform(-y_max, y_max), random.uniform(A_min, A_max)]\n",
    "    else:\n",
    "        return [random.uniform(x_min, x_max), random.uniform(y_min, y_max), random.uniform(A_min, A_max)]\n",
    "\n",
    "# Noise is a list that contanins the standard deviations of x/y coordinates as a result of the error of the detector\n",
    "def flyover(radiation, detector, source = [], noise = []):\n",
    "    A_min, A_max, A_b = radiation[\"A_min\"], radiation[\"A_max\"], radiation[\"A_b\"]\n",
    "    h, dt, x_max, y_max, grid, K = detector[\"h\"], detector[\"dt\"], detector[\"x_max\"], detector[\"y_max\"], detector[\"grid\"], detector[\"detector_constant\"]\n",
    "    N_grid = grid\n",
    "    square_x, square_y = (2*x_max)/N_grid, (2*y_max)/N_grid\n",
    "\n",
    "    grid_x, grid_y = np.zeros((N_grid, N_grid)), np.zeros((N_grid, N_grid))\n",
    "    grid_x_noise, grid_y_noise = np.zeros((N_grid, N_grid)), np.zeros((N_grid, N_grid))\n",
    "    xs = np.linspace(-x_max + square_x/2, x_max - square_x/2, int(N_grid))\n",
    "    \n",
    "    # If the source is not specified, then it is randomly generated \n",
    "    if len(source) == 0: \n",
    "        source = point_source(x_max, y_max, A_min, A_max)\n",
    "    \n",
    "    HDs = np.zeros((int(N_grid), int(N_grid))); dHDs = np.zeros((int(N_grid), int(N_grid)))\n",
    "    n, m = N_grid - 1, 0\n",
    "    y = -y_max + square_y/2\n",
    "    i = 1\n",
    "    for x in xs:\n",
    "        while abs(y) <= y_max:\n",
    "            A = activity(source, x, y, h)\n",
    "            A_det = A * (1 - K)\n",
    "            N = np.random.poisson(A_det * dt)\n",
    "            N_b = np.random.poisson(A_b * dt)# background radiation\n",
    "\n",
    "            # Add noise to the location data because of the GPS uncertianty\n",
    "            if len(noise) != 0:\n",
    "                sigma_x = noise[0]; sigma_y = noise[1]\n",
    "                grid_x_noise[n, m] = x + np.random.normal(0, sigma_x)\n",
    "                grid_y_noise[n, m] = y + np.random.normal(0, sigma_y)\n",
    "\n",
    "            HDs[n, m] = F * (N + N_b)\n",
    "            dHDs[n, m] = F * np.sqrt(N + N_b)\n",
    "            \n",
    "            grid_x[n, m] = x; grid_y[n, m] = y\n",
    "            y += (square_y)*i\n",
    "            n -= 1*i\n",
    "        n += 1*i; i = i * (-1); y += (square_y)*i; m += 1\n",
    "    i_max, j_max = unravel_index(HDs.argmax(), HDs.shape)\n",
    "    x_c, y_c = grid_x[i_max, j_max], grid_y[i_max, j_max]\n",
    "    maxI_range = {\"xrange\": (x_c - square_x/2, x_c + square_x/2), \"yrange\": (y_c - square_x/2, y_c + square_x/2)}\n",
    "\n",
    "    return {\"m_dose\": HDs, \"dm_dose\": dHDs, \"source\": source, \"grid_x\": grid_x, \"grid_y\": grid_y, \"grid_x_noise\": grid_x_noise, \"grid_y_noise\": grid_y_noise, \"hotspot\": maxI_range, \"square_x\": square_x, \"square_y\": square_y}\n",
    "\n",
    "measurement = flyover(radiation, detector)\n",
    "\n",
    "# hotspot = measurement[\"hotspot\"]\n",
    "# x_0, x_1 = hotspot[\"xrange\"]; y_0, y_1 = hotspot[\"yrange\"]\n",
    "\n"
   ]
  },
  {
   "cell_type": "markdown",
   "metadata": {},
   "source": [
    "## Location from measurement - Levenberg-Marquardt method"
   ]
  },
  {
   "cell_type": "markdown",
   "metadata": {},
   "source": [
    "### Scipy least square"
   ]
  },
  {
   "cell_type": "code",
   "execution_count": 4,
   "metadata": {},
   "outputs": [],
   "source": [
    "# Using the Levenberg-Marquardt method with scipy least squares\n",
    "def locationLM(measurement, radiation, detector):\n",
    "    A_min, A_max = radiation['A_min'], radiation['A_max']\n",
    "    h = detector['h']\n",
    "    hotspot = measurement['hotspot']\n",
    "    x_0, x_1 = hotspot['xrange']; y_0, y_1 = hotspot['yrange']\n",
    "\n",
    "    def dose(source, x, y):\n",
    "        u, v, alpha = source[0], source[1], source[2]\n",
    "        return alpha / ((x - u)**2 + (y - v)**2 + h**2)\n",
    "\n",
    "    # def N(source, x, y):\n",
    "    #     return N_func(source, x, y, h, dt)\n",
    "\n",
    "    grid_x, grid_y = measurement['grid_x'], measurement['grid_y']\n",
    "    HDs = measurement['m_dose']\n",
    "\n",
    "    def fun(source):\n",
    "        return (dose(source, grid_x, grid_y) - HDs).flatten()\n",
    "\n",
    "    # guess = point_source(x_0, y_0, A_min, A_max, x_1, y_1)\n",
    "    source0 = [1, 1, 1]\n",
    "    res = least_squares(fun, source0, method=\"lm\")\n",
    "\n",
    "    return res[\"x\"]\n",
    "\n",
    "measurement = flyover(radiation, detector)\n",
    "sourceLM = locationLM(measurement, radiation, detector)\n",
    "\n"
   ]
  },
  {
   "cell_type": "markdown",
   "metadata": {},
   "source": [
    "### Scipy curve fit"
   ]
  },
  {
   "cell_type": "code",
   "execution_count": 5,
   "metadata": {},
   "outputs": [],
   "source": [
    "# Also location with LM method, only now using the curve_fit scipy.optimize function \n",
    "def locationCF(measurement, radiation, detector, noise = []):\n",
    "    HDs, dHDs, grid_x, grid_y, hotspot = measurement['m_dose'], measurement['dm_dose'], measurement['grid_x'], measurement['grid_y'], measurement[\"hotspot\"] # in example Z, here Is\n",
    "    grid_x_noise = measurement['grid_x_noise']; grid_y_noise = measurement['grid_y_noise']\n",
    "    h = detector[\"h\"]\n",
    "\n",
    "    x_0, x_1 = hotspot[\"xrange\"]; y_0, y_1 = hotspot[\"yrange\"]\n",
    "\n",
    "    if len(noise) == 0:\n",
    "        XY = np.vstack((grid_x.ravel(), grid_y.ravel()))\n",
    "    else:\n",
    "        XY = np.vstack((grid_x_noise.ravel(), grid_y_noise.ravel()))\n",
    "    source0 = [random.uniform(x_0, x_1), random.uniform(y_0, y_1), 1]\n",
    "    \n",
    "    def dose(x, y, u, v, alpha):\n",
    "        return alpha / ((x - u)**2 + (y - v)**2 + h**2)\n",
    "\n",
    "    def __dose(M, *args): # M is a table of shape (N, 2), where each row is a new point of measurement, N is the number of measuremnts\n",
    "        x, y = M\n",
    "        arr = np.zeros(x.shape)\n",
    "        for i in range(len(args)//3):\n",
    "            arr += dose(x, y, *args[i*3:i*3+3])\n",
    "        return arr\n",
    "\n",
    "    popt, pcov = curve_fit(__dose, XY, HDs.ravel(), source0, sigma = dHDs.ravel(), absolute_sigma = True, method=\"lm\")\n",
    "    perr = np.sqrt(np.diag(pcov))\n",
    "    \n",
    "\n",
    "    MyDict = {\"XY\": XY, \"Ns\": HDs, \"source0\": source0}\n",
    "\n",
    "    return popt, perr, MyDict\n",
    "\n",
    "\n",
    "sourceCF = locationCF(measurement, radiation, detector)\n"
   ]
  },
  {
   "cell_type": "markdown",
   "metadata": {},
   "source": [
    "### Standard deviation"
   ]
  },
  {
   "cell_type": "code",
   "execution_count": 6,
   "metadata": {},
   "outputs": [],
   "source": [
    "def locationCFerror(measurement, radiation, detector):\n",
    "    h = detector[\"h\"]; dt = detector[\"dt\"]\n",
    "    dx = detector[\"dx\"]; dy = detector[\"dy\"]\n",
    "    \n",
    "    def intensity(x, y, u, v, A0): # it equals to the activity multiplied by the time of measuring u, v are the coordinates of the source and A0 \n",
    "        return (A0*dt) / ((x - u)**2 + (y - v)**2 + h**2) # is its activity\n",
    "\n",
    "    def _intensity(M, *args): # M is a table of shape (N, 2), where each row is a new point of measurement, N is the number of measuremnts\n",
    "        x, y = M\n",
    "        arr = np.zeros(x.shape)\n",
    "        for i in range(len(args)//3):\n",
    "            arr += intensity(x, y, *args[i*3:i*3+3])\n",
    "        return arr\n",
    "    \n",
    "    popt0, perr0 = locationCF(measurement, radiation, detector)[0], locationCF(measurement, radiation, detector)[1]\n",
    "    u = popt0[0]; v = popt0[1]; A0 = popt0[2]\n",
    "    du = perr0[0]; dv = perr0[1]; dA0 = perr0[2]\n",
    "\n",
    "    MyDict = locationCF(measurement, radiation, detector)[2]\n",
    "    XY = MyDict[\"XY\"]; Is = MyDict[\"Is\"]; source0 = MyDict[\"source0\"]\n",
    "\n",
    "    def stDev_I(x, y, u, v, A0):\n",
    "        C = ((A0 * dt) / ((x-u)**2 + (x-v)**2 + h**2))\n",
    "        return C * np.sqrt(4*(dx**2 + du**2)*(x - u)**2 + 4*(dy**2 + dv**2)*(y - v)**2 + (((x - u)**2 + (y - v)**2 + h**2)**2 / A0**2)*dA0**2)\n",
    "    \n",
    "\n",
    "    dIs = np.array([stDev_I(x, y, u, v, A0) for x in XY[0] for y in XY[0]])\n",
    "    popt, pcov = curve_fit(_intensity, XY, Is.ravel(), sigma = dIs.ravel(), absolute_sigma=True)\n",
    "\n",
    "    return popt, pcov\n",
    "\n",
    "# print(locationCFerror(measurement, radiation, detector))\n"
   ]
  },
  {
   "cell_type": "markdown",
   "metadata": {},
   "source": [
    "### TUTORIALS"
   ]
  },
  {
   "cell_type": "markdown",
   "metadata": {},
   "source": [
    "#### Scipy least square minimization example  "
   ]
  },
  {
   "cell_type": "code",
   "execution_count": 7,
   "metadata": {},
   "outputs": [
    {
     "name": "stdout",
     "output_type": "stream",
     "text": [
      "[[-73.45       -75.65498615 -77.63836565 -79.4001385  -80.94030471\n",
      "  -82.25886427 -83.35581717 -84.23116343 -84.88490305 -85.31703601\n",
      "  -85.52756233 -85.51648199 -85.28379501 -84.82950139 -84.15360111\n",
      "  -83.25609418 -82.13698061 -80.79626039 -79.23393352 -77.45      ]\n",
      " [-76.80734072 -79.01232687 -80.99570637 -82.75747922 -84.29764543\n",
      "  -85.61620499 -86.71315789 -87.58850416 -88.24224377 -88.67437673\n",
      "  -88.88490305 -88.87382271 -88.64113573 -88.18684211 -87.51094183\n",
      "  -86.6134349  -85.49432133 -84.15360111 -82.59127424 -80.80734072]\n",
      " [-79.72146814 -81.92645429 -83.9098338  -85.67160665 -87.21177285\n",
      "  -88.53033241 -89.62728532 -90.50263158 -91.15637119 -91.58850416\n",
      "  -91.79903047 -91.78795014 -91.55526316 -91.10096953 -90.42506925\n",
      "  -89.52756233 -88.40844875 -87.06772853 -85.50540166 -83.72146814]\n",
      " [-82.19238227 -84.39736842 -86.38074792 -88.14252078 -89.68268698\n",
      "  -91.00124654 -92.09819945 -92.97354571 -93.62728532 -94.05941828\n",
      "  -94.2699446  -94.25886427 -94.02617729 -93.57188366 -92.89598338\n",
      "  -91.99847645 -90.87936288 -89.53864266 -87.97631579 -86.19238227]\n",
      " [-84.2200831  -86.42506925 -88.40844875 -90.17022161 -91.71038781\n",
      "  -93.02894737 -94.12590028 -95.00124654 -95.65498615 -96.08711911\n",
      "  -96.29764543 -96.2865651  -96.05387812 -95.59958449 -94.92368421\n",
      "  -94.02617729 -92.90706371 -91.56634349 -90.00401662 -88.2200831 ]\n",
      " [-85.80457064 -88.00955679 -89.99293629 -91.75470914 -93.29487535\n",
      "  -94.6134349  -95.71038781 -96.58573407 -97.23947368 -97.67160665\n",
      "  -97.88213296 -97.87105263 -97.63836565 -97.18407202 -96.50817175\n",
      "  -95.61066482 -94.49155125 -93.15083102 -91.58850416 -89.80457064]\n",
      " [-86.94584488 -89.15083102 -91.13421053 -92.89598338 -94.43614958\n",
      "  -95.75470914 -96.85166205 -97.72700831 -98.38074792 -98.81288089\n",
      "  -99.0234072  -99.01232687 -98.77963989 -98.32534626 -97.64944598\n",
      "  -96.75193906 -95.63282548 -94.29210526 -92.72977839 -90.94584488]\n",
      " [-87.64390582 -89.84889197 -91.83227147 -93.59404432 -95.13421053\n",
      "  -96.45277008 -97.54972299 -98.42506925 -99.07880886 -99.51094183\n",
      "  -99.72146814 -99.71038781 -99.47770083 -99.0234072  -98.34750693\n",
      "  -97.45       -96.33088643 -94.9901662  -93.42783934 -91.64390582]\n",
      " [-87.89875346 -90.10373961 -92.08711911 -93.84889197 -95.38905817\n",
      "  -96.70761773 -97.80457064 -98.6799169  -99.33365651 -99.76578947\n",
      "  -99.97631579 -99.96523546 -99.73254848 -99.27825485 -98.60235457\n",
      "  -97.70484765 -96.58573407 -95.24501385 -93.68268698 -91.89875346]\n",
      " [-87.71038781 -89.91537396 -91.89875346 -93.66052632 -95.20069252\n",
      "  -96.51925208 -97.61620499 -98.49155125 -99.14529086 -99.57742382\n",
      "  -99.78795014 -99.77686981 -99.54418283 -99.0898892  -98.41398892\n",
      "  -97.51648199 -96.39736842 -95.0566482  -93.49432133 -91.71038781]\n",
      " [-87.07880886 -89.28379501 -91.26717452 -93.02894737 -94.56911357\n",
      "  -95.88767313 -96.98462604 -97.8599723  -98.51371191 -98.94584488\n",
      "  -99.15637119 -99.14529086 -98.91260388 -98.45831025 -97.78240997\n",
      "  -96.88490305 -95.76578947 -94.42506925 -92.86274238 -91.07880886]\n",
      " [-86.00401662 -88.20900277 -90.19238227 -91.95415512 -93.49432133\n",
      "  -94.81288089 -95.9098338  -96.78518006 -97.43891967 -97.87105263\n",
      "  -98.08157895 -98.07049861 -97.83781163 -97.38351801 -96.70761773\n",
      "  -95.8101108  -94.69099723 -93.35027701 -91.78795014 -90.00401662]\n",
      " [-84.48601108 -86.69099723 -88.67437673 -90.43614958 -91.97631579\n",
      "  -93.29487535 -94.39182825 -95.26717452 -95.92091413 -96.35304709\n",
      "  -96.56357341 -96.55249307 -96.31980609 -95.86551247 -95.18961219\n",
      "  -94.29210526 -93.17299169 -91.83227147 -90.2699446  -88.48601108]\n",
      " [-82.52479224 -84.72977839 -86.71315789 -88.47493075 -90.01509695\n",
      "  -91.33365651 -92.43060942 -93.30595568 -93.95969529 -94.39182825\n",
      "  -94.60235457 -94.59127424 -94.35858726 -93.90429363 -93.22839335\n",
      "  -92.33088643 -91.21177285 -89.87105263 -88.30872576 -86.52479224]\n",
      " [-80.12036011 -82.32534626 -84.30872576 -86.07049861 -87.61066482\n",
      "  -88.92922438 -90.02617729 -90.90152355 -91.55526316 -91.98739612\n",
      "  -92.19792244 -92.18684211 -91.95415512 -91.4998615  -90.82396122\n",
      "  -89.92645429 -88.80734072 -87.4666205  -85.90429363 -84.12036011]\n",
      " [-77.27271468 -79.47770083 -81.46108033 -83.22285319 -84.76301939\n",
      "  -86.08157895 -87.17853186 -88.05387812 -88.70761773 -89.13975069\n",
      "  -89.35027701 -89.33919668 -89.1065097  -88.65221607 -87.97631579\n",
      "  -87.07880886 -85.95969529 -84.61897507 -83.0566482  -81.27271468]\n",
      " [-73.98185596 -76.18684211 -78.17022161 -79.93199446 -81.47216066\n",
      "  -82.79072022 -83.88767313 -84.76301939 -85.416759   -85.84889197\n",
      "  -86.05941828 -86.04833795 -85.81565097 -85.36135734 -84.68545706\n",
      "  -83.78795014 -82.66883657 -81.32811634 -79.76578947 -77.98185596]\n",
      " [-70.24778393 -72.45277008 -74.43614958 -76.19792244 -77.73808864\n",
      "  -79.0566482  -80.15360111 -81.02894737 -81.68268698 -82.11481994\n",
      "  -82.32534626 -82.31426593 -82.08157895 -81.62728532 -80.95138504\n",
      "  -80.05387812 -78.93476454 -77.59404432 -76.03171745 -74.24778393]\n",
      " [-66.07049861 -68.27548476 -70.25886427 -72.02063712 -73.56080332\n",
      "  -74.87936288 -75.97631579 -76.85166205 -77.50540166 -77.93753463\n",
      "  -78.14806094 -78.13698061 -77.90429363 -77.45       -76.77409972\n",
      "  -75.8765928  -74.75747922 -73.416759   -71.85443213 -70.07049861]\n",
      " [-61.45       -63.65498615 -65.63836565 -67.4001385  -68.94030471\n",
      "  -70.25886427 -71.35581717 -72.23116343 -72.88490305 -73.31703601\n",
      "  -73.52756233 -73.51648199 -73.28379501 -72.82950139 -72.15360111\n",
      "  -71.25609418 -70.13698061 -68.79626039 -67.23393352 -65.45      ]]\n"
     ]
    }
   ],
   "source": [
    "def h(theta, x, y, h):\n",
    "    return theta[2] * (x - theta[0])**2 + theta[3] * (y - theta[1])**2 - h\n",
    "\n",
    "xs = np.linspace(-1, 1, 20)\n",
    "ys = np.linspace(-1, 1, 20)\n",
    "dt = 10\n",
    "gridx, gridy = np.meshgrid(xs, ys)\n",
    "x0 = 0.1; y0 = -0.15; a = 1; b = 2; noise = 0.1\n",
    "hs = h([x0, y0, a, b], gridx, gridy, 10) * dt\n",
    "# hs += noise * np.random.default_rng().random(hs.shape)\n",
    "\n",
    "print(hs)\n",
    "\n",
    "def fun(theta):\n",
    "    return (h(theta, gridx, gridy, 10) * dt - hs).flatten()\n",
    "\n",
    "theta0 = [0, 0, 1, 2]\n",
    "res3 = least_squares(fun, theta0)\n",
    "\n",
    "# print(hs)\n"
   ]
  },
  {
   "cell_type": "markdown",
   "metadata": {},
   "source": [
    "#### Scipy curve fit for 2D data example"
   ]
  },
  {
   "cell_type": "code",
   "execution_count": null,
   "metadata": {},
   "outputs": [],
   "source": [
    "import numpy as np\n",
    "from scipy.optimize import curve_fit\n",
    "import matplotlib.pyplot as plt\n",
    "from mpl_toolkits.mplot3d import Axes3D\n",
    "\n",
    "# The two-dimensional domain of the fit.\n",
    "xmin, xmax, nx = -5, 4, 75\n",
    "ymin, ymax, ny = -3, 7, 150\n",
    "x, y = np.linspace(xmin, xmax, nx), np.linspace(ymin, ymax, ny)\n",
    "X, Y = np.meshgrid(x, y)\n",
    "\n",
    "# Our function to fit is going to be a sum of two-dimensional Gaussians\n",
    "def gaussian(x, y, x0, y0, xalpha, yalpha, A):\n",
    "    return A * np.exp( -((x-x0)/xalpha)**2 -((y-y0)/yalpha)**2)\n",
    "\n",
    "# A list of the Gaussian parameters: x0, y0, xalpha, yalpha, A\n",
    "gprms = [(0, 2, 2.5, 5.4, 1.5),\n",
    "         (-1, 4, 6, 2.5, 1.8),\n",
    "         (-3, -0.5, 1, 2, 4),\n",
    "         (3, 0.5, 2, 1, 5)\n",
    "        ]\n",
    "\n",
    "# Standard deviation of normally-distributed noise to add in generating\n",
    "# our test function to fit.\n",
    "noise_sigma = 0.1\n",
    "\n",
    "# The function to be fit is Z.\n",
    "Z = np.zeros(X.shape)\n",
    "for p in gprms:\n",
    "    Z += gaussian(X, Y, *p)\n",
    "Z += noise_sigma * np.random.randn(*Z.shape) # In our example this are the measured intesities Is\n",
    "\n",
    "# Plot the 3D figure of the fitted function and the residuals.\n",
    "fig = plt.figure()\n",
    "ax = fig.gca(projection='3d')\n",
    "ax.plot_surface(X, Y, Z, cmap='plasma')\n",
    "ax.set_zlim(0,np.max(Z)+2)\n",
    "plt.show()\n",
    "\n",
    "# This is the callable that is passed to curve_fit. M is a (2,N) array\n",
    "# where N is the total number of data points in Z, which will be ravelled\n",
    "# to one dimension.\n",
    "def _gaussian(M, *args):\n",
    "    x, y = M\n",
    "    arr = np.zeros(x.shape)\n",
    "    for i in range(len(args)//5):\n",
    "       arr += gaussian(x, y, *args[i*5:i*5+5])\n",
    "    return arr\n",
    "\n",
    "# Initial guesses to the fit parameters.\n",
    "guess_prms = [(0, 0, 1, 1, 2),\n",
    "              (-1.5, 5, 5, 1, 3),\n",
    "              (-4, -1, 1.5, 1.5, 6),\n",
    "              (4, 1, 1.5, 1.5, 6.5)\n",
    "             ]\n",
    "# Flatten the initial guess parameter list.\n",
    "p0 = [p for prms in guess_prms for p in prms]\n",
    "\n",
    "# We need to ravel the meshgrids of X, Y points to a pair of 1-D arrays.\n",
    "xdata = np.vstack((X.ravel(), Y.ravel()))\n",
    "# Do the fit, using our custom _gaussian function which understands our\n",
    "# flattened (ravelled) ordering of the data points.\n",
    "popt, pcov = curve_fit(_gaussian, xdata, Z.ravel(), p0)\n",
    "fit = np.zeros(Z.shape)\n",
    "for i in range(len(popt)//5):\n",
    "    fit += gaussian(X, Y, *popt[i*5:i*5+5])\n",
    "print('Fitted parameters:')\n",
    "print(popt)\n",
    "\n",
    "rms = np.sqrt(np.mean((Z - fit)**2))\n",
    "print('RMS residual =', rms)\n",
    "\n",
    "# Plot the 3D figure of the fitted function and the residuals.\n",
    "fig = plt.figure()\n",
    "ax = fig.gca(projection='3d')\n",
    "ax.plot_surface(X, Y, fit, cmap='plasma')\n",
    "cset = ax.contourf(X, Y, Z-fit, zdir='z', offset=-4, cmap='plasma')\n",
    "ax.set_zlim(-4,np.max(fit))\n",
    "plt.show()\n",
    "\n"
   ]
  },
  {
   "cell_type": "markdown",
   "metadata": {},
   "source": [
    "## Combine"
   ]
  },
  {
   "cell_type": "code",
   "execution_count": 9,
   "metadata": {},
   "outputs": [],
   "source": [
    "def const(K, F):\n",
    "    return F / (1 - K)\n",
    "\n",
    "# combines the detector flyover and the location detection\n",
    "def combination(radiation, detector, source=[], noise=[]):\n",
    "    measurement = flyover(radiation, detector, source, noise)\n",
    "    sourceLM = locationLM(measurement, radiation, detector)\n",
    "    sourceCF, stDev = locationCF(measurement, radiation, detector, noise)[0], locationCF(measurement, radiation, detector, noise)[1]\n",
    "    return {'measurement': measurement, 'source_locationLM': sourceLM, 'source_locationCF': sourceCF, \"sourceCF_stDev\": stDev}\n",
    "\n",
    "data = combination(radiation, detector, [], [])\n"
   ]
  },
  {
   "cell_type": "code",
   "execution_count": 10,
   "metadata": {},
   "outputs": [
    {
     "name": "stdout",
     "output_type": "stream",
     "text": [
      "{'Hd': 178613139821624.84, 'rel_Hd': 7.482440939068077e-05} \n",
      " {'Hd': 1.7861313982162484e+16, 'rel_Hd': 7.482440939068077e-05}\n"
     ]
    }
   ],
   "source": [
    "def radioactive_dose(C, Dt, data):\n",
    "    A0 = data['source_locationCF'][2]\n",
    "    Hd = C * A0 * Dt\n",
    "    rel_Hd = 1/np.sqrt(Hd/C)\n",
    "    return {\"Hd\": Hd, \"rel_Hd\": rel_Hd}\n",
    "\n",
    "det1 = radioactive_dose(1e6, 100, data)\n",
    "det2 = radioactive_dose(1e8, 100, data)\n",
    "\n",
    "print(det1, \"\\n\", det2)\n"
   ]
  },
  {
   "cell_type": "markdown",
   "metadata": {},
   "source": [
    "## Visualization"
   ]
  },
  {
   "cell_type": "code",
   "execution_count": 11,
   "metadata": {},
   "outputs": [
    {
     "data": {
      "image/png": "[encoded data removed]",
      "text/plain": [
       "<Figure size 864x432 with 2 Axes>"
      ]
     },
     "metadata": {
      "needs_background": "light"
     },
     "output_type": "display_data"
    }
   ],
   "source": [
    "def visualize(measurement, x_max, y_max, points):\n",
    "    X, Y = measurement['source'][0], measurement['source'][1]\n",
    "    u1, v1 = points[0][0], points[0][1]\n",
    "    u2, v2 = points[1][0], points[1][1]\n",
    "    # print((u1, v1), (u2, v2))\n",
    "\n",
    "    fig, (ax1, ax2) = plt.subplots(nrows = 1, ncols = 2, figsize = (12, 6))\n",
    "    \n",
    "    im = ax1.imshow(measurement['m_dose'], extent=[-x_max,x_max,-y_max,y_max], aspect=\"auto\")\n",
    "    ax1.plot(X, Y, \"o\", color = 'r', ms=12, label = \"Original source\")\n",
    "    # ax1.plot(u1, v1, \"o\", color = 'g', ms=6, label = \"Scipy least_square\")\n",
    "    ax1.plot(u2, v2, \"o\", color = 'k', ms=3, label = \"Scipy curve_fit\")\n",
    "\n",
    "    ax1.axis(\"equal\")\n",
    "    ax1.set_xlabel(\"X axis [m]\", fontsize = 15)\n",
    "    ax1.set_ylabel(\"Y axis [m]\", fontsize = 15)\n",
    "   \n",
    "    ax1.legend(fontsize = 15)\n",
    "\n",
    "    hotspot = measurement['hotspot']\n",
    "    x_0, x_1 = hotspot['xrange']; y_0, y_1 = hotspot['yrange']\n",
    "\n",
    "    ax2.imshow(measurement['m_dose'], extent=[-x_max,x_max,-y_max,y_max], aspect=\"auto\")\n",
    "    ax2.plot(X, Y, \"o\", color = 'r', ms=12, label = \"Original source\")\n",
    "    # ax2.plot(u1, v1, \"o\", color = 'g', ms=6, label = \"Scipy least_square\")\n",
    "    ax2.plot(u2, v2, \"o\", color = 'k', ms=3, label = \"Scipy curve_fit\")\n",
    "    ax2.axis(\"equal\")\n",
    "    ax2.set_xlim(x_0, x_1)\n",
    "    ax2.set_xlabel(\"X axis [m]\", fontsize = 15)\n",
    "    ax2.set_ylim(y_0, y_1)\n",
    "    ax2.set_ylabel(\"Y axis [m]\", fontsize = 15)\n",
    "\n",
    "   \n",
    "    ax2.legend(fontsize = 15)    \n",
    "\n",
    "    plt.tight_layout()\n",
    "    # plt.savefig(\"graphics/imporved.jpg\")\n",
    "    plt.show()\n",
    "    # return points[1]\n",
    "    # print(measurement[\"intensities_array\"], '\\n', measurement[\"grid_x\"], '\\n', measurement[\"grid_y\"])\n",
    "\n",
    "# 0.1, 0.1, 100\n",
    "data = combination(radiation, detector, [], [])\n",
    "\n",
    "visualize(data[\"measurement\"], detector[\"x_max\"], detector[\"y_max\"], [data[\"source_locationLM\"], data[\"source_locationCF\"]])\n"
   ]
  },
  {
   "cell_type": "markdown",
   "metadata": {},
   "source": [
    "## Analysis"
   ]
  },
  {
   "cell_type": "markdown",
   "metadata": {},
   "source": [
    "### Standard deviation"
   ]
  },
  {
   "cell_type": "code",
   "execution_count": 12,
   "metadata": {},
   "outputs": [],
   "source": [
    "def dist_points(point1, point2):\n",
    "    return (point1 - point2).magnitude()\n",
    "\n",
    "# run simulation n_sim times and keep track of the distance between the original source and estimated source. Plot a histogram for the values.\n",
    "def stDev(radiation, detector, n_sim):\n",
    "    R = []\n",
    "    for i in range(n_sim):\n",
    "        data = combination(radiation, detector)\n",
    "        original = (data[\"measurement\"])[\"source\"]\n",
    "        estimate = data[\"source_locationLM\"]\n",
    "        R.append(dist_points(TripleVector(original[0], original[1], 0), TripleVector(estimate[0], estimate[1], 0)))\n",
    " \n",
    "    plt.hist(np.array(R), 100)\n",
    "    plt.xlabel(\"r error [m]\", fontsize = 15)\n",
    "    plt.xticks(fontsize = 15)\n",
    "    plt.ylabel(\"number of values\", fontsize = 15)\n",
    "    plt.yticks(fontsize = 15)\n",
    "\n",
    "    #plt.legend(fontsize = 15)\n",
    "    #plt.grid()\n",
    "\n",
    "    plt.tight_layout()\n",
    "    # plt.savefig(\"graphics/dr_hist.jpg\")\n",
    "    plt.show()\n",
    "\n",
    "    d_R = np.std(R)\n",
    "\n",
    "    return d_R\n",
    "\n",
    "n_sim = 1000\n",
    "# print(stDev(radiation, detector, n_sim))"
   ]
  },
  {
   "cell_type": "markdown",
   "metadata": {},
   "source": [
    "# Code description"
   ]
  },
  {
   "cell_type": "code",
   "execution_count": 13,
   "metadata": {},
   "outputs": [
    {
     "name": "stdout",
     "output_type": "stream",
     "text": [
      "u = -24.941934614912974 ± 0.2503160548573801 m\n",
      "v = 28.363895196723515 ± 0.2402029260293109 m\n",
      "alpha = 636757.4351020671 ± 2357.811541808023 \n"
     ]
    },
    {
     "data": {
      "image/png": "[encoded data removed]",
      "text/plain": [
       "<Figure size 864x432 with 2 Axes>"
      ]
     },
     "metadata": {
      "needs_background": "light"
     },
     "output_type": "display_data"
    }
   ],
   "source": [
    "# DESCRIPTION OF THE CODE\n",
    "\n",
    "# In comparisson to the code in simple_SPS.ipynb there are a few minor changes. The intensity function is defined diferently. It takes into\n",
    "# consideration two points, the source of the radiation and the position of a measurement. Flyover() is very similar to the older version \n",
    "# it just uses the new intensity and also the activity of the source is randomly generated - it is one of the parameters which we are fitting.\n",
    "\n",
    "# locationLM() is the major chenge. We use the scipy least square Levenberg-marquardt method to minimize the square residuals of the model \n",
    "# intensity and the measured intensity. Through the minimization we can output the paramaters which we are searching for - u, v and A0 (x/y \n",
    "# coordinates of the source and its intensity).\n",
    "\n",
    "# visualize() shows us that this method is much more accurate then the previously used location searching method.\n",
    "\n",
    "# PARAMETERS\n",
    "A_min = 1e3; A_max = 1.5e3 # borders between which the activity of the source is randomly selected \n",
    "A_b = 5e-5 # background activity in Bq\n",
    "h = 40 # hight at which the detector flies over in m\n",
    "x_max = 100 # Size of the area of flyover in positive x direction in m (the whole grid extends also in the negative direction the same amount)\n",
    "y_max = 100 # Size of the area of flyover in positive y direction in m (the whole grid extends also in the negative direction the same amount)\n",
    "grid = 10 # Size of the grid in which the area of flyover is divided into smaller \"tiles\" where the detector stops and measures the number of \n",
    "         # radioactive decays. Grid is the number of these areas in x direction and y direction. It must be an INTEGER!\n",
    "dt = 10 # the pause on each point od the grid in s\n",
    "n_bins = 20 # number of bins in the histogram made by find_source()\n",
    "noise = [5, 5] # list that contains the standard deviation of the x and y coordinates in in m\n",
    "K = 0.8 # constant between 0 and 1 which contains the information on the quality of the detector, a better detector has a smaller constante \n",
    "        # then then an inferior detector\n",
    "F = 0.140 # factor for inhilation of Pu-239 in mSV/Bq\n",
    "\n",
    "\n",
    "# Combinig the parameters into a list so that the data is more compacted\n",
    "radiation = {'A_min': A_min, 'A_max': A_max, 'A_b': A_b, 'dose_factor': F}\n",
    "detector = {'h': h, 'dt': dt, 'x_max': x_max, 'y_max': y_max, 'grid': grid, 'detector_constant': K}\n",
    "\n",
    "data = combination(radiation, detector, [], noise)\n",
    "\n",
    "# print(data[\"sourceCF_stDev\"])\n",
    "\n",
    "# Print out the fitted parameters with their absolute errors (standard deviation)\n",
    "print(\"u =\", data[\"source_locationCF\"][0], r'±', data[\"sourceCF_stDev\"][0], \"m\")\n",
    "print(\"v =\", data[\"source_locationCF\"][1], r'±', data[\"sourceCF_stDev\"][1], \"m\")\n",
    "print(\"alpha =\", data[\"source_locationCF\"][2], r'±', data[\"sourceCF_stDev\"][2], \"\")\n",
    "\n",
    "visualize(data[\"measurement\"], detector[\"x_max\"], detector[\"y_max\"], [data[\"source_locationLM\"], data[\"source_locationCF\"]])\n"
   ]
  },
  {
   "cell_type": "markdown",
   "metadata": {},
   "source": [
    "### Detector constant analysis"
   ]
  },
  {
   "cell_type": "markdown",
   "metadata": {},
   "source": [
    "#### Comparisons"
   ]
  },
  {
   "cell_type": "code",
   "execution_count": 23,
   "metadata": {},
   "outputs": [
    {
     "data": {
      "text/plain": [
       "[-34.06413743466325, 18.72494667983291, 1207.4224164766233]"
      ]
     },
     "execution_count": 23,
     "metadata": {},
     "output_type": "execute_result"
    }
   ],
   "source": [
    "testSource = point_source(x_max, y_max, A_min, A_max)\n",
    "testSource1 = point_source(x_max, y_max, A_min, A_max)\n",
    "testSource2 = point_source(x_max, y_max, A_min, A_max)\n",
    "testSource"
   ]
  },
  {
   "cell_type": "code",
   "execution_count": 24,
   "metadata": {},
   "outputs": [
    {
     "name": "stdout",
     "output_type": "stream",
     "text": [
      "DETECTOR0: \n",
      " (-34.0249122537614, 18.839337555243084) ± (0.0602932221759134, 0.05951506859040695) m\n",
      "DETECTOR1: \n",
      " (-33.93210821181827, 18.627012916890152) ± (0.06414769864745215, 0.06249188645607085) m\n",
      "DETECTOR2: \n",
      " (-33.93602579586932, 18.772226194590598) ± (0.13653973299570715, 0.1326903471453161) m\n"
     ]
    }
   ],
   "source": [
    "# change the grid so that with a grid with more tiles the worse detector can get similar error to the first one\n",
    "grid0, grid2 = 10, 20\n",
    "h0 = 40; h1 = 30; h2 = 100 \n",
    "noise = [1, 1]\n",
    "\n",
    "# Analysis for detectors without noise, detector0 is an ideal detector and detector1 is a superior real detector to the real detector2\n",
    "detector0 = {'h': h0, 'dt': dt, 'x_max': x_max, 'y_max': y_max, 'grid': grid2, 'detector_constant': 0.}\n",
    "detector1 = {'h': h0, 'dt': dt, 'x_max': x_max, 'y_max': y_max, 'grid': grid2, 'detector_constant': 0.1}\n",
    "detector2 = {'h': h0, 'dt': dt, 'x_max': x_max, 'y_max': y_max, 'grid': grid2, 'detector_constant': 0.8}    \n",
    "\n",
    "# We generate the data measurement and analysis for the same source, same grid and everything, the only difference between the detectors is K\n",
    "data0 = combination(radiation, detector0, testSource, noise)\n",
    "data1 = combination(radiation, detector1, testSource, noise)\n",
    "data2 = combination(radiation, detector2, testSource, noise)\n",
    "\n",
    "# Estimated source positions (with errors) \n",
    "u0, du0 = data0[\"source_locationCF\"][0], data0[\"sourceCF_stDev\"][0]; v0, dv0 = data0[\"source_locationCF\"][1], data0[\"sourceCF_stDev\"][1] \n",
    "u1, du1 = data1[\"source_locationCF\"][0], data1[\"sourceCF_stDev\"][0]; v1, dv1 = data1[\"source_locationCF\"][1], data1[\"sourceCF_stDev\"][1]\n",
    "u2, du2 = data2[\"source_locationCF\"][0], data2[\"sourceCF_stDev\"][0]; v2, dv2 = data2[\"source_locationCF\"][1], data2[\"sourceCF_stDev\"][1]\n",
    "\n",
    "# The (u, v) ± (du, dv)\n",
    "print(\"DETECTOR0:\", \"\\n\", (u0, v0), r'±', (du0, dv0), \"m\")\n",
    "print(\"DETECTOR1:\", \"\\n\", (u1, v1), r'±', (du1, dv1), \"m\")\n",
    "print(\"DETECTOR2:\", \"\\n\", (u2, v2), r'±', (du2, dv2), \"m\")\n"
   ]
  },
  {
   "cell_type": "markdown",
   "metadata": {},
   "source": [
    "#### Comparisons between detectors"
   ]
  },
  {
   "cell_type": "code",
   "execution_count": 25,
   "metadata": {},
   "outputs": [
    {
     "data": {
      "image/png": "[encoded data removed]",
      "text/plain": [
       "<Figure size 432x288 with 1 Axes>"
      ]
     },
     "metadata": {
      "needs_background": "light"
     },
     "output_type": "display_data"
    },
    {
     "data": {
      "image/png": "[encoded data removed]",
      "text/plain": [
       "<Figure size 432x288 with 1 Axes>"
      ]
     },
     "metadata": {
      "needs_background": "light"
     },
     "output_type": "display_data"
    },
    {
     "data": {
      "image/png": "[encoded data removed]",
      "text/plain": [
       "<Figure size 432x288 with 1 Axes>"
      ]
     },
     "metadata": {
      "needs_background": "light"
     },
     "output_type": "display_data"
    },
    {
     "data": {
      "image/png": "[encoded data removed]",
      "text/plain": [
       "<Figure size 432x288 with 1 Axes>"
      ]
     },
     "metadata": {
      "needs_background": "light"
     },
     "output_type": "display_data"
    }
   ],
   "source": [
    "# errors compared to detectors with different grid, heights and qualities\n",
    "\n",
    "def compK(radiation, detector, source, noise= []):\n",
    "    Ks = np.linspace(0, 0.8, 20)\n",
    "    dus = []\n",
    "    dvs = []\n",
    "    for K in Ks:\n",
    "        detector['detector_constant'] = K \n",
    "        data = combination(radiation, detector, source, noise)\n",
    "        dus.append(data['sourceCF_stDev'][0])\n",
    "        dvs.append(data['sourceCF_stDev'][1])\n",
    "    draw(Ks, [dus, dvs], \"Coefficient of the detector, K []\", \"Absolute error [m]\")\n",
    "\n",
    "def compH(radiation, detector, source, noise= []):\n",
    "    hs = np.linspace(10, 100, 20)\n",
    "    dus = []\n",
    "    dvs = []\n",
    "    for h in hs:\n",
    "        detector['h'] = h\n",
    "        data = combination(radiation, detector, source, noise)\n",
    "        dus.append(data['sourceCF_stDev'][0])\n",
    "        dvs.append(data['sourceCF_stDev'][1])\n",
    "    draw(hs, [dus, dvs], \"Height of flyover [m]\", \"Absolute error [m]\")\n",
    "\n",
    "def compG(radiation, detector, source, noise = []):\n",
    "    grids = np.linspace(2, 42, 20)\n",
    "    dus = []\n",
    "    dvs = []\n",
    "    for grid in grids:\n",
    "        detector['grid'] = int(grid)\n",
    "        data = combination(radiation, detector, source, noise)\n",
    "        dus.append(data['sourceCF_stDev'][0])\n",
    "        dvs.append(data['sourceCF_stDev'][1])\n",
    "    draw(grids, [dus, dvs], \"Number of grid points []\", \"Absolute error [m]\")\n",
    "\n",
    "def compT(radiation, detector, source, noise = []):\n",
    "    dts = np. linspace(1, 1000, 20)\n",
    "    dus = []\n",
    "    dvs = []\n",
    "    for dt in dts:\n",
    "        detector['dt'] = dt\n",
    "        data = combination(radiation, detector, source, noise)\n",
    "        dus.append(data['sourceCF_stDev'][0])\n",
    "        dvs.append(data['sourceCF_stDev'][1])\n",
    "    draw(dts, [dus, dvs], \"Time of measurement at each grid point [s]\", \"Absolute error [m]\")\n",
    "\n",
    "def draw(xs, ys, name_x = \"\", name_y = \"\"):\n",
    "    plt.plot(list(xs), ys[0], \"o\", label = \"u-error\")\n",
    "    if len(ys) == 2:\n",
    "        plt.plot(list(xs), ys[1], \"o\", label = \"v-error\")\n",
    "\n",
    "    plt.xlabel(name_x, fontsize = 15)\n",
    "    plt.xticks(fontsize = 14)\n",
    "    plt.ylabel(name_y, fontsize = 15)\n",
    "    plt.yticks(fontsize = 14)\n",
    "\n",
    "    # plt.savefig(\"graphics/err_to_K.png\")\n",
    "    plt.legend()\n",
    "    plt.show()\n",
    "\n",
    "compK(radiation, detector0, testSource)\n",
    "compH(radiation, detector0, testSource)\n",
    "compG(radiation, detector0, testSource)\n",
    "# compT(radiation, detector0, testSource)\n",
    "\n",
    "\n",
    "# Comment: the uncertianty increasies with the detector coefficient.\n"
   ]
  },
  {
   "cell_type": "markdown",
   "metadata": {},
   "source": [
    "#### By way of fitting?"
   ]
  },
  {
   "cell_type": "code",
   "execution_count": 17,
   "metadata": {},
   "outputs": [
    {
     "ename": "KeyError",
     "evalue": "'effective_dose'",
     "output_type": "error",
     "traceback": [
      "\u001b[1;31m---------------------------------------------------------------------------\u001b[0m",
      "\u001b[1;31mKeyError\u001b[0m                                  Traceback (most recent call last)",
      "\u001b[1;32m<ipython-input-17-b53e3aa9d114>\u001b[0m in \u001b[0;36m<module>\u001b[1;34m\u001b[0m\n\u001b[0;32m     23\u001b[0m \u001b[1;33m\u001b[0m\u001b[0m\n\u001b[0;32m     24\u001b[0m \u001b[1;33m\u001b[0m\u001b[0m\n\u001b[1;32m---> 25\u001b[1;33m \u001b[0mfactor_fit\u001b[0m\u001b[1;33m(\u001b[0m\u001b[0mradiation\u001b[0m\u001b[1;33m,\u001b[0m \u001b[0mdetector0\u001b[0m\u001b[1;33m,\u001b[0m \u001b[0mtestSource1\u001b[0m\u001b[1;33m,\u001b[0m \u001b[0mtestSource2\u001b[0m\u001b[1;33m)\u001b[0m\u001b[1;33m\u001b[0m\u001b[1;33m\u001b[0m\u001b[0m\n\u001b[0m",
      "\u001b[1;32m<ipython-input-17-b53e3aa9d114>\u001b[0m in \u001b[0;36mfactor_fit\u001b[1;34m(radiation, detector, testSource1, testSource2)\u001b[0m\n\u001b[0;32m      4\u001b[0m     \u001b[0mK_range\u001b[0m \u001b[1;33m=\u001b[0m \u001b[0mnp\u001b[0m\u001b[1;33m.\u001b[0m\u001b[0mlinspace\u001b[0m\u001b[1;33m(\u001b[0m\u001b[1;36m0.01\u001b[0m\u001b[1;33m,\u001b[0m \u001b[1;36m0.99\u001b[0m\u001b[1;33m,\u001b[0m \u001b[1;36m10\u001b[0m\u001b[1;33m)\u001b[0m\u001b[1;33m\u001b[0m\u001b[1;33m\u001b[0m\u001b[0m\n\u001b[0;32m      5\u001b[0m     \u001b[0mdata01\u001b[0m \u001b[1;33m=\u001b[0m \u001b[0mcombination\u001b[0m\u001b[1;33m(\u001b[0m\u001b[0mradiation\u001b[0m\u001b[1;33m,\u001b[0m \u001b[0mdetector\u001b[0m\u001b[1;33m,\u001b[0m \u001b[0mtestSource1\u001b[0m\u001b[1;33m,\u001b[0m \u001b[0mnoise\u001b[0m\u001b[1;33m)\u001b[0m\u001b[1;33m;\u001b[0m \u001b[0mdata02\u001b[0m \u001b[1;33m=\u001b[0m \u001b[0mcombination\u001b[0m\u001b[1;33m(\u001b[0m\u001b[0mradiation\u001b[0m\u001b[1;33m,\u001b[0m \u001b[0mdetector\u001b[0m\u001b[1;33m,\u001b[0m \u001b[0mtestSource2\u001b[0m\u001b[1;33m,\u001b[0m \u001b[0mnoise\u001b[0m\u001b[1;33m)\u001b[0m\u001b[1;33m\u001b[0m\u001b[1;33m\u001b[0m\u001b[0m\n\u001b[1;32m----> 6\u001b[1;33m     \u001b[0mED01\u001b[0m \u001b[1;33m=\u001b[0m \u001b[0mdata01\u001b[0m\u001b[1;33m[\u001b[0m\u001b[1;34m'effective_dose'\u001b[0m\u001b[1;33m]\u001b[0m\u001b[1;33m[\u001b[0m\u001b[1;36m0\u001b[0m\u001b[1;33m]\u001b[0m\u001b[1;33m;\u001b[0m \u001b[0mED02\u001b[0m \u001b[1;33m=\u001b[0m \u001b[0mdata02\u001b[0m\u001b[1;33m[\u001b[0m\u001b[1;34m'effective_dose'\u001b[0m\u001b[1;33m]\u001b[0m\u001b[1;33m[\u001b[0m\u001b[1;36m0\u001b[0m\u001b[1;33m]\u001b[0m\u001b[1;33m\u001b[0m\u001b[1;33m\u001b[0m\u001b[0m\n\u001b[0m\u001b[0;32m      7\u001b[0m     \u001b[0mAs1\u001b[0m\u001b[1;33m,\u001b[0m \u001b[0mAs2\u001b[0m \u001b[1;33m=\u001b[0m \u001b[1;33m[\u001b[0m\u001b[1;33m]\u001b[0m\u001b[1;33m,\u001b[0m \u001b[1;33m[\u001b[0m\u001b[1;33m]\u001b[0m\u001b[1;33m\u001b[0m\u001b[1;33m\u001b[0m\u001b[0m\n\u001b[0;32m      8\u001b[0m     \u001b[1;32mfor\u001b[0m \u001b[0mK\u001b[0m \u001b[1;32min\u001b[0m \u001b[0mK_range\u001b[0m\u001b[1;33m:\u001b[0m\u001b[1;33m\u001b[0m\u001b[1;33m\u001b[0m\u001b[0m\n",
      "\u001b[1;31mKeyError\u001b[0m: 'effective_dose'"
     ]
    }
   ],
   "source": [
    "# For a range of detector factors from 0 to 1, find the A(K) = ED(K)/ED0\n",
    "\n",
    "def factor_fit(radiation, detector, testSource1, testSource2):\n",
    "    K_range = np.linspace(0.01, 0.99, 10)\n",
    "    data01 = combination(radiation, detector, testSource1, noise); data02 = combination(radiation, detector, testSource2, noise)\n",
    "    ED01 = data01['effective_dose'][0]; ED02 = data02['effective_dose'][0]\n",
    "    As1, As2 = [], []\n",
    "    for K in K_range:\n",
    "        detector['detector_constant'] = K\n",
    "        data1 = combination(radiation, detector, testSource1, noise); data2 = combination(radiation, detector, testSource2, noise)\n",
    "        ED1 = data1['effective_dose'][0]; ED2 = data2['effective_dose'][0]\n",
    "        A1 = ED1/ED01; A2 = ED2/ED02\n",
    "        print(A1)\n",
    "        As1.append(A1)\n",
    "        As2.append(A2)\n",
    "    plt.plot(list(K_range), As1, \"o\", color=\"b\", ms=10)\n",
    "    plt.plot(list(K_range), As2, \"o\", color=\"g\", ms=9)\n",
    "\n",
    "    plt.xlabel(\"detector coeficient\")\n",
    "    plt.ylabel(\"A(K)\")\n",
    "\n",
    "    plt.show()\n",
    "\n",
    "\n",
    "factor_fit(radiation, detector0, testSource1, testSource2)\n"
   ]
  },
  {
   "cell_type": "markdown",
   "metadata": {},
   "source": [
    "#### Relation between error and grid"
   ]
  },
  {
   "cell_type": "code",
   "execution_count": null,
   "metadata": {},
   "outputs": [
    {
     "name": "stderr",
     "output_type": "stream",
     "text": [
      "<ipython-input-17-0b9964a09a21>:2: RuntimeWarning: invalid value encountered in sqrt\n",
      "  return ((A / np.sqrt(B * (x))) + C)\n"
     ]
    },
    {
     "name": "stdout",
     "output_type": "stream",
     "text": [
      "[ 1.58332565e+00  4.58697670e+01 -2.25776432e-02] ± [1.06612082e+06 6.17721492e+07 1.01411163e-03]\n"
     ]
    },
    {
     "data": {
      "image/png": "[encoded data removed]",
      "text/plain": [
       "<Figure size 432x288 with 1 Axes>"
      ]
     },
     "metadata": {
      "needs_background": "light"
     },
     "output_type": "display_data"
    }
   ],
   "source": [
    "def func(x, A, B, C):\n",
    "    return ((A / np.sqrt(B * (x))) + C) \n",
    "    \n",
    "def fit(xs, ys):\n",
    "    popt, pcov = curve_fit(func, xs, ys, [5.93223505, 70, -0.07433773], method=\"lm\")\n",
    "    perr = np.sqrt(np.diag(pcov))\n",
    "    return popt, perr\n",
    "\n",
    "def errToGrid(radiation, detector1, detector2, testSource):\n",
    "    errs1, errs2 = [], []\n",
    "    grids = np.linspace(4, 104, 100)\n",
    "    for grid in grids:\n",
    "        detector1[\"grid\"] = int(grid)\n",
    "        detector2[\"grid\"] = int(grid)\n",
    "        data1 = combination(radiation, detector1, testSource, []); data2 = combination(radiation, detector2, testSource, [])\n",
    "        errs1.append(data1[\"effective_dose\"][1]); errs2.append(data2[\"effective_dose\"][1])\n",
    "    \n",
    "    popt1, perr1 = fit(grids, errs1); popt2, perr2 = fit(grids, errs2)\n",
    "    print(popt1, r'±', perr1)\n",
    "\n",
    "    # plt.plot(grids, np.array(errs1), \"o\")\n",
    "    plt.plot(grids, np.array([func(grid, *popt1) for grid in grids]), \"-\", label=\"detector 1\")\n",
    "    # plt.plot(grids, np.array(errs2), \"o\")\n",
    "    plt.plot(grids, np.array([func(grid, *popt2) for grid in grids]), \"-\", label=\"detector 2\")\n",
    "\n",
    "    plt.xlabel(\"Grid tiles\")\n",
    "    plt.ylabel(\"Effective dose error\")\n",
    "\n",
    "    plt.legend()\n",
    "    plt.show()\n",
    "\n",
    "errToGrid(radiation, detector1, detector2, testSource)\n"
   ]
  },
  {
   "cell_type": "code",
   "execution_count": null,
   "metadata": {},
   "outputs": [],
   "source": []
  }
 ],
 "metadata": {
  "kernelspec": {
   "display_name": "Python 3.8.10 64-bit (microsoft store)",
   "language": "python",
   "name": "python3"
  },
  "language_info": {
   "codemirror_mode": {
    "name": "ipython",
    "version": 3
   },
   "file_extension": ".py",
   "mimetype": "text/x-python",
   "name": "python",
   "nbconvert_exporter": "python",
   "pygments_lexer": "ipython3",
   "version": "3.8.10"
  },
  "orig_nbformat": 4,
  "vscode": {
   "interpreter": {
    "hash": "85ad50d9bc146c85f3fc0e59d0a5f568038cb42bd91391f1b19a754b908c4ffe"
   }
  }
 },
 "nbformat": 4,
 "nbformat_minor": 2
}
