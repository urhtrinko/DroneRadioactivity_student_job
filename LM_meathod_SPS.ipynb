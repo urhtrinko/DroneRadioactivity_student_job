{
 "cells": [
  {
   "cell_type": "code",
   "execution_count": 13,
   "metadata": {},
   "outputs": [],
   "source": [
    "import numpy as np\n",
    "import matplotlib.pyplot as plt\n",
    "import random\n",
    "from scipy.optimize import least_squares\n",
    "import sys\n",
    "from vector_class import TripleVector\n",
    "from scipy.optimize import curve_fit\n"
   ]
  },
  {
   "cell_type": "markdown",
   "metadata": {},
   "source": [
    "# Parameters"
   ]
  },
  {
   "cell_type": "code",
   "execution_count": 43,
   "metadata": {},
   "outputs": [],
   "source": [
    "A_min = 1e10 # Bq\n",
    "A_max = 2e10 # Bq\n",
    "Ab = 500 # Bq\n",
    "h = 10 # m\n",
    "dt = 100 # the pause on each point od the grid in s\n",
    "x_max = 4 # m\n",
    "y_max = 4 # m\n",
    "grid = [8, 8] # m\n",
    "n_bins = 20\n",
    "\n",
    "radiation = [A_min, A_max, Ab, dt]\n",
    "detector = [h, x_max, y_max, grid]"
   ]
  },
  {
   "cell_type": "markdown",
   "metadata": {},
   "source": [
    "## Flyover"
   ]
  },
  {
   "cell_type": "code",
   "execution_count": 33,
   "metadata": {},
   "outputs": [],
   "source": [
    "def Intensity(source, x, y, h, dt): # it equals to the activity multiplied by the time of measuring\n",
    "    u, v, A0 = source[0], source[1], source[2] # u, v are the coordinates of the source and A0 is its activity\n",
    "    return (A0*dt) / ((x - u)**2 + (y - v)**2 + h**2)\n",
    "\n",
    "def point_source(x_max, y_max, A_min, A_max, x_min=0, y_min=0):\n",
    "    if (x_min == 0) and (y_min == 0):    \n",
    "        return [random.uniform(-x_max, x_max), random.uniform(-y_max, y_max), random.uniform(A_min, A_max)]\n",
    "    else:\n",
    "        return [random.uniform(x_min, x_max), random.uniform(y_min, y_max), random.uniform(A_min, A_max)]\n",
    "\n",
    "def flyover(radiation, detector, source = []):\n",
    "    A_min, A_max, Ab, dt = radiation[0], radiation[1], radiation[2], radiation[3]\n",
    "    h, x_max, y_max, grid = detector[0], detector[1], detector[2], detector[3]\n",
    "    N_x, N_y = grid[0], grid[1]\n",
    "    square_x, square_y = (2*x_max)/N_x, (2*y_max)/N_y\n",
    "\n",
    "    grid_x, grid_y = np.zeros((N_x, N_y)), np.zeros((N_x, N_y)) \n",
    "    xs = np.linspace(-x_max + square_x/2, x_max - square_x/2, int(N_x))\n",
    "    # ys = np.linspace(-y_max + square_y/2, y_max - square_y/2, int(N_y))\n",
    "    if len(source) == 0:\n",
    "        source = point_source(x_max, y_max, A_min, A_max)\n",
    "    intensities = np.zeros((int(N_x), int(N_y)))\n",
    "    # grid_x, grid_y = np.meshgrid(xs, ys)\n",
    "    n, m = N_x - 1, 0\n",
    "    y = -y_max + square_y/2\n",
    "    i = 1\n",
    "    max_intensity = {\"number\": [0], \"postion\": [[(0, 0), (0, 0)]]}\n",
    "    for x in xs:\n",
    "        while abs(y) <= y_max:\n",
    "            intensity = Intensity(source, x, y, h, dt)\n",
    "            if Ab* dt > intensity:\n",
    "                intensities[n, m] = 0\n",
    "            else:\n",
    "                intensities[n, m] = intensity - Ab*dt\n",
    "            grid_x[n, m] = x; grid_y[n, m] = y\n",
    "            if max_intensity[\"number\"][0] < intensity:\n",
    "                max_intensity[\"number\"], max_intensity[\"position\"] = [intensity], [[(x - square_x/2, x + square_x/2), (y - square_y/2, y + square_y/2)]]\n",
    "            elif max_intensity[\"number\"][0] == intensity:\n",
    "                max_intensity[\"position\"] = [max_intensity[\"position\"][0], [(x - square_x/2, x + square_x/2), (y - square_y/2, y + square_y/2)]]\n",
    "            y += (square_y)*i\n",
    "            n -= 1*i\n",
    "        n += 1*i\n",
    "        i = i * (-1)\n",
    "        y += (square_y)*i\n",
    "        m += 1\n",
    "\n",
    "    return {\"intensities_array\": intensities, \"source\": source, \"grid_x\": grid_x, \"grid_y\": grid_y, \"hotspot\": max_intensity[\"position\"], \"square_x\": square_x, \"square_y\": square_y}\n",
    "\n",
    "measurement = flyover(radiation, detector)\n",
    "# measurement[\"intensities_array\"]\n",
    "\n"
   ]
  },
  {
   "cell_type": "markdown",
   "metadata": {},
   "source": [
    "## Location from measurement - Levenberg-Marquardt method"
   ]
  },
  {
   "cell_type": "markdown",
   "metadata": {},
   "source": [
    "### Scipy least square"
   ]
  },
  {
   "cell_type": "code",
   "execution_count": 4,
   "metadata": {},
   "outputs": [],
   "source": [
    "# Using the Levenberg-Marquardt method with scipy least squares\n",
    "def locationLM(measurement, radiation, detector):\n",
    "    A_min, A_max, dt = radiation[0], radiation[1], radiation[3]\n",
    "    h = detector[0]\n",
    "    hotspot = measurement[\"hotspot\"]\n",
    "    x_min, x_max = hotspot[0][0][0], hotspot[0][0][1]\n",
    "    y_min, y_max = hotspot[0][1][0], hotspot[0][1][1]\n",
    "    def I(source, x, y):\n",
    "        return Intensity(source, x, y, h, dt)\n",
    "\n",
    "    grid_x, grid_y = measurement[\"grid_x\"], measurement[\"grid_y\"]\n",
    "    Is = measurement[\"intensities_array\"]\n",
    "\n",
    "    def fun(source):\n",
    "        return (I(source, grid_x, grid_y) - Is).flatten()\n",
    "\n",
    "    source0 = point_source(x_max, y_max, A_min, A_max, x_min, y_min)\n",
    "    res = least_squares(fun, source0, method=\"lm\")\n",
    "\n",
    "    return res[\"x\"]\n",
    "\n",
    "measurement = flyover(radiation, detector)\n",
    "sourceLM = locationLM(measurement, radiation, detector)\n",
    "\n"
   ]
  },
  {
   "cell_type": "markdown",
   "metadata": {},
   "source": [
    "### Scipy curve fit"
   ]
  },
  {
   "cell_type": "code",
   "execution_count": 107,
   "metadata": {},
   "outputs": [],
   "source": [
    "# Also location with LM method, only now using the curve_fit scipy.optimize function \n",
    "def locationCF(measurement, radiation, detector):\n",
    "    Is, grid_x, grid_y, hotspot = measurement['intensities_array'], measurement['grid_x'], measurement['grid_y'], measurement[\"hotspot\"] # in example Z, here Is\n",
    "    A_min, A_max, dt = radiation[0], radiation[1], radiation[3]\n",
    "    h = detector[0]\n",
    "\n",
    "\n",
    "    \n",
    "    x_min, x_max = hotspot[0][0][0], hotspot[0][0][1]\n",
    "    y_min, y_max = hotspot[0][1][0], hotspot[0][1][1]\n",
    "\n",
    "    XY = np.vstack((grid_x.ravel(), grid_y.ravel()))\n",
    "    source0 = point_source(x_max, y_max, A_min, A_max, x_min, y_min)\n",
    "    \n",
    "    def intensity(x, y, u, v, A0): # it equals to the activity multiplied by the time of measuring u, v are the coordinates of the source and A0 \n",
    "        return (A0*dt) / ((x - u)**2 + (y - v)**2 + h**2) # is its activity\n",
    "\n",
    "    def _intensity(M, *args): # M is a table of shape (N, 2), where each row is a new point of measurement, N is the number of measuremnts\n",
    "        x, y = M\n",
    "        arr = np.zeros(x.shape)\n",
    "        for i in range(len(args)//3):\n",
    "            arr += intensity(x, y, *args[i*3:i*3+3])\n",
    "        return arr\n",
    "\n",
    "    # Testing the sigma/absolute_sigma for scipy curve_fit\n",
    "    dIs = Is * 0.02\n",
    "    D_Is = np.ones(Is.shape)*0.2\n",
    "\n",
    "    popt, pcov = curve_fit(_intensity, XY, Is.ravel(), source0, sigma = dIs.ravel(), absolute_sigma=True)\n",
    "    perr = np.sqrt(np.diag(pcov))\n",
    "\n",
    "    return popt, perr\n",
    "\n"
   ]
  },
  {
   "cell_type": "markdown",
   "metadata": {},
   "source": [
    "### TUTORIALS"
   ]
  },
  {
   "cell_type": "markdown",
   "metadata": {},
   "source": [
    "#### Scipy least square minimization example  "
   ]
  },
  {
   "cell_type": "code",
   "execution_count": null,
   "metadata": {},
   "outputs": [],
   "source": [
    "def h(theta, x, y, h):\n",
    "    return theta[2] * (x - theta[0])**2 + theta[3] * (y - theta[1])**2 - h\n",
    "\n",
    "xs = np.linspace(-1, 1, 20)\n",
    "ys = np.linspace(-1, 1, 20)\n",
    "dt = 10\n",
    "gridx, gridy = np.meshgrid(xs, ys)\n",
    "x0 = 0.1; y0 = -0.15; a = 1; b = 2; noise = 0.1\n",
    "hs = h([x0, y0, a, b], gridx, gridy, 10) * dt\n",
    "# hs += noise * np.random.default_rng().random(hs.shape)\n",
    "\n",
    "print(hs)\n",
    "\n",
    "def fun(theta):\n",
    "    return (h(theta, gridx, gridy, 10) * dt - hs).flatten()\n",
    "\n",
    "theta0 = [0, 0, 1, 2]\n",
    "res3 = least_squares(fun, theta0)\n",
    "\n",
    "# print(hs)\n"
   ]
  },
  {
   "cell_type": "markdown",
   "metadata": {},
   "source": [
    "#### Scipy curve fit for 2D data example"
   ]
  },
  {
   "cell_type": "code",
   "execution_count": null,
   "metadata": {},
   "outputs": [],
   "source": [
    "import numpy as np\n",
    "from scipy.optimize import curve_fit\n",
    "import matplotlib.pyplot as plt\n",
    "from mpl_toolkits.mplot3d import Axes3D\n",
    "\n",
    "# The two-dimensional domain of the fit.\n",
    "xmin, xmax, nx = -5, 4, 75\n",
    "ymin, ymax, ny = -3, 7, 150\n",
    "x, y = np.linspace(xmin, xmax, nx), np.linspace(ymin, ymax, ny)\n",
    "X, Y = np.meshgrid(x, y)\n",
    "\n",
    "# Our function to fit is going to be a sum of two-dimensional Gaussians\n",
    "def gaussian(x, y, x0, y0, xalpha, yalpha, A):\n",
    "    return A * np.exp( -((x-x0)/xalpha)**2 -((y-y0)/yalpha)**2)\n",
    "\n",
    "# A list of the Gaussian parameters: x0, y0, xalpha, yalpha, A\n",
    "gprms = [(0, 2, 2.5, 5.4, 1.5),\n",
    "         (-1, 4, 6, 2.5, 1.8),\n",
    "         (-3, -0.5, 1, 2, 4),\n",
    "         (3, 0.5, 2, 1, 5)\n",
    "        ]\n",
    "\n",
    "# Standard deviation of normally-distributed noise to add in generating\n",
    "# our test function to fit.\n",
    "noise_sigma = 0.1\n",
    "\n",
    "# The function to be fit is Z.\n",
    "Z = np.zeros(X.shape)\n",
    "for p in gprms:\n",
    "    Z += gaussian(X, Y, *p)\n",
    "Z += noise_sigma * np.random.randn(*Z.shape) # In our example this are the measured intesities Is\n",
    "\n",
    "# Plot the 3D figure of the fitted function and the residuals.\n",
    "fig = plt.figure()\n",
    "ax = fig.gca(projection='3d')\n",
    "ax.plot_surface(X, Y, Z, cmap='plasma')\n",
    "ax.set_zlim(0,np.max(Z)+2)\n",
    "plt.show()\n",
    "\n",
    "# This is the callable that is passed to curve_fit. M is a (2,N) array\n",
    "# where N is the total number of data points in Z, which will be ravelled\n",
    "# to one dimension.\n",
    "def _gaussian(M, *args):\n",
    "    x, y = M\n",
    "    arr = np.zeros(x.shape)\n",
    "    for i in range(len(args)//5):\n",
    "       arr += gaussian(x, y, *args[i*5:i*5+5])\n",
    "    return arr\n",
    "\n",
    "# Initial guesses to the fit parameters.\n",
    "guess_prms = [(0, 0, 1, 1, 2),\n",
    "              (-1.5, 5, 5, 1, 3),\n",
    "              (-4, -1, 1.5, 1.5, 6),\n",
    "              (4, 1, 1.5, 1.5, 6.5)\n",
    "             ]\n",
    "# Flatten the initial guess parameter list.\n",
    "p0 = [p for prms in guess_prms for p in prms]\n",
    "\n",
    "# We need to ravel the meshgrids of X, Y points to a pair of 1-D arrays.\n",
    "xdata = np.vstack((X.ravel(), Y.ravel()))\n",
    "# Do the fit, using our custom _gaussian function which understands our\n",
    "# flattened (ravelled) ordering of the data points.\n",
    "popt, pcov = curve_fit(_gaussian, xdata, Z.ravel(), p0)\n",
    "fit = np.zeros(Z.shape)\n",
    "for i in range(len(popt)//5):\n",
    "    fit += gaussian(X, Y, *popt[i*5:i*5+5])\n",
    "print('Fitted parameters:')\n",
    "print(popt)\n",
    "\n",
    "rms = np.sqrt(np.mean((Z - fit)**2))\n",
    "print('RMS residual =', rms)\n",
    "\n",
    "# Plot the 3D figure of the fitted function and the residuals.\n",
    "fig = plt.figure()\n",
    "ax = fig.gca(projection='3d')\n",
    "ax.plot_surface(X, Y, fit, cmap='plasma')\n",
    "cset = ax.contourf(X, Y, Z-fit, zdir='z', offset=-4, cmap='plasma')\n",
    "ax.set_zlim(-4,np.max(fit))\n",
    "plt.show()\n",
    "\n"
   ]
  },
  {
   "cell_type": "markdown",
   "metadata": {},
   "source": [
    "## Combine"
   ]
  },
  {
   "cell_type": "code",
   "execution_count": 81,
   "metadata": {},
   "outputs": [],
   "source": [
    "# combines the detector flyover and the location detection\n",
    "def combination(radiation, detector, source= []):\n",
    "    measurement = flyover(radiation, detector, source)\n",
    "    sourceLM = locationLM(measurement, radiation, detector)\n",
    "    sourceCF, stDev = locationCF(measurement, radiation, detector)[0], locationCF(measurement, radiation, detector)[1]\n",
    "    return {'measurement': measurement, 'source_locationLM': sourceLM, 'source_locationCF': sourceCF, \"sourceCF_stDev\": stDev}\n"
   ]
  },
  {
   "cell_type": "markdown",
   "metadata": {},
   "source": [
    "## Visualization"
   ]
  },
  {
   "cell_type": "code",
   "execution_count": 58,
   "metadata": {},
   "outputs": [
    {
     "name": "stdout",
     "output_type": "stream",
     "text": [
      "[1.31086759e-05 1.30700692e-05 6.84938626e+02]\n"
     ]
    },
    {
     "data": {
      "image/png": "[encoded data removed]",
      "text/plain": [
       "<Figure size 864x432 with 2 Axes>"
      ]
     },
     "metadata": {
      "needs_background": "light"
     },
     "output_type": "display_data"
    }
   ],
   "source": [
    "def visualize(measurement, x_max, y_max, points):\n",
    "    X, Y = measurement[\"source\"][0], measurement[\"source\"][1]\n",
    "    u1, v1 = points[0][0], points[0][1]\n",
    "    u2, v2 = points[1][0], points[1][1]\n",
    "    # print((u1, v1), (u2, v2))\n",
    "\n",
    "    fig, (ax1, ax2) = plt.subplots(nrows = 1, ncols = 2, figsize = (12, 6))\n",
    "    \n",
    "    im = ax1.imshow(measurement[\"intensities_array\"], extent=[-x_max,x_max,-y_max,y_max], aspect=\"auto\")\n",
    "    ax1.plot(X, Y, \"o\", color = 'r', ms=12, label = \"Original source\")\n",
    "    ax1.plot(u1, v1, \"o\", color = 'b', ms=6, label = \"Scipy least_square\")\n",
    "    ax1.plot(u2, v2, \"o\", color = 'g', ms=3, label = \"Scipy curve_fit\")\n",
    "\n",
    "    ax1.axis(\"equal\")\n",
    "    ax1.set_xlabel(\"X axis [m]\", fontsize = 15)\n",
    "    ax1.set_ylabel(\"Y axis [m]\", fontsize = 15)\n",
    "   \n",
    "    ax1.legend(fontsize = 15)\n",
    "\n",
    "    ax2.imshow(measurement[\"intensities_array\"], extent=[-x_max,x_max,-y_max,y_max], aspect=\"auto\")\n",
    "    ax2.plot(X, Y, \"o\", color = 'r', ms=12, label = \"Original source\")\n",
    "    ax2.plot(u1, v1, \"o\", color = 'b', ms=6, label = \"Scipy least_square\")\n",
    "    ax2.plot(u2, v2, \"o\", color = 'g', ms=3, label = \"Scipy curve_fit\")\n",
    "    ax2.axis(\"equal\")\n",
    "    ax2.set_xlim(measurement[\"hotspot\"][0][0][0], measurement[\"hotspot\"][0][0][1])\n",
    "    ax2.set_xlabel(\"X axis [m]\", fontsize = 15)\n",
    "    ax2.set_ylim(measurement[\"hotspot\"][0][1][0], measurement[\"hotspot\"][0][1][1])\n",
    "    ax2.set_ylabel(\"Y axis [m]\", fontsize = 15)\n",
    "\n",
    "   \n",
    "    ax2.legend(fontsize = 15)    \n",
    "\n",
    "    plt.tight_layout()\n",
    "    # plt.savefig(\"graphics/imporved.jpg\")\n",
    "    plt.show()\n",
    "    # return points[1]\n",
    "    # print(measurement[\"intensities_array\"], '\\n', measurement[\"grid_x\"], '\\n', measurement[\"grid_y\"])\n",
    "\n",
    "\n",
    "data = combination(radiation, detector)\n",
    "\n",
    "print(data['sourceCF_stDev'])\n",
    "\n",
    "visualize(data[\"measurement\"], detector[1], detector[2], [data[\"source_locationLM\"], data[\"source_locationCF\"]])\n"
   ]
  },
  {
   "cell_type": "markdown",
   "metadata": {},
   "source": [
    "## Analysis"
   ]
  },
  {
   "cell_type": "code",
   "execution_count": 54,
   "metadata": {},
   "outputs": [
    {
     "data": {
      "image/png": "[encoded data removed]",
      "text/plain": [
       "<Figure size 432x288 with 1 Axes>"
      ]
     },
     "metadata": {
      "needs_background": "light"
     },
     "output_type": "display_data"
    },
    {
     "name": "stdout",
     "output_type": "stream",
     "text": [
      "6.840804743175233e-06\n"
     ]
    }
   ],
   "source": [
    "def dist_points(point1, point2):\n",
    "    return (point1 - point2).magnitude()\n",
    "\n",
    "# run simulation n_sim times and keep track of the distance between the original source and estimated source. Plot a histogram for the values.\n",
    "def stDev(radiation, detector, n_sim):\n",
    "    R = []\n",
    "    for i in range(n_sim):\n",
    "        data = combination(radiation, detector)\n",
    "        original = (data[\"measurement\"])[\"source\"]\n",
    "        estimate = data[\"source_locationLM\"]\n",
    "        R.append(dist_points(TripleVector(original[0], original[1], 0), TripleVector(estimate[0], estimate[1], 0)))\n",
    " \n",
    "    plt.hist(np.array(R), 100)\n",
    "    plt.xlabel(\"r error [m]\", fontsize = 15)\n",
    "    plt.xticks(fontsize = 15)\n",
    "    plt.ylabel(\"number of values\", fontsize = 15)\n",
    "    plt.yticks(fontsize = 15)\n",
    "\n",
    "    #plt.legend(fontsize = 15)\n",
    "    #plt.grid()\n",
    "\n",
    "    plt.tight_layout()\n",
    "    # plt.savefig(\"graphics/dr_hist.jpg\")\n",
    "    plt.show()\n",
    "\n",
    "    d_R = np.std(R)\n",
    "\n",
    "    return d_R\n",
    "\n",
    "n_sim = 1000\n",
    "print(stDev(radiation, detector, n_sim))"
   ]
  },
  {
   "cell_type": "markdown",
   "metadata": {},
   "source": [
    "# Code description"
   ]
  },
  {
   "cell_type": "code",
   "execution_count": 111,
   "metadata": {},
   "outputs": [
    {
     "name": "stdout",
     "output_type": "stream",
     "text": [
      "u = 0.917473150437555 (1 ± 0.6198342582445293) m\n",
      "v = -2.8878887421852513 (1 ± -0.1987244220743811) m\n",
      "A0 = 12010690566.835854 (1 ± 0.002914682073705713) Bq\n"
     ]
    },
    {
     "data": {
      "image/png": "[encoded data removed]",
      "text/plain": [
       "<Figure size 864x432 with 2 Axes>"
      ]
     },
     "metadata": {
      "needs_background": "light"
     },
     "output_type": "display_data"
    }
   ],
   "source": [
    "# DESCRIPTION OF THE CODE\n",
    "\n",
    "# In comparisson to the code in simple_SPS.ipynb there are a few minor changes. The intensity function is defined diferently. It takes into\n",
    "# consideration two points, the source of the radiation and the position of a measurement. Flyover() is very similar to the older version \n",
    "# it just uses the new intensity and also the activity of the source is randomly generated - it is one of the parameters which we are fitting.\n",
    "\n",
    "# locationLM() is the major chenge. We use the scipy least square Levenberg-marquardt method to minimize the square residuals of the model \n",
    "# intensity and the measured intensity. Through the minimization we can output the paramaters which we are searching for - u, v and A0 (x/y \n",
    "# coordinates of the source and its intensity).\n",
    "\n",
    "# visualize() shows us that this method is much more accurate then the previously used location searching method.\n",
    "\n",
    "# PARAMETERS\n",
    "A_min = 1e10; A_max = 1.5e10 # borders between which the activity of the source is randomly selected \n",
    "Ab = 500 # background activity in Bq\n",
    "h = 40 # hight at which the detector flies over in m\n",
    "x_max = 5 # Size of the area of flyover in x direction in m\n",
    "y_max = 5 # Size of the area of flyover in y direction in m\n",
    "grid = [10, 10] # Size of the grid in which the area of flyover is divided into smaller \"tiles\" where the detector stops and measures the\n",
    "                # number of radioactive decays. The first number is the number of these areas in x direction and the second is the number in y\n",
    "                # direction, components must be INTEGERS!\n",
    "D_t = 100 # the pause on each point od the grid in s\n",
    "n_bins = 20 # number of bins in the histogram made by find_source()\n",
    "\n",
    "# Combinig the parameters into a list so that the data is more compacted\n",
    "radiation = [A_min, A_max, Ab, D_t]\n",
    "detector = [h, x_max, y_max, grid]\n",
    "\n",
    "data = combination(radiation, detector)\n",
    "\n",
    "print(\"u =\", data[\"source_locationCF\"][0], \"(1\", r'±', str(data['sourceCF_stDev'][0]/data[\"source_locationCF\"][0]) + \")\", \"m\")\n",
    "print(\"v =\", data[\"source_locationCF\"][1], \"(1\", r'±', str(data['sourceCF_stDev'][1]/data[\"source_locationCF\"][1]) + \")\", \"m\")\n",
    "print(\"A0 =\", data[\"source_locationCF\"][2], \"(1\", r'±', str(data[\"sourceCF_stDev\"][2]/data[\"source_locationCF\"][2]) + \")\", \"Bq\")\n",
    "\n",
    "visualize(data[\"measurement\"], detector[1], detector[2], [data[\"source_locationLM\"], data[\"source_locationCF\"]])\n"
   ]
  },
  {
   "cell_type": "code",
   "execution_count": null,
   "metadata": {},
   "outputs": [],
   "source": []
  }
 ],
 "metadata": {
  "kernelspec": {
   "display_name": "Python 3.8.10 64-bit (microsoft store)",
   "language": "python",
   "name": "python3"
  },
  "language_info": {
   "codemirror_mode": {
    "name": "ipython",
    "version": 3
   },
   "file_extension": ".py",
   "mimetype": "text/x-python",
   "name": "python",
   "nbconvert_exporter": "python",
   "pygments_lexer": "ipython3",
   "version": "3.8.10"
  },
  "orig_nbformat": 4,
  "vscode": {
   "interpreter": {
    "hash": "85ad50d9bc146c85f3fc0e59d0a5f568038cb42bd91391f1b19a754b908c4ffe"
   }
  }
 },
 "nbformat": 4,
 "nbformat_minor": 2
}
