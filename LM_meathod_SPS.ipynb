{
 "cells": [
  {
   "cell_type": "code",
   "execution_count": 1,
   "metadata": {},
   "outputs": [],
   "source": [
    "import numpy as np\n",
    "from numpy import unravel_index\n",
    "import matplotlib.pyplot as plt\n",
    "import random\n",
    "from scipy.optimize import least_squares\n",
    "import sys\n",
    "from vector_class import TripleVector\n",
    "from scipy.optimize import curve_fit\n"
   ]
  },
  {
   "cell_type": "markdown",
   "metadata": {},
   "source": [
    "# Parameters"
   ]
  },
  {
   "cell_type": "code",
   "execution_count": 71,
   "metadata": {},
   "outputs": [],
   "source": [
    "A_min = 1e3 # Bq\n",
    "A_max = 2e3 # Bq\n",
    "Ab = 5e-5 # Bq\n",
    "h = 10 # m\n",
    "dt = 100 # the pause on each point od the grid in s\n",
    "x_max = 4; sigma_x = 0.1 # m\n",
    "y_max = 4; sigma_y = 0.1 # m\n",
    "grid = 8\n",
    "n_bins = 20\n",
    "K = 0.1 # is somewhere in the interval [0, 1]\n",
    "F = 0.140 # factor for inhilation of Pu-239 in mSV/Bq\n",
    "\n",
    "radiation = {\"A_min\": A_min, \"A_max\": A_max, \"Ab\": Ab, \"dt\": dt, \"dose_factor\": F}\n",
    "detector = {\"h\": h, \"x_max\": x_max, \"y_max\": y_max, \"grid\": grid, \"detector_constant\": K} # the detector constant tells us the quality of the \n",
    "                                                                                          # detector\n"
   ]
  },
  {
   "cell_type": "markdown",
   "metadata": {},
   "source": [
    "## Flyover"
   ]
  },
  {
   "cell_type": "code",
   "execution_count": 78,
   "metadata": {},
   "outputs": [],
   "source": [
    " # it equals to the activity multiplied by the time of measuring - number of events measured at the location\n",
    "def N_func(source, x, y, h, dt):\n",
    "    u, v, A0 = source[0], source[1], source[2] # u, v are the coordinates of the source and A0 is its activity\n",
    "    return (A0*dt) / ((x - u)**2 + (y - v)**2 + h**2)\n",
    "\n",
    "def point_source(x_max, y_max, A_min, A_max, x_min=0, y_min=0):\n",
    "    if (x_min == 0) and (y_min == 0):    \n",
    "        return [random.uniform(-x_max, x_max), random.uniform(-y_max, y_max), random.uniform(A_min, A_max)]\n",
    "    else:\n",
    "        return [random.uniform(x_min, x_max), random.uniform(y_min, y_max), random.uniform(A_min, A_max)]\n",
    "\n",
    "# Noise is a list that contanins the standard deviations of x/y coordinates as a result of the error of the detector\n",
    "def flyover(radiation, detector, source = [], noise = []):\n",
    "    A_min, A_max, Ab, dt = radiation[\"A_min\"], radiation[\"A_max\"], radiation[\"Ab\"], radiation[\"dt\"]\n",
    "    h, x_max, y_max, grid, K = detector[\"h\"], detector[\"x_max\"], detector[\"y_max\"], detector[\"grid\"], detector[\"detector_constant\"]\n",
    "    N_grid = grid\n",
    "    square_x, square_y = (2*x_max)/N_grid, (2*y_max)/N_grid\n",
    "\n",
    "    grid_x, grid_y = np.zeros((N_grid, N_grid)), np.zeros((N_grid, N_grid))\n",
    "    grid_x_noise, grid_y_noise = np.zeros((N_grid, N_grid)), np.zeros((N_grid, N_grid))\n",
    "    xs = np.linspace(-x_max + square_x/2, x_max - square_x/2, int(N_grid))\n",
    "    \n",
    "    # If the source is not specified, then it is randomly generated \n",
    "    if len(source) == 0: \n",
    "        source = point_source(x_max, y_max, A_min, A_max)\n",
    "    Ns = np.zeros((int(N_grid), int(N_grid)))\n",
    "    \n",
    "    n, m = N_grid - 1, 0\n",
    "    y = -y_max + square_y/2\n",
    "    i = 1\n",
    "    for x in xs:\n",
    "        while abs(y) <= y_max:\n",
    "            N = N_func(source, x, y, h, dt)\n",
    "            \n",
    "            # Add noise to the location data because of the GPS uncertianty\n",
    "            if len(noise) != 0:\n",
    "                sigma_x = noise[0]; sigma_y = noise[1]\n",
    "                grid_x_noise[n, m] = x + np.random.normal(0, sigma_x)\n",
    "                grid_y_noise[n, m] = y + np.random.normal(0, sigma_y)\n",
    "\n",
    "            # Don't count the signal which is weaker than the background\n",
    "            if Ab* dt > N:\n",
    "                Ns[n, m] = 0\n",
    "            else:\n",
    "                Ns[n, m] = N*(1 - K) - Ab*dt\n",
    "            \n",
    "            grid_x[n, m] = x; grid_y[n, m] = y\n",
    "            y += (square_y)*i\n",
    "            n -= 1*i\n",
    "        n += 1*i; i = i * (-1); y += (square_y)*i; m += 1\n",
    "    i_max, j_max = unravel_index(Ns.argmax(), Ns.shape)\n",
    "    x_c, y_c = grid_x[i_max, j_max], grid_y[i_max, j_max]\n",
    "    maxI_range = {\"xrange\": (x_c - square_x/2, x_c + square_x/2), \"yrange\": (y_c - square_x/2, y_c + square_x/2)}\n",
    "\n",
    "    return {\"N_array\": Ns, \"source\": source, \"grid_x\": grid_x, \"grid_y\": grid_y, \"grid_x_noise\": grid_x_noise, \"grid_y_noise\": grid_y_noise, \"hotspot\": maxI_range, \"square_x\": square_x, \"square_y\": square_y}\n",
    "\n",
    "measurement = flyover(radiation, detector)\n",
    "\n",
    "# hotspot = measurement[\"hotspot\"]\n",
    "# x_0, x_1 = hotspot[\"xrange\"]; y_0, y_1 = hotspot[\"yrange\"]\n",
    "\n"
   ]
  },
  {
   "cell_type": "markdown",
   "metadata": {},
   "source": [
    "## Location from measurement - Levenberg-Marquardt method"
   ]
  },
  {
   "cell_type": "markdown",
   "metadata": {},
   "source": [
    "### Scipy least square"
   ]
  },
  {
   "cell_type": "code",
   "execution_count": 4,
   "metadata": {},
   "outputs": [],
   "source": [
    "# Using the Levenberg-Marquardt method with scipy least squares\n",
    "def locationLM(measurement, radiation, detector):\n",
    "    A_min, A_max, dt = radiation[\"A_min\"], radiation[\"A_max\"], radiation[\"dt\"]\n",
    "    h = detector[\"h\"]\n",
    "    hotspot = measurement[\"hotspot\"]\n",
    "    x_0, x_1 = hotspot[\"xrange\"]; y_0, y_1 = hotspot[\"yrange\"]\n",
    "    def N(source, x, y):\n",
    "        return N_func(source, x, y, h, dt)\n",
    "\n",
    "    grid_x, grid_y = measurement[\"grid_x\"], measurement[\"grid_y\"]\n",
    "    Ns = measurement[\"N_array\"]\n",
    "\n",
    "    def fun(source):\n",
    "        return (N(source, grid_x, grid_y) - Ns).flatten()\n",
    "\n",
    "    source0 = point_source(x_0, y_0, A_min, A_max, x_1, y_1)\n",
    "    res = least_squares(fun, source0, method=\"lm\")\n",
    "\n",
    "    return res[\"x\"]\n",
    "\n",
    "measurement = flyover(radiation, detector)\n",
    "sourceLM = locationLM(measurement, radiation, detector)\n",
    "\n"
   ]
  },
  {
   "cell_type": "markdown",
   "metadata": {},
   "source": [
    "### Scipy curve fit"
   ]
  },
  {
   "cell_type": "code",
   "execution_count": 5,
   "metadata": {},
   "outputs": [],
   "source": [
    "# Also location with LM method, only now using the curve_fit scipy.optimize function \n",
    "def locationCF(measurement, radiation, detector, noise = []):\n",
    "    Ns, grid_x, grid_y, hotspot = measurement['N_array'], measurement['grid_x'], measurement['grid_y'], measurement[\"hotspot\"] # in example Z, here Is\n",
    "    grid_x_noise = measurement['grid_x_noise']; grid_y_noise = measurement['grid_y_noise']\n",
    "    A_min, A_max, dt = radiation[\"A_min\"], radiation[\"A_max\"], radiation[\"dt\"]\n",
    "    h = detector[\"h\"]\n",
    "\n",
    "    x_0, x_1 = hotspot[\"xrange\"]; y_0, y_1 = hotspot[\"yrange\"]\n",
    "\n",
    "    if len(noise) == 0:\n",
    "        XY = np.vstack((grid_x.ravel(), grid_y.ravel()))\n",
    "    else:\n",
    "        XY = np.vstack((grid_x_noise.ravel(), grid_y_noise.ravel()))\n",
    "    source0 = point_source(x_0, y_0, A_min, A_max, x_1, y_1)\n",
    "    \n",
    "    def N(x, y, u, v, A0): # it equals to the activity multiplied by the time of measuring u, v are the coordinates of the source and A0 \n",
    "        return (A0*dt) / ((x - u)**2 + (y - v)**2 + h**2) # is its activity\n",
    "\n",
    "    def _N(M, *args): # M is a table of shape (N, 2), where each row is a new point of measurement, N is the number of measuremnts\n",
    "        x, y = M\n",
    "        arr = np.zeros(x.shape)\n",
    "        for i in range(len(args)//3):\n",
    "            arr += N(x, y, *args[i*3:i*3+3])\n",
    "        return arr\n",
    "\n",
    "    popt, pcov = curve_fit(_N, XY, Ns.ravel(), source0, method=\"lm\")\n",
    "    perr = np.sqrt(np.diag(pcov))\n",
    "    \n",
    "\n",
    "    MyDict = {\"XY\": XY, \"Ns\": Ns, \"source0\": source0}\n",
    "\n",
    "    return popt, perr, MyDict\n",
    "\n",
    "\n",
    "sourceCF = locationCF(measurement, radiation, detector) \n"
   ]
  },
  {
   "cell_type": "markdown",
   "metadata": {},
   "source": [
    "### Standard deviation"
   ]
  },
  {
   "cell_type": "code",
   "execution_count": 6,
   "metadata": {},
   "outputs": [],
   "source": [
    "def locationCFerror(measurement, radiation, detector):\n",
    "    h = detector[\"h\"]; dt = radiation[\"dt\"]\n",
    "    dx = detector[\"dx\"]; dy = detector[\"dy\"]\n",
    "    \n",
    "    def intensity(x, y, u, v, A0): # it equals to the activity multiplied by the time of measuring u, v are the coordinates of the source and A0 \n",
    "        return (A0*dt) / ((x - u)**2 + (y - v)**2 + h**2) # is its activity\n",
    "\n",
    "    def _intensity(M, *args): # M is a table of shape (N, 2), where each row is a new point of measurement, N is the number of measuremnts\n",
    "        x, y = M\n",
    "        arr = np.zeros(x.shape)\n",
    "        for i in range(len(args)//3):\n",
    "            arr += intensity(x, y, *args[i*3:i*3+3])\n",
    "        return arr\n",
    "    \n",
    "    popt0, perr0 = locationCF(measurement, radiation, detector)[0], locationCF(measurement, radiation, detector)[1]\n",
    "    u = popt0[0]; v = popt0[1]; A0 = popt0[2]\n",
    "    du = perr0[0]; dv = perr0[1]; dA0 = perr0[2]\n",
    "\n",
    "    MyDict = locationCF(measurement, radiation, detector)[2]\n",
    "    XY = MyDict[\"XY\"]; Is = MyDict[\"Is\"]; source0 = MyDict[\"source0\"]\n",
    "\n",
    "    def stDev_I(x, y, u, v, A0):\n",
    "        C = ((A0 * dt) / ((x-u)**2 + (x-v)**2 + h**2))\n",
    "        return C * np.sqrt(4*(dx**2 + du**2)*(x - u)**2 + 4*(dy**2 + dv**2)*(y - v)**2 + (((x - u)**2 + (y - v)**2 + h**2)**2 / A0**2)*dA0**2)\n",
    "    \n",
    "\n",
    "    dIs = np.array([stDev_I(x, y, u, v, A0) for x in XY[0] for y in XY[0]])\n",
    "    popt, pcov = curve_fit(_intensity, XY, Is.ravel(), sigma = dIs.ravel(), absolute_sigma=True)\n",
    "\n",
    "    return popt, pcov\n",
    "\n",
    "# print(locationCFerror(measurement, radiation, detector))\n"
   ]
  },
  {
   "cell_type": "markdown",
   "metadata": {},
   "source": [
    "### TUTORIALS"
   ]
  },
  {
   "cell_type": "markdown",
   "metadata": {},
   "source": [
    "#### Scipy least square minimization example  "
   ]
  },
  {
   "cell_type": "code",
   "execution_count": null,
   "metadata": {},
   "outputs": [],
   "source": [
    "def h(theta, x, y, h):\n",
    "    return theta[2] * (x - theta[0])**2 + theta[3] * (y - theta[1])**2 - h\n",
    "\n",
    "xs = np.linspace(-1, 1, 20)\n",
    "ys = np.linspace(-1, 1, 20)\n",
    "dt = 10\n",
    "gridx, gridy = np.meshgrid(xs, ys)\n",
    "x0 = 0.1; y0 = -0.15; a = 1; b = 2; noise = 0.1\n",
    "hs = h([x0, y0, a, b], gridx, gridy, 10) * dt\n",
    "# hs += noise * np.random.default_rng().random(hs.shape)\n",
    "\n",
    "print(hs)\n",
    "\n",
    "def fun(theta):\n",
    "    return (h(theta, gridx, gridy, 10) * dt - hs).flatten()\n",
    "\n",
    "theta0 = [0, 0, 1, 2]\n",
    "res3 = least_squares(fun, theta0)\n",
    "\n",
    "# print(hs)\n"
   ]
  },
  {
   "cell_type": "markdown",
   "metadata": {},
   "source": [
    "#### Scipy curve fit for 2D data example"
   ]
  },
  {
   "cell_type": "code",
   "execution_count": null,
   "metadata": {},
   "outputs": [],
   "source": [
    "import numpy as np\n",
    "from scipy.optimize import curve_fit\n",
    "import matplotlib.pyplot as plt\n",
    "from mpl_toolkits.mplot3d import Axes3D\n",
    "\n",
    "# The two-dimensional domain of the fit.\n",
    "xmin, xmax, nx = -5, 4, 75\n",
    "ymin, ymax, ny = -3, 7, 150\n",
    "x, y = np.linspace(xmin, xmax, nx), np.linspace(ymin, ymax, ny)\n",
    "X, Y = np.meshgrid(x, y)\n",
    "\n",
    "# Our function to fit is going to be a sum of two-dimensional Gaussians\n",
    "def gaussian(x, y, x0, y0, xalpha, yalpha, A):\n",
    "    return A * np.exp( -((x-x0)/xalpha)**2 -((y-y0)/yalpha)**2)\n",
    "\n",
    "# A list of the Gaussian parameters: x0, y0, xalpha, yalpha, A\n",
    "gprms = [(0, 2, 2.5, 5.4, 1.5),\n",
    "         (-1, 4, 6, 2.5, 1.8),\n",
    "         (-3, -0.5, 1, 2, 4),\n",
    "         (3, 0.5, 2, 1, 5)\n",
    "        ]\n",
    "\n",
    "# Standard deviation of normally-distributed noise to add in generating\n",
    "# our test function to fit.\n",
    "noise_sigma = 0.1\n",
    "\n",
    "# The function to be fit is Z.\n",
    "Z = np.zeros(X.shape)\n",
    "for p in gprms:\n",
    "    Z += gaussian(X, Y, *p)\n",
    "Z += noise_sigma * np.random.randn(*Z.shape) # In our example this are the measured intesities Is\n",
    "\n",
    "# Plot the 3D figure of the fitted function and the residuals.\n",
    "fig = plt.figure()\n",
    "ax = fig.gca(projection='3d')\n",
    "ax.plot_surface(X, Y, Z, cmap='plasma')\n",
    "ax.set_zlim(0,np.max(Z)+2)\n",
    "plt.show()\n",
    "\n",
    "# This is the callable that is passed to curve_fit. M is a (2,N) array\n",
    "# where N is the total number of data points in Z, which will be ravelled\n",
    "# to one dimension.\n",
    "def _gaussian(M, *args):\n",
    "    x, y = M\n",
    "    arr = np.zeros(x.shape)\n",
    "    for i in range(len(args)//5):\n",
    "       arr += gaussian(x, y, *args[i*5:i*5+5])\n",
    "    return arr\n",
    "\n",
    "# Initial guesses to the fit parameters.\n",
    "guess_prms = [(0, 0, 1, 1, 2),\n",
    "              (-1.5, 5, 5, 1, 3),\n",
    "              (-4, -1, 1.5, 1.5, 6),\n",
    "              (4, 1, 1.5, 1.5, 6.5)\n",
    "             ]\n",
    "# Flatten the initial guess parameter list.\n",
    "p0 = [p for prms in guess_prms for p in prms]\n",
    "\n",
    "# We need to ravel the meshgrids of X, Y points to a pair of 1-D arrays.\n",
    "xdata = np.vstack((X.ravel(), Y.ravel()))\n",
    "# Do the fit, using our custom _gaussian function which understands our\n",
    "# flattened (ravelled) ordering of the data points.\n",
    "popt, pcov = curve_fit(_gaussian, xdata, Z.ravel(), p0)\n",
    "fit = np.zeros(Z.shape)\n",
    "for i in range(len(popt)//5):\n",
    "    fit += gaussian(X, Y, *popt[i*5:i*5+5])\n",
    "print('Fitted parameters:')\n",
    "print(popt)\n",
    "\n",
    "rms = np.sqrt(np.mean((Z - fit)**2))\n",
    "print('RMS residual =', rms)\n",
    "\n",
    "# Plot the 3D figure of the fitted function and the residuals.\n",
    "fig = plt.figure()\n",
    "ax = fig.gca(projection='3d')\n",
    "ax.plot_surface(X, Y, fit, cmap='plasma')\n",
    "cset = ax.contourf(X, Y, Z-fit, zdir='z', offset=-4, cmap='plasma')\n",
    "ax.set_zlim(-4,np.max(fit))\n",
    "plt.show()\n",
    "\n"
   ]
  },
  {
   "cell_type": "markdown",
   "metadata": {},
   "source": [
    "## Combine"
   ]
  },
  {
   "cell_type": "code",
   "execution_count": 118,
   "metadata": {},
   "outputs": [],
   "source": [
    "# combines the detector flyover and the location detection\n",
    "def combination(radiation, detector, source=[], noise=[]):\n",
    "    measurement = flyover(radiation, detector, source, noise)\n",
    "    sourceLM = locationLM(measurement, radiation, detector)\n",
    "    sourceCF, stDev = locationCF(measurement, radiation, detector, noise)[0], locationCF(measurement, radiation, detector, noise)[1]\n",
    "    eff_dose = sourceCF[2] * radiation['dose_factor']/(1 - detector['detector_constant']); deff_dose = stDev[2] * radiation[\"dose_factor\"]/(1 - detector['detector_constant'])\n",
    "    return {'measurement': measurement, 'source_locationLM': sourceLM, 'source_locationCF': sourceCF, \"sourceCF_stDev\": stDev, \"effective_dose\": [eff_dose, deff_dose]}\n",
    "\n",
    "data = combination(radiation, detector, [], [])\n"
   ]
  },
  {
   "cell_type": "code",
   "execution_count": 10,
   "metadata": {},
   "outputs": [
    {
     "name": "stdout",
     "output_type": "stream",
     "text": [
      "{'Hd': 1.9413321279377133e+17, 'rel_Hd': 2.269603952119381e-06} \n",
      " {'Hd': 1.9413321279377134e+19, 'rel_Hd': 2.269603952119381e-06}\n"
     ]
    }
   ],
   "source": [
    "def radioactive_dose(C, Dt, data):\n",
    "    A0 = data['source_locationCF'][2]\n",
    "    Hd = C * A0 * Dt\n",
    "    rel_Hd = 1/np.sqrt(Hd/C)\n",
    "    return {\"Hd\": Hd, \"rel_Hd\": rel_Hd}\n",
    "\n",
    "det1 = radioactive_dose(1e6, 100, data)\n",
    "det2 = radioactive_dose(1e8, 100, data)\n",
    "\n",
    "print(det1, \"\\n\", det2)\n"
   ]
  },
  {
   "cell_type": "markdown",
   "metadata": {},
   "source": [
    "## Visualization"
   ]
  },
  {
   "cell_type": "code",
   "execution_count": 76,
   "metadata": {},
   "outputs": [
    {
     "name": "stdout",
     "output_type": "stream",
     "text": [
      "1500000.0 1000000.0\n"
     ]
    },
    {
     "data": {
      "image/png": "[encoded data removed]",
      "text/plain": [
       "<Figure size 864x432 with 2 Axes>"
      ]
     },
     "metadata": {
      "needs_background": "light"
     },
     "output_type": "display_data"
    }
   ],
   "source": [
    "def visualize(measurement, x_max, y_max, points):\n",
    "    X, Y = measurement[\"source\"][0], measurement[\"source\"][1]\n",
    "    u1, v1 = points[0][0], points[0][1]\n",
    "    u2, v2 = points[1][0], points[1][1]\n",
    "    # print((u1, v1), (u2, v2))\n",
    "\n",
    "    fig, (ax1, ax2) = plt.subplots(nrows = 1, ncols = 2, figsize = (12, 6))\n",
    "    \n",
    "    im = ax1.imshow(measurement[\"N_array\"], extent=[-x_max,x_max,-y_max,y_max], aspect=\"auto\")\n",
    "    ax1.plot(X, Y, \"o\", color = 'r', ms=12, label = \"Original source\")\n",
    "    ax1.plot(u1, v1, \"o\", color = 'g', ms=6, label = \"Scipy least_square\")\n",
    "    ax1.plot(u2, v2, \"o\", color = 'k', ms=3, label = \"Scipy curve_fit\")\n",
    "\n",
    "    ax1.axis(\"equal\")\n",
    "    ax1.set_xlabel(\"X axis [m]\", fontsize = 15)\n",
    "    ax1.set_ylabel(\"Y axis [m]\", fontsize = 15)\n",
    "   \n",
    "    ax1.legend(fontsize = 15)\n",
    "\n",
    "    hotspot = measurement[\"hotspot\"]\n",
    "    x_0, x_1 = hotspot[\"xrange\"]; y_0, y_1 = hotspot[\"yrange\"]\n",
    "\n",
    "    ax2.imshow(measurement[\"N_array\"], extent=[-x_max,x_max,-y_max,y_max], aspect=\"auto\")\n",
    "    ax2.plot(X, Y, \"o\", color = 'r', ms=12, label = \"Original source\")\n",
    "    ax2.plot(u1, v1, \"o\", color = 'g', ms=6, label = \"Scipy least_square\")\n",
    "    ax2.plot(u2, v2, \"o\", color = 'k', ms=3, label = \"Scipy curve_fit\")\n",
    "    ax2.axis(\"equal\")\n",
    "    ax2.set_xlim(x_0, x_1)\n",
    "    ax2.set_xlabel(\"X axis [m]\", fontsize = 15)\n",
    "    ax2.set_ylim(y_0, y_1)\n",
    "    ax2.set_ylabel(\"Y axis [m]\", fontsize = 15)\n",
    "\n",
    "   \n",
    "    ax2.legend(fontsize = 15)    \n",
    "\n",
    "    plt.tight_layout()\n",
    "    # plt.savefig(\"graphics/imporved.jpg\")\n",
    "    plt.show()\n",
    "    # return points[1]\n",
    "    # print(measurement[\"intensities_array\"], '\\n', measurement[\"grid_x\"], '\\n', measurement[\"grid_y\"])\n",
    "\n",
    "# 0.1, 0.1, 100\n",
    "data = combination(radiation, detector, [], [])\n",
    "\n",
    "print(A_max, A_min)\n",
    "\n",
    "visualize(data[\"measurement\"], detector[\"x_max\"], detector[\"y_max\"], [data[\"source_locationLM\"], data[\"source_locationCF\"]])\n"
   ]
  },
  {
   "cell_type": "markdown",
   "metadata": {},
   "source": [
    "## Analysis"
   ]
  },
  {
   "cell_type": "markdown",
   "metadata": {},
   "source": [
    "### Standard deviation"
   ]
  },
  {
   "cell_type": "code",
   "execution_count": 12,
   "metadata": {},
   "outputs": [
    {
     "data": {
      "image/png": "[encoded data removed]",
      "text/plain": [
       "<Figure size 432x288 with 1 Axes>"
      ]
     },
     "metadata": {
      "needs_background": "light"
     },
     "output_type": "display_data"
    },
    {
     "name": "stdout",
     "output_type": "stream",
     "text": [
      "7.075455872098622e-05\n"
     ]
    }
   ],
   "source": [
    "def dist_points(point1, point2):\n",
    "    return (point1 - point2).magnitude()\n",
    "\n",
    "# run simulation n_sim times and keep track of the distance between the original source and estimated source. Plot a histogram for the values.\n",
    "def stDev(radiation, detector, n_sim):\n",
    "    R = []\n",
    "    for i in range(n_sim):\n",
    "        data = combination(radiation, detector)\n",
    "        original = (data[\"measurement\"])[\"source\"]\n",
    "        estimate = data[\"source_locationLM\"]\n",
    "        R.append(dist_points(TripleVector(original[0], original[1], 0), TripleVector(estimate[0], estimate[1], 0)))\n",
    " \n",
    "    plt.hist(np.array(R), 100)\n",
    "    plt.xlabel(\"r error [m]\", fontsize = 15)\n",
    "    plt.xticks(fontsize = 15)\n",
    "    plt.ylabel(\"number of values\", fontsize = 15)\n",
    "    plt.yticks(fontsize = 15)\n",
    "\n",
    "    #plt.legend(fontsize = 15)\n",
    "    #plt.grid()\n",
    "\n",
    "    plt.tight_layout()\n",
    "    # plt.savefig(\"graphics/dr_hist.jpg\")\n",
    "    plt.show()\n",
    "\n",
    "    d_R = np.std(R)\n",
    "\n",
    "    return d_R\n",
    "\n",
    "n_sim = 1000\n",
    "print(stDev(radiation, detector, n_sim))"
   ]
  },
  {
   "cell_type": "markdown",
   "metadata": {},
   "source": [
    "### Scipy curve_fit sigma analysis"
   ]
  },
  {
   "cell_type": "code",
   "execution_count": 13,
   "metadata": {},
   "outputs": [],
   "source": [
    "source1 = point_source(x_max, y_max, A_min, A_max)"
   ]
  },
  {
   "cell_type": "code",
   "execution_count": null,
   "metadata": {},
   "outputs": [],
   "source": [
    "def sigmaAnalysis(radiation, detector, source1, sigmas):\n",
    "    listX = []; listY = []; listA0 = []\n",
    "    for sigma in sigmas:\n",
    "        data = combination(radiation, detector, source1, sigma)\n",
    "        perr = data[\"sourceCF_stDev\"]\n",
    "        listX.append(perr[0]); listY.append(perr[1]); listA0.append(perr[2])\n",
    "\n",
    "    fig, (ax1, ax2) = plt.subplots(nrows=1, ncols=2, figsize=(10, 5))\n",
    "    \n",
    "    ax1.plot(sigmas, listX, \"o\", color = \"r\", ms=7, label = \"X coordinates\")\n",
    "    ax1.plot(sigmas, listY, \"o\", color = \"b\", ms=6, label = \"Y coordinates\")\n",
    "\n",
    "    ax1.set_xlabel(\"Relative error of measurements of intnesity\")\n",
    "    ax1.set_ylabel(\"Absolute error [m]\")\n",
    "\n",
    "    ax1.legend(fontsize = 15)\n",
    "\n",
    "\n",
    "    ax2.plot(sigmas, listA0, \"o\", color = \"g\", label = \"Source activity\")\n",
    "\n",
    "    ax2.set_xlabel(\"Relative error of measurements of intnesity\")\n",
    "    ax2.set_ylabel(\"Absolute error [Bq]\")\n",
    "\n",
    "    ax2.legend(fontsize = 15)\n",
    "\n",
    "sigmas = np.linspace(0, 0.1, 100)\n",
    "sigmaAnalysis(radiation, detector, source1, sigmas)\n"
   ]
  },
  {
   "cell_type": "code",
   "execution_count": null,
   "metadata": {},
   "outputs": [],
   "source": []
  },
  {
   "cell_type": "code",
   "execution_count": null,
   "metadata": {},
   "outputs": [],
   "source": []
  },
  {
   "cell_type": "code",
   "execution_count": null,
   "metadata": {},
   "outputs": [],
   "source": []
  },
  {
   "cell_type": "markdown",
   "metadata": {},
   "source": [
    "# Code description"
   ]
  },
  {
   "cell_type": "code",
   "execution_count": 119,
   "metadata": {},
   "outputs": [
    {
     "name": "stdout",
     "output_type": "stream",
     "text": [
      "u = 1.3500781880578823 ± 0.06766441648636273 m\n",
      "v = -1.3803053010726298 ± 0.06808163310912395 m\n",
      "A0 = 1401.9877054208566 ± 0.40224609555720026 Bq\n",
      "ED = 196.27827875891995 ± 0.05631445337800804 mSv\n"
     ]
    },
    {
     "data": {
      "image/png": "[encoded data removed]",
      "text/plain": [
       "<Figure size 864x432 with 2 Axes>"
      ]
     },
     "metadata": {
      "needs_background": "light"
     },
     "output_type": "display_data"
    }
   ],
   "source": [
    "# DESCRIPTION OF THE CODE\n",
    "\n",
    "# In comparisson to the code in simple_SPS.ipynb there are a few minor changes. The intensity function is defined diferently. It takes into\n",
    "# consideration two points, the source of the radiation and the position of a measurement. Flyover() is very similar to the older version \n",
    "# it just uses the new intensity and also the activity of the source is randomly generated - it is one of the parameters which we are fitting.\n",
    "\n",
    "# locationLM() is the major chenge. We use the scipy least square Levenberg-marquardt method to minimize the square residuals of the model \n",
    "# intensity and the measured intensity. Through the minimization we can output the paramaters which we are searching for - u, v and A0 (x/y \n",
    "# coordinates of the source and its intensity).\n",
    "\n",
    "# visualize() shows us that this method is much more accurate then the previously used location searching method.\n",
    "\n",
    "# PARAMETERS\n",
    "A_min = 1e3; A_max = 1.5e3 # borders between which the activity of the source is randomly selected \n",
    "Ab = 5e-5 # background activity in Bq\n",
    "h = 40 # hight at which the detector flies over in m\n",
    "x_max = 5 # Size of the area of flyover in positive x direction in m (the whole grid extends also in the negative direction the same amount)\n",
    "y_max = 5 # Size of the area of flyover in positive y direction in m (the whole grid extends also in the negative direction the same amount)\n",
    "grid = 10 # Size of the grid in which the area of flyover is divided into smaller \"tiles\" where the detector stops and measures the number of \n",
    "         # radioactive decays. Grid is the number of these areas in x direction and y direction. It must be an INTEGER!\n",
    "dt = 100 # the pause on each point od the grid in s\n",
    "n_bins = 20 # number of bins in the histogram made by find_source()\n",
    "noise = [0.5, 0.5] # list that contains the standard deviation of the x and y coordinates in in m\n",
    "K = 0 # constant between 0 and 1 which contains the information on the quality of the detector, a better detector has a smaller constante \n",
    "        # then then an inferior detector\n",
    "F = 0.140 # factor for inhilation of Pu-239 in mSV/Bq\n",
    "\n",
    "\n",
    "# Combinig the parameters into a list so that the data is more compacted\n",
    "radiation = {'A_min': A_min, 'A_max': A_max, 'Ab': Ab, 'dt': dt, 'dose_factor': F}\n",
    "detector = {'h': h, 'x_max': x_max, 'y_max': y_max, 'grid': grid, 'detector_constant': K}\n",
    "\n",
    "data = combination(radiation, detector, [], noise)\n",
    "\n",
    "# print(data[\"sourceCF_stDev\"])\n",
    "\n",
    "# Print out the fitted parameters with their absolute errors (standard deviation)\n",
    "print(\"u =\", data[\"source_locationCF\"][0], r'±', data[\"sourceCF_stDev\"][0], \"m\")\n",
    "print(\"v =\", data[\"source_locationCF\"][1], r'±', data[\"sourceCF_stDev\"][1], \"m\")\n",
    "print(\"A0 =\", data[\"source_locationCF\"][2], r'±', data[\"sourceCF_stDev\"][2], \"Bq\")\n",
    "print(\"ED =\", data[\"effective_dose\"][0], r'±', data[\"effective_dose\"][1], \"mSv\")\n",
    "\n",
    "visualize(data[\"measurement\"], detector[\"x_max\"], detector[\"y_max\"], [data[\"source_locationLM\"], data[\"source_locationCF\"]])\n"
   ]
  },
  {
   "cell_type": "markdown",
   "metadata": {},
   "source": [
    "### Detector constant analysis"
   ]
  },
  {
   "cell_type": "code",
   "execution_count": 126,
   "metadata": {},
   "outputs": [],
   "source": [
    "testSource = point_source(x_max, y_max, A_min, A_max)\n",
    "testSource1 = point_source(x_max, y_max, A_min, A_max)\n",
    "testSource2 = point_source(x_max, y_max, A_min, A_max)"
   ]
  },
  {
   "cell_type": "code",
   "execution_count": 129,
   "metadata": {},
   "outputs": [
    {
     "name": "stdout",
     "output_type": "stream",
     "text": [
      "DETECTOR0: \n",
      " ED = 160.80538170366225 ± 0.09354979376904418 mSv\n",
      "DETECTOR1: \n",
      " ED = 160.64441097472735 ± 0.07247782720358759 mSv\n",
      "DETECTOR1: \n",
      " ED = 160.61216422533548 ± 0.07705549348159421 mSv\n"
     ]
    }
   ],
   "source": [
    "# Analysis for detectors without noise, detector0 is an ideal detector and detector1 is a superior real detector to the real detector2\n",
    "detector0 = {'h': h, 'x_max': x_max, 'y_max': y_max, 'grid': grid, 'detector_constant': 0.}\n",
    "detector1 = {'h': h, 'x_max': x_max, 'y_max': y_max, 'grid': grid, 'detector_constant': 0.1}\n",
    "detector2 = {'h': h, 'x_max': x_max, 'y_max': y_max, 'grid': grid, 'detector_constant': 0.6}\n",
    "\n",
    "# We generate the data measurement and analysis for the same source, same grid and everything, the only difference between the detectors is K\n",
    "data0 = combination(radiation, detector0, testSource, noise)\n",
    "data1 = combination(radiation, detector1, testSource, noise)\n",
    "data2 = combination(radiation, detector2, testSource, noise)\n",
    "\n",
    "# Calculated acitvities of the source in Bq\n",
    "A00, dA00 = data0[\"source_locationCF\"][2], data0[\"sourceCF_stDev\"][2]\n",
    "A01, dA01 = data1[\"source_locationCF\"][2], data1[\"sourceCF_stDev\"][2]\n",
    "A02, dA02 = data2[\"source_locationCF\"][2], data2[\"sourceCF_stDev\"][2]\n",
    "\n",
    "# Calculated effective dosese in mSv\n",
    "ED0, dED0 = data0[\"effective_dose\"][0], data0[\"effective_dose\"][1]\n",
    "ED1, dED1 = data1[\"effective_dose\"][0], data1[\"effective_dose\"][1]\n",
    "ED2, dED2 = data2[\"effective_dose\"][0], data2[\"effective_dose\"][1]\n",
    "\n",
    "# The [u, v] data is virtually the same for all detectors(with higher errors for worse detectors), but A0 is not the same although they are all \n",
    "# measuring the same source!\n",
    "# print(\"DETECTOR0:\", \"\\n\", \"A0 =\", A00, r'±', dA00, \"Bq\")\n",
    "# print(\"DETECTOR1:\", \"\\n\", \"A0 =\", A01, r'±', dA01, \"Bq\")\n",
    "# print(\"DETECTOR1:\", \"\\n\", \"A0 =\", A02, r'±', dA02, \"Bq\")\n",
    "# print(\"\\n\")\n",
    "print(\"DETECTOR0:\", \"\\n\", \"ED =\", ED0, r'±', dED0, \"mSv\")\n",
    "print(\"DETECTOR1:\", \"\\n\", \"ED =\", ED1, r'±', dED1, \"mSv\")\n",
    "print(\"DETECTOR1:\", \"\\n\", \"ED =\", ED2, r'±', dED2, \"mSv\")\n",
    "\n",
    "# By fitting to simulated data let's try to find A so that A(K1) * ED1 = A(K2) * ED2 = ED0.\n"
   ]
  },
  {
   "cell_type": "markdown",
   "metadata": {},
   "source": [
    "#### By way of fitting?"
   ]
  },
  {
   "cell_type": "code",
   "execution_count": 130,
   "metadata": {},
   "outputs": [
    {
     "name": "stdout",
     "output_type": "stream",
     "text": [
      "1.001139092949781\n",
      "1.000523640437222\n",
      "1.0001818470328825\n",
      "1.0002796488711057\n",
      "1.000841938315738\n",
      "1.000092436758159\n",
      "1.0006211536147147\n",
      "1.000952536326857\n",
      "0.9997946561710452\n",
      "0.9953431799778116\n"
     ]
    },
    {
     "data": {
      "image/png": "[encoded data removed]",
      "text/plain": [
       "<Figure size 432x288 with 1 Axes>"
      ]
     },
     "metadata": {
      "needs_background": "light"
     },
     "output_type": "display_data"
    }
   ],
   "source": [
    "# For a range of detector factors from 0 to 1, find the A(K) = ED(K)/ED0\n",
    "\n",
    "def factor_fit(radiation, detector, testSource1, testSource2):\n",
    "    K_range = np.linspace(0.01, 0.99, 10)\n",
    "    data01 = combination(radiation, detector, testSource1, noise); data02 = combination(radiation, detector, testSource2, noise)\n",
    "    ED01 = data01['effective_dose'][0]; ED02 = data02['effective_dose'][0]\n",
    "    As1, As2 = [], []\n",
    "    for K in K_range:\n",
    "        detector['detector_constant'] = K\n",
    "        data1 = combination(radiation, detector, testSource1, noise); data2 = combination(radiation, detector, testSource2, noise)\n",
    "        ED1 = data1['effective_dose'][0]; ED2 = data2['effective_dose'][0]\n",
    "        A1 = ED1/ED01; A2 = ED2/ED02\n",
    "        print(A1)\n",
    "        As1.append(A1)\n",
    "        As2.append(A2)\n",
    "    plt.plot(list(K_range), As1, \"o\", color=\"b\", ms=10)\n",
    "    plt.plot(list(K_range), As2, \"o\", color=\"g\", ms=9)\n",
    "\n",
    "    plt.xlabel(\"detector coeficient\")\n",
    "    plt.ylabel(\"A(K)\")\n",
    "\n",
    "    plt.show()\n",
    "\n",
    "\n",
    "factor_fit(radiation, detector0, testSource1, testSource2)\n"
   ]
  },
  {
   "cell_type": "code",
   "execution_count": null,
   "metadata": {},
   "outputs": [],
   "source": []
  }
 ],
 "metadata": {
  "kernelspec": {
   "display_name": "Python 3.8.10 64-bit (microsoft store)",
   "language": "python",
   "name": "python3"
  },
  "language_info": {
   "codemirror_mode": {
    "name": "ipython",
    "version": 3
   },
   "file_extension": ".py",
   "mimetype": "text/x-python",
   "name": "python",
   "nbconvert_exporter": "python",
   "pygments_lexer": "ipython3",
   "version": "3.8.10"
  },
  "orig_nbformat": 4,
  "vscode": {
   "interpreter": {
    "hash": "85ad50d9bc146c85f3fc0e59d0a5f568038cb42bd91391f1b19a754b908c4ffe"
   }
  }
 },
 "nbformat": 4,
 "nbformat_minor": 2
}
