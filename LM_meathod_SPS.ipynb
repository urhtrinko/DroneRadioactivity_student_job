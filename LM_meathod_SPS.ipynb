{
 "cells": [
  {
   "cell_type": "code",
   "execution_count": 33,
   "metadata": {},
   "outputs": [],
   "source": [
    "import numpy as np\n",
    "import matplotlib.pyplot as plt\n",
    "import random\n",
    "from scipy.optimize import least_squares\n",
    "import sys\n"
   ]
  },
  {
   "cell_type": "markdown",
   "metadata": {},
   "source": [
    "# Parameters"
   ]
  },
  {
   "cell_type": "code",
   "execution_count": 2,
   "metadata": {},
   "outputs": [],
   "source": [
    "A_min = 1e10 # Bq\n",
    "A_max = 2e10 # Bq\n",
    "Ab = 500 # Bq\n",
    "h = 10 # m\n",
    "dt = 100 # the pause on each point od the grid in s\n",
    "x_max = 4 # m\n",
    "y_max = 4 # m\n",
    "grid = [8, 8] # m\n",
    "n_bins = 20\n",
    "\n",
    "radiation = [A_min, A_max, Ab, dt]\n",
    "detector = [h, x_max, y_max, grid]"
   ]
  },
  {
   "cell_type": "markdown",
   "metadata": {},
   "source": [
    "## Flyover"
   ]
  },
  {
   "cell_type": "code",
   "execution_count": 15,
   "metadata": {},
   "outputs": [
    {
     "data": {
      "text/plain": [
       "[[(-3.0, -2.0), (3.0, 4.0)]]"
      ]
     },
     "execution_count": 15,
     "metadata": {},
     "output_type": "execute_result"
    }
   ],
   "source": [
    "def activity(source, x, y, h):\n",
    "    u, v, A0 = source[0], source[1], source[2]\n",
    "    return A0 / ((x - u)**2 + (y - v)**2 + h**2)\n",
    "\n",
    "def point_source(x_max, y_max, A_min, A_max, x_min=0, y_min=0):\n",
    "    if (x_min == 0) and (y_min == 0):    \n",
    "        return [random.uniform(-x_max, x_max), random.uniform(-y_max, y_max), random.uniform(A_min, A_max)]\n",
    "    else:\n",
    "        return [random.uniform(x_min, x_max), random.uniform(y_min, y_max), random.uniform(A_min, A_max)]\n",
    "\n",
    "def flyover(radiation, detector, source = []):\n",
    "    A_min, A_max, Ab, dt = radiation[0], radiation[1], radiation[2], radiation[3]\n",
    "    h, x_max, y_max, grid = detector[0], detector[1], detector[2], detector[3]\n",
    "    N_x, N_y = grid[0], grid[1]\n",
    "    square_x, square_y = (2*x_max)/N_x, (2*y_max)/N_y \n",
    "    xs = np.linspace(-x_max + square_x/2, x_max - square_x/2, int(N_x))\n",
    "    ys = np.linspace(-y_max + square_y/2, y_max - square_y/2, int(N_y))\n",
    "    if len(source) == 0:\n",
    "        source = point_source(x_max, y_max, A_min, A_max)\n",
    "    intensities = np.zeros((int(N_x), int(N_y)))\n",
    "    grid_x, grid_y = np.meshgrid(xs, ys)\n",
    "    n, m = N_x - 1, 0\n",
    "    y = -y_max + square_y/2\n",
    "    i = 1\n",
    "    max_intensity = {\"number\": [0], \"postion\": [[(0, 0), (0, 0)]]}\n",
    "    for x in xs:\n",
    "        while abs(y) <= y_max:\n",
    "            intensity = activity(source, x, y, h) * dt\n",
    "            if Ab* dt > intensity:\n",
    "                intensities[n, m] = 0\n",
    "            else:\n",
    "                intensities[n, m] = intensity - Ab*dt\n",
    "            if max_intensity[\"number\"][0] < intensity:\n",
    "                max_intensity[\"number\"], max_intensity[\"position\"] = [intensity], [[(x - square_x/2, x + square_x/2), (y - square_y/2, y + square_y/2)]]\n",
    "            elif max_intensity[\"number\"][0] == intensity:\n",
    "                max_intensity[\"position\"] = [max_intensity[\"position\"][0], [(x - square_x/2, x + square_x/2), (y - square_y/2, y + square_y/2)]]\n",
    "            y += (square_y)*i\n",
    "            n -= 1*i\n",
    "        n += 1*i\n",
    "        i = i * (-1)\n",
    "        y += (square_y)*i\n",
    "        m += 1\n",
    "\n",
    "    return {\"intensities_array\": intensities, \"source\": source, \"grid_x\": grid_x, \"grid_y\": grid_y, \"hotspot\": max_intensity[\"position\"], \"square_x\": square_x, \"square_y\": square_y}\n",
    "\n",
    "measurement = flyover(radiation, detector)\n",
    "\n",
    "measurement[\"hotspot\"]\n"
   ]
  },
  {
   "cell_type": "markdown",
   "metadata": {},
   "source": [
    "## Location from measurement"
   ]
  },
  {
   "cell_type": "code",
   "execution_count": 36,
   "metadata": {},
   "outputs": [
    {
     "name": "stdout",
     "output_type": "stream",
     "text": [
      "[0.3077392350311855, 0.044333457946777344, 11525637060.073555]\n"
     ]
    }
   ],
   "source": [
    "\n",
    "# Using the Levenberg-Marquardt method with scipy least squares (?)\n",
    "def locationLM(measurement, radiation, detector):\n",
    "    A_min, A_max, Ab, dt = radiation[0], radiation[1], radiation[2], radiation[3]\n",
    "    h = detector[0]\n",
    "    hotspot = measurement[\"hotspot\"]\n",
    "    x_min, x_max = hotspot[0][0][0], hotspot[0][0][1]\n",
    "    y_min, y_max = hotspot[0][1][0], hotspot[0][1][1]\n",
    "    # def h(theta, x, y):\n",
    "    #     return theta[2] * (x - theta[0])**2 + theta[3] * (y - theta[1])**2\n",
    "\n",
    "    # xs = np.linspace(-1, 1, 20)\n",
    "    # ys = np.linspace(-1, 1, 20)\n",
    "    gridx, gridy = measurement[\"grid_x\"], measurement[\"grid_y\"]\n",
    "    # u = 0.1; v = -0.15; A0 = 2 # ; noise = 0.1\n",
    "    Is = measurement[\"intensities_array\"]\n",
    "    # hs += noise * np.random.default_rng().random(hs.shape)\n",
    "\n",
    "    def fun(source):\n",
    "        return (activity(source, gridx, gridy, h) * dt - Is).flatten()\n",
    "\n",
    "    source0 = point_source(x_max, y_max, A_min, A_max, x_min, y_min)\n",
    "    res = least_squares(fun, source0, method=\"lm\")\n",
    "\n",
    "    return res[\"x\"]\n",
    "\n",
    "measurement = flyover(radiation, detector)\n",
    "sourceLM = locationLM(measurement, radiation, detector)\n",
    "\n",
    "# Using the numpy least squares method\n",
    "def locationNP(measurement, radiation, detector):\n",
    "    h = detector[0]\n",
    "    dt = radiation[3]\n",
    "    intensities_array, grid_x, grid_y = measurement[\"intensities_array\"], measurement[\"grid_x\"], measurement[\"grid_y\"]\n",
    "    # print(intensities_array.shape)\n",
    "    I, J = intensities_array.shape\n",
    "    x, y, E, D = [], [], [], []\n",
    "    for i in range(I):\n",
    "        for j in range(J):\n",
    "            x.append(grid_x[i, j])\n",
    "            y.append(grid_y[i, j])\n",
    "            E.append(-1)\n",
    "            D.append(dt/intensities_array[i, j])\n",
    "\n",
    "    M = np.array([np.array(x), np.array(y), np.array(E), np.array(D)]).T\n",
    "    b = np.array(x)**2 + np.array(y)**2\n",
    "\n",
    "    c = np.linalg.lstsq(M, b, rcond=None)[0]\n",
    "\n",
    "    u1 = (1/2)*c[0]\n",
    "    v1 = (1/2)*c[1]\n",
    "    u2 = np.sqrt(c[2] - (1/4)*c[1]**2 - h**2)\n",
    "    v2 = np.sqrt(c[2] - (1/4)*c[0]**2 - h**2)\n",
    "\n",
    "    # if (np.abs(u1) - np.abs(u2) != 0) or (np.abs(v1) - np.abs(v2) != 0):\n",
    "    #      sys.exit(\"The parameters are not in line.\")\n",
    "\n",
    "    return [u1, v1, c[3]]\n",
    "\n",
    "sourceNP = locationNP(measurement, radiation, detector)\n",
    "\n",
    "print(sourceNP)\n"
   ]
  },
  {
   "cell_type": "markdown",
   "metadata": {},
   "source": [
    "### Useful tutorial "
   ]
  },
  {
   "cell_type": "code",
   "execution_count": 5,
   "metadata": {},
   "outputs": [],
   "source": [
    "def h(theta, x, y, h):\n",
    "    return theta[2] * (x - theta[0])**2 + theta[3] * (y - theta[1])**2 - h\n",
    "\n",
    "xs = np.linspace(-1, 1, 20)\n",
    "ys = np.linspace(-1, 1, 20)\n",
    "dt = 10\n",
    "gridx, gridy = np.meshgrid(xs, ys)\n",
    "x0 = 0.1; y0 = -0.15; a = 1; b = 2; noise = 0.1\n",
    "hs = h([x0, y0, a, b], gridx, gridy, 10) * dt\n",
    "# hs += noise * np.random.default_rng().random(hs.shape)\n",
    "\n",
    "def fun(theta):\n",
    "    return (h(theta, gridx, gridy, 10) * dt - hs).flatten()\n",
    "\n",
    "theta0 = [0, 0, 1, 2]\n",
    "res3 = least_squares(fun, theta0)\n",
    "\n",
    "# print(hs)\n"
   ]
  },
  {
   "cell_type": "markdown",
   "metadata": {},
   "source": [
    "## Combine"
   ]
  },
  {
   "cell_type": "code",
   "execution_count": 37,
   "metadata": {},
   "outputs": [],
   "source": [
    "# combines the detector flyover and the location detection\n",
    "def combination(radiation, detector, source= []):\n",
    "    measurement = flyover(radiation, detector, source)\n",
    "    sourceLM = locationLM(measurement, radiation, detector)\n",
    "    sourceNP = locationNP(measurement, radiation, detector)\n",
    "    return {'measurement': measurement, 'source_locationLM': sourceLM, 'source_locationNP': sourceNP}\n"
   ]
  },
  {
   "cell_type": "markdown",
   "metadata": {},
   "source": [
    "## Visualization"
   ]
  },
  {
   "cell_type": "code",
   "execution_count": 48,
   "metadata": {},
   "outputs": [
    {
     "data": {
      "image/png": "[encoded data removed]",
      "text/plain": [
       "<Figure size 864x432 with 2 Axes>"
      ]
     },
     "metadata": {
      "needs_background": "light"
     },
     "output_type": "display_data"
    }
   ],
   "source": [
    "def visualize(measurement, x_max, y_max, points):\n",
    "    u1, v1 = points[0][0], points[0][1]\n",
    "    u2, v2 = points[1][0], points[1][1]\n",
    "\n",
    "    fig, (ax1, ax2) = plt.subplots(nrows = 1, ncols = 2, figsize = (12, 6))\n",
    "    \n",
    "    im = ax1.imshow(measurement[\"intensities_array\"], extent=[-x_max,x_max,-y_max,y_max], aspect=\"auto\")\n",
    "    # plt.imshow(np.zeros((8, 8)), extent=[-x_max,x_max,-y_max,y_max], aspect=\"auto\")\n",
    "    X, Y = measurement[\"source\"][0], measurement[\"source\"][1]\n",
    "    ax1.plot(X, Y, \"o\", color = 'r', label = \"Original source\")\n",
    "    ax1.plot(u1, v1, \"o\", color = 'b', label = \"Scipy estimate\")\n",
    "    # ax1.plot(u2, v2, \"o\", color = 'k', label = \"Numpy estimate\")\n",
    "\n",
    "    ax1.axis(\"equal\")\n",
    "    ax1.set_xlabel(\"X axis [m]\", fontsize = 15)\n",
    "    ax1.set_ylabel(\"Y axis [m]\", fontsize = 15)\n",
    "   \n",
    "    ax1.legend(fontsize = 15)\n",
    "\n",
    "    ax2.imshow(measurement[\"intensities_array\"], extent=[-x_max,x_max,-y_max,y_max], aspect=\"auto\")\n",
    "    # plt.imshow(np.zeros((8, 8)), extent=[-x_max,x_max,-y_max,y_max], aspect=\"auto\")\n",
    "    X, Y = measurement[\"source\"][0], measurement[\"source\"][1]\n",
    "    ax2.plot(X, Y, \"o\", color = 'r', label = \"Original source\")\n",
    "    # ax2.plot(points[\"point_candidates\"][:, 0], points[\"point_candidates\"][:, 1], \"o\", color = 'g', label = \"Estimated sources\")\n",
    "    # ax1.plot(u1, v1, \"o\", color = 'b', label = \"Scipy estimate\")\n",
    "    ax1.plot(u2, v2, \"o\", color = 'k', label = \"Numpy estimate\")\n",
    "    ax2.axis(\"equal\")\n",
    "    ax2.set_xlim(measurement[\"hotspot\"][0][0][0], measurement[\"hotspot\"][0][0][1])\n",
    "    ax2.set_xlabel(\"X axis [m]\", fontsize = 15)\n",
    "    ax2.set_ylim(measurement[\"hotspot\"][0][1][0], measurement[\"hotspot\"][0][1][1])\n",
    "    ax2.set_ylabel(\"Y axis [m]\", fontsize = 15)\n",
    "\n",
    "   \n",
    "    ax2.legend(fontsize = 15)    \n",
    "\n",
    "    plt.tight_layout()\n",
    "    # plt.savefig(\"graphics/imporved.jpg\")\n",
    "    plt.show()\n",
    "    # return points[1]\n",
    "\n",
    "\n",
    "data = combination(radiation, detector)\n",
    "\n",
    "visualize(data[\"measurement\"], detector[1], detector[2], [data[\"source_locationLM\"], data[\"source_locationNP\"]])\n"
   ]
  },
  {
   "cell_type": "code",
   "execution_count": null,
   "metadata": {},
   "outputs": [],
   "source": []
  },
  {
   "cell_type": "code",
   "execution_count": null,
   "metadata": {},
   "outputs": [],
   "source": []
  }
 ],
 "metadata": {
  "kernelspec": {
   "display_name": "Python 3.8.10 64-bit (microsoft store)",
   "language": "python",
   "name": "python3"
  },
  "language_info": {
   "codemirror_mode": {
    "name": "ipython",
    "version": 3
   },
   "file_extension": ".py",
   "mimetype": "text/x-python",
   "name": "python",
   "nbconvert_exporter": "python",
   "pygments_lexer": "ipython3",
   "version": "3.8.10"
  },
  "orig_nbformat": 4,
  "vscode": {
   "interpreter": {
    "hash": "85ad50d9bc146c85f3fc0e59d0a5f568038cb42bd91391f1b19a754b908c4ffe"
   }
  }
 },
 "nbformat": 4,
 "nbformat_minor": 2
}
