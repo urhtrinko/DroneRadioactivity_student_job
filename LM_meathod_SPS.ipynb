{
 "cells": [
  {
   "cell_type": "code",
   "execution_count": 2,
   "metadata": {},
   "outputs": [],
   "source": [
    "import numpy as np\n",
    "from numpy import unravel_index\n",
    "import matplotlib.pyplot as plt\n",
    "from matplotlib import cm\n",
    "from matplotlib.ticker import LinearLocator\n",
    "import random\n",
    "from scipy.optimize import least_squares\n",
    "import sys\n",
    "from vector_class import TripleVector\n",
    "from scipy.optimize import curve_fit\n",
    "\n"
   ]
  },
  {
   "cell_type": "markdown",
   "metadata": {},
   "source": [
    "# Parameters"
   ]
  },
  {
   "cell_type": "code",
   "execution_count": 3,
   "metadata": {},
   "outputs": [],
   "source": [
    "A_min = 1e3 # Bq\n",
    "A_max = 2e3 # Bq\n",
    "A_b = 5e-5 # Bq\n",
    "h = 10 # m\n",
    "dt = 100 # the pause on each point od the grid in s\n",
    "x_max = 4; sigma_x = 0.1 # m\n",
    "y_max = 4; sigma_y = 0.1 # m\n",
    "grid = 8\n",
    "n_bins = 20\n",
    "K = 0.1 # is somewhere in the interval [0, 1]\n",
    "F = 0.140 # factor for inhilation of Pu-239 in mSV/Bq\n",
    "\n",
    "radiation = {\"A_min\": A_min, \"A_max\": A_max, \"A_b\": A_b, \"dose_factor\": F}\n",
    "detector = {\"h\": h, \"dt\": dt, \"x_max\": x_max, \"y_max\": y_max, \"grid\": grid, \"detector_constant\": K} # the detector constant tells us the quality of the detector\n",
    "\n",
    "n_points = 10 # fot the random_flyover() -> number of random points generated\n"
   ]
  },
  {
   "cell_type": "markdown",
   "metadata": {},
   "source": [
    "## Subsidariy code"
   ]
  },
  {
   "cell_type": "code",
   "execution_count": 4,
   "metadata": {},
   "outputs": [],
   "source": [
    " # it equals to the activity\n",
    "def activity(source, x, y, h, ru=0, rv=0):\n",
    "    u, v, A0 = source[0], source[1], source[2] # u, v are the coordinates of the source and A0 is its activity\n",
    "    return (A0*(ru**2 + rv**2 + h**2)) / ((x - (u - ru))**2 + (y - (v - rv))**2 + h**2)\n",
    "\n",
    "def point_source(x_max, y_max, A_min, A_max, x_min=0, y_min=0):\n",
    "    if (x_min == 0) and (y_min == 0):    \n",
    "        return [random.uniform(-x_max, x_max), random.uniform(-y_max, y_max), random.uniform(A_min, A_max)]\n",
    "    else:\n",
    "        return [random.uniform(x_min, x_max), random.uniform(y_min, y_max), random.uniform(A_min, A_max)]\n",
    "\n",
    "# def simulated_event(source, x, y, h, grid_x_noise, grid_y_noise, noise=[], n=\"None\", m=\"None\"):\n",
    "#     A = activity(source, x, y, h)\n",
    "#     A_det = A * (1 - K)\n",
    "#     N = np.random.poisson(A_det * dt)\n",
    "#     N_b = np.random.poisson(A_b * dt)# background radiation\n",
    "\n",
    "#     # Add noise to the location data because of the GPS uncertianty\n",
    "\n",
    "#     if len(noise) != 0:\n",
    "#         if (n != \"None\" and m != \"None\"):\n",
    "#             sigma_x = noise[0]; sigma_y = noise[1]\n",
    "#             grid_x_noise[n, m] = x + np.random.normal(0, sigma_x)\n",
    "#             grid_y_noise[n, m] = y + np.random.normal(0, sigma_y)\n",
    "#         else:\n",
    "#             sigma_x = noise[0]; sigma_y = noise[1]\n",
    "#             x += np.random.normal(0, sigma_x)\n",
    "#             y += np.random.normal(0, sigma_y)\n",
    "\n",
    "#     return {\"N\": N, \"N_b\": N_b, \"grid_x_noise\": grid_x_noise, \"grid_y_noise\": grid_y_noise, \"x\": x, \"y\": y}\n"
   ]
  },
  {
   "cell_type": "markdown",
   "metadata": {},
   "source": [
    "## ZIG-ZAG Flyover"
   ]
  },
  {
   "cell_type": "markdown",
   "metadata": {},
   "source": [
    "### Flyover"
   ]
  },
  {
   "cell_type": "code",
   "execution_count": 5,
   "metadata": {},
   "outputs": [],
   "source": [
    "\n",
    "# # Noise is a list that contanins the standard deviations of x/y coordinates as a result of the error of the detector\n",
    "# def flyover(radiation, detector, source = [], noise = []):\n",
    "#     A_min, A_max, A_b, F = radiation[\"A_min\"], radiation[\"A_max\"], radiation[\"A_b\"], radiation[\"dose_factor\"]\n",
    "#     h, dt, x_max, y_max, grid, K = detector[\"h\"], detector[\"dt\"], detector[\"x_max\"], detector[\"y_max\"], detector[\"grid\"], detector[\"detector_constant\"]\n",
    "#     N_grid = grid\n",
    "#     square_x, square_y = (2*x_max)/N_grid, (2*y_max)/N_grid\n",
    "\n",
    "#     grid_x, grid_y = np.zeros((N_grid, N_grid)), np.zeros((N_grid, N_grid))\n",
    "#     grid_x_noise, grid_y_noise = np.zeros((N_grid, N_grid)), np.zeros((N_grid, N_grid))\n",
    "#     xs = np.linspace(-x_max + square_x/2, x_max - square_x/2, int(N_grid))\n",
    "    \n",
    "#     # If the source is not specified, then it is randomly generated \n",
    "#     if len(source) == 0: \n",
    "#         source = point_source(x_max, y_max, A_min, A_max)\n",
    "    \n",
    "#     HDs = np.zeros((int(N_grid), int(N_grid))); dHDs = np.zeros((int(N_grid), int(N_grid)))\n",
    "#     n, m = N_grid - 1, 0\n",
    "#     y = -y_max + square_y/2\n",
    "#     i = 1\n",
    "#     for x in xs:\n",
    "#         while abs(y) <= y_max:\n",
    "            \n",
    "#             # Simulate the number of events according to the Poisson distribution and add noise\n",
    "\n",
    "#             event = simulated_event(source, x, y, h, grid_x_noise, grid_y_noise, noise, n, m)\n",
    "#             N = event[\"N\"]; N_b = event[\"N_b\"]; grid_x_noise = event[\"grid_x_noise\"]; grid_y_noise = event[\"grid_y_noise\"]\n",
    "\n",
    "#             HDs[n, m] = F * (N + N_b)\n",
    "#             dHDs[n, m] = F * np.sqrt(N + N_b)\n",
    "            \n",
    "#             grid_x[n, m] = x; grid_y[n, m] = y\n",
    "#             y += (square_y)*i\n",
    "#             n -= 1*i\n",
    "#         n += 1*i; i = i * (-1); y += (square_y)*i; m += 1\n",
    "#     i_max, j_max = unravel_index(HDs.argmax(), HDs.shape)\n",
    "#     x_c, y_c = grid_x[i_max, j_max], grid_y[i_max, j_max]\n",
    "#     maxI_range = {\"xrange\": (x_c - square_x/2, x_c + square_x/2), \"yrange\": (y_c - square_x/2, y_c + square_x/2)}\n",
    "\n",
    "#     return {\"m_dose\": HDs, \"dm_dose\": dHDs, \"source\": source, \"grid_x\": grid_x, \"grid_y\": grid_y, \"grid_x_noise\": grid_x_noise, \"grid_y_noise\": grid_y_noise, \"hotspot\": maxI_range, \"square_x\": square_x, \"square_y\": square_y}\n",
    "\n",
    "# measurement = flyover(radiation, detector)\n",
    "\n",
    "# # hotspot = measurement[\"hotspot\"]\n",
    "# # x_0, x_1 = hotspot[\"xrange\"]; y_0, y_1 = hotspot[\"yrange\"]\n",
    "\n",
    "################################################################################################################################################\n",
    "################################################################################################################################################\n",
    "\n",
    "# Noise is a list that contanins the standard deviations of x/y coordinates as a result of the error of the detector\n",
    "def flyover(radiation, detector, source = [], noise = []):\n",
    "    A_min, A_max, A_b = radiation[\"A_min\"], radiation[\"A_max\"], radiation[\"A_b\"]\n",
    "    h, dt, x_max, y_max, grid, K = detector[\"h\"], detector[\"dt\"], detector[\"x_max\"], detector[\"y_max\"], detector[\"grid\"], detector[\"detector_constant\"]\n",
    "    N_grid = grid\n",
    "    square_x, square_y = (2*x_max)/N_grid, (2*y_max)/N_grid\n",
    "\n",
    "    grid_x, grid_y = np.zeros((N_grid, N_grid)), np.zeros((N_grid, N_grid))\n",
    "    grid_x_noise, grid_y_noise = np.zeros((N_grid, N_grid)), np.zeros((N_grid, N_grid))\n",
    "    xs = np.linspace(-x_max + square_x/2, x_max - square_x/2, int(N_grid))\n",
    "    \n",
    "    # If the source is not specified, then it is randomly generated \n",
    "    if len(source) == 0: \n",
    "        source = point_source(x_max, y_max, A_min, A_max)\n",
    "    \n",
    "    HDs = np.zeros((int(N_grid), int(N_grid))); dHDs = np.zeros((int(N_grid), int(N_grid)))\n",
    "    n, m = N_grid - 1, 0\n",
    "    y = -y_max + square_y/2\n",
    "    i = 1\n",
    "    for x in xs:\n",
    "        while abs(y) <= y_max:\n",
    "            A = activity(source, x, y, h)\n",
    "            A_det = A * (1 - K)\n",
    "            N = np.random.poisson(A_det * dt)\n",
    "            N_b = np.random.poisson(A_b * dt)# background radiation\n",
    "\n",
    "            # Add noise to the location data because of the GPS uncertianty\n",
    "            if len(noise) != 0:\n",
    "                sigma_x = noise[0]; sigma_y = noise[1]\n",
    "                grid_x_noise[n, m] = x + np.random.normal(0, sigma_x)\n",
    "                grid_y_noise[n, m] = y + np.random.normal(0, sigma_y)\n",
    "\n",
    "            HDs[n, m] = F * (N + N_b)\n",
    "            dHDs[n, m] = F * np.sqrt(N + N_b)\n",
    "            \n",
    "            grid_x[n, m] = x; grid_y[n, m] = y\n",
    "            y += (square_y)*i\n",
    "            n -= 1*i\n",
    "        n += 1*i; i = i * (-1); y += (square_y)*i; m += 1\n",
    "    i_max, j_max = unravel_index(HDs.argmax(), HDs.shape)\n",
    "    x_c, y_c = grid_x[i_max, j_max], grid_y[i_max, j_max]\n",
    "    maxI_range = {\"xrange\": (x_c - square_x/2, x_c + square_x/2), \"yrange\": (y_c - square_x/2, y_c + square_x/2)}\n",
    "\n",
    "    return {\"m_dose\": HDs, \"dm_dose\": dHDs, \"source\": source, \"grid_x\": grid_x, \"grid_y\": grid_y, \"grid_x_noise\": grid_x_noise, \"grid_y_noise\": grid_y_noise, \"hotspot\": maxI_range, \"square_x\": square_x, \"square_y\": square_y}\n",
    "\n",
    "measurement = flyover(radiation, detector)\n",
    "\n"
   ]
  },
  {
   "cell_type": "markdown",
   "metadata": {},
   "source": [
    "### Location from flyover"
   ]
  },
  {
   "cell_type": "markdown",
   "metadata": {},
   "source": [
    "#### Scipy least squares"
   ]
  },
  {
   "cell_type": "code",
   "execution_count": 6,
   "metadata": {},
   "outputs": [],
   "source": [
    "# Using the Levenberg-Marquardt method with scipy least squares\n",
    "def locationLM(measurement, radiation, detector):\n",
    "    A_min, A_max = radiation['A_min'], radiation['A_max']\n",
    "    h = detector['h']\n",
    "    hotspot = measurement['hotspot']\n",
    "    x_0, x_1 = hotspot['xrange']; y_0, y_1 = hotspot['yrange']\n",
    "\n",
    "    def dose(source, x, y):\n",
    "        u, v, alpha = source[0], source[1], source[2]\n",
    "        return alpha / ((x - u)**2 + (y - v)**2 + h**2)\n",
    "\n",
    "    # def N(source, x, y):\n",
    "    #     return N_func(source, x, y, h, dt)\n",
    "\n",
    "    grid_x, grid_y = measurement['grid_x'], measurement['grid_y']\n",
    "    HDs = measurement['m_dose']\n",
    "\n",
    "    def fun(source):\n",
    "        return (dose(source, grid_x, grid_y) - HDs).flatten()\n",
    "\n",
    "    # guess = point_source(x_0, y_0, A_min, A_max, x_1, y_1)\n",
    "    source0 = [1, 1, 1]\n",
    "    res = least_squares(fun, source0, method=\"lm\")\n",
    "\n",
    "    return res[\"x\"]\n",
    "\n",
    "measurement = flyover(radiation, detector)\n",
    "sourceLM = locationLM(measurement, radiation, detector)"
   ]
  },
  {
   "cell_type": "markdown",
   "metadata": {},
   "source": [
    "#### Scipy curve fit"
   ]
  },
  {
   "cell_type": "code",
   "execution_count": 7,
   "metadata": {},
   "outputs": [],
   "source": [
    "# Also location with LM method, only now using the curve_fit scipy.optimize function \n",
    "def locationCF(measurement, radiation, detector, noise = []):\n",
    "    HDs, dHDs, grid_x, grid_y, hotspot = measurement['m_dose'], measurement['dm_dose'], measurement['grid_x'], measurement['grid_y'], measurement[\"hotspot\"] # in example Z, here Is\n",
    "    grid_x_noise = measurement['grid_x_noise']; grid_y_noise = measurement['grid_y_noise']\n",
    "    h = detector[\"h\"]\n",
    "\n",
    "    x_0, x_1 = hotspot[\"xrange\"]; y_0, y_1 = hotspot[\"yrange\"]\n",
    "\n",
    "    if len(noise) == 0:\n",
    "        XY = np.vstack((grid_x.ravel(), grid_y.ravel()))\n",
    "    else:\n",
    "        XY = np.vstack((grid_x_noise.ravel(), grid_y_noise.ravel()))\n",
    "    source0 = [random.uniform(x_0, x_1), random.uniform(y_0, y_1), 1]\n",
    "    \n",
    "    def dose(x, y, u, v, alpha):\n",
    "        return alpha / ((x - u)**2 + (y - v)**2 + h**2)\n",
    "\n",
    "    def __dose(M, *args): # M is a table of shape (N, 2), where each row is a new point of measurement, N is the number of measuremnts\n",
    "        x, y = M\n",
    "        arr = np.zeros(x.shape)\n",
    "        for i in range(len(args)//3):\n",
    "            arr += dose(x, y, *args[i*3:i*3+3])\n",
    "        return arr\n",
    "\n",
    "    popt, pcov = curve_fit(__dose, XY, HDs.ravel(), source0, sigma = dHDs.ravel(), absolute_sigma = True, method=\"lm\")\n",
    "    perr = np.sqrt(np.diag(pcov))\n",
    "    \n",
    "\n",
    "    MyDict = {\"XY\": XY, \"Ns\": HDs, \"source0\": source0}\n",
    "\n",
    "    return popt, perr, MyDict\n",
    "\n",
    "\n",
    "sourceCF = locationCF(measurement, radiation, detector)"
   ]
  },
  {
   "cell_type": "markdown",
   "metadata": {},
   "source": [
    "### Combination"
   ]
  },
  {
   "cell_type": "code",
   "execution_count": 27,
   "metadata": {},
   "outputs": [],
   "source": [
    "\n",
    "# combines the detector flyover and the location detection\n",
    "def combination(radiation, detector, source=[], noise=[]):\n",
    "    measurement = flyover(radiation, detector, source, noise)\n",
    "    sourceLM = locationLM(measurement, radiation, detector)\n",
    "    sourceCF, stDev = locationCF(measurement, radiation, detector, noise)[0], locationCF(measurement, radiation, detector, noise)[1]\n",
    "    return {'measurement': measurement, 'sourceLM': sourceLM, 'sourceCF': sourceCF, \"sourceCF_stDev\": stDev}\n",
    "\n",
    "data = combination(radiation, detector, [], [])\n",
    "\n"
   ]
  },
  {
   "cell_type": "markdown",
   "metadata": {},
   "source": [
    "### Visualization"
   ]
  },
  {
   "cell_type": "code",
   "execution_count": 9,
   "metadata": {},
   "outputs": [
    {
     "data": {
      "image/png": "[encoded data removed]",
      "text/plain": [
       "<Figure size 864x432 with 2 Axes>"
      ]
     },
     "metadata": {
      "needs_background": "light"
     },
     "output_type": "display_data"
    }
   ],
   "source": [
    "def visualize(measurement, x_max, y_max, points):\n",
    "    X, Y = measurement['source'][0], measurement['source'][1]\n",
    "    u1, v1 = points[0][0], points[0][1]\n",
    "    u2, v2 = points[1][0], points[1][1]\n",
    "    # print((u1, v1), (u2, v2))\n",
    "\n",
    "    fig, (ax1, ax2) = plt.subplots(nrows = 1, ncols = 2, figsize = (12, 6))\n",
    "    \n",
    "    im = ax1.imshow(measurement['m_dose'], extent=[-x_max,x_max,-y_max,y_max], aspect=\"auto\")\n",
    "    ax1.plot(X, Y, \"o\", color = 'r', ms=12, label = \"Original source\")\n",
    "    # ax1.plot(u1, v1, \"o\", color = 'g', ms=6, label = \"Scipy least_square\")\n",
    "    ax1.plot(u2, v2, \"o\", color = 'k', ms=3, label = \"Scipy curve_fit\")\n",
    "\n",
    "    ax1.axis(\"equal\")\n",
    "    ax1.set_xlabel(\"X axis [m]\", fontsize = 15)\n",
    "    ax1.set_ylabel(\"Y axis [m]\", fontsize = 15)\n",
    "   \n",
    "    ax1.legend(fontsize = 15)\n",
    "\n",
    "    hotspot = measurement['hotspot']\n",
    "    x_0, x_1 = hotspot['xrange']; y_0, y_1 = hotspot['yrange']\n",
    "\n",
    "    ax2.imshow(measurement['m_dose'], extent=[-x_max,x_max,-y_max,y_max], aspect=\"auto\")\n",
    "    ax2.plot(X, Y, \"o\", color = 'r', ms=12, label = \"Original source\")\n",
    "    # ax2.plot(u1, v1, \"o\", color = 'g', ms=6, label = \"Scipy least_square\")\n",
    "    ax2.plot(u2, v2, \"o\", color = 'k', ms=3, label = \"Scipy curve_fit\")\n",
    "    ax2.axis(\"equal\")\n",
    "    ax2.set_xlim(x_0, x_1)\n",
    "    ax2.set_xlabel(\"X axis [m]\", fontsize = 15)\n",
    "    ax2.set_ylim(y_0, y_1)\n",
    "    ax2.set_ylabel(\"Y axis [m]\", fontsize = 15)\n",
    "\n",
    "   \n",
    "    ax2.legend(fontsize = 15)    \n",
    "\n",
    "    plt.tight_layout()\n",
    "    # plt.savefig(\"graphics/imporved.jpg\")\n",
    "    plt.show()\n",
    "    # return points[1]\n",
    "    # print(measurement[\"intensities_array\"], '\\n', measurement[\"grid_x\"], '\\n', measurement[\"grid_y\"])\n",
    "\n",
    "# 0.1, 0.1, 100\n",
    "data = combination(radiation, detector, [], [])\n",
    "visualize(data['measurement'], detector['x_max'], detector['y_max'], [data['sourceLM'], data['sourceCF']])\n"
   ]
  },
  {
   "cell_type": "markdown",
   "metadata": {},
   "source": [
    "## Random flyover"
   ]
  },
  {
   "cell_type": "markdown",
   "metadata": {},
   "source": [
    "### Flyover"
   ]
  },
  {
   "cell_type": "code",
   "execution_count": 10,
   "metadata": {},
   "outputs": [],
   "source": [
    "# Noise is a list that contanins the standard deviations of x/y coordinates as a result of the error of the detector\n",
    "def random_flyover(n_points, radiation, detector, source = [], noise = []):\n",
    "    A_min, A_max, A_b, F = radiation[\"A_min\"], radiation[\"A_max\"], radiation[\"A_b\"], radiation[\"dose_factor\"]\n",
    "    h, dt, x_max, y_max, grid, K = detector[\"h\"], detector[\"dt\"], detector[\"x_max\"], detector[\"y_max\"], detector[\"grid\"], detector[\"detector_constant\"]\n",
    "    N_grid = grid\n",
    "    square_x, square_y = (2*x_max)/N_grid, (2*y_max)/N_grid\n",
    "    \n",
    "    xs = np.linspace(-x_max + square_x/2, x_max - square_x/2, int(N_grid))\n",
    "    ys = np.linspace(-y_max + square_y/2, y_max - square_y/2, int(N_grid))\n",
    "    grid_x, grid_y = np.meshgrid(xs, np.flip(ys))\n",
    "    grid_x_noise, grid_y_noise = np.zeros((N_grid, N_grid)), np.zeros((N_grid, N_grid))\n",
    "\n",
    "    # If the source is not specified, then it is randomly generated \n",
    "    if len(source) == 0: \n",
    "        source = point_source(x_max, y_max, A_min, A_max)\n",
    "    i = 0\n",
    "    points = np.zeros((1, 4))\n",
    "    while i < n_points:\n",
    "        x = random.uniform(-x_max, x_max); y = random.uniform(-y_max, y_max)\n",
    "\n",
    "        # Simulate the number of events acoording to the Poisson distribution and add noise\n",
    "\n",
    "        A = activity(source, x, y, h)\n",
    "        A_det = A * (1 - K)\n",
    "        N = np.random.poisson(A_det * dt)\n",
    "        N_b = np.random.poisson(A_b * dt)# background radiation\n",
    "\n",
    "        # Add noise to the location data because of the GPS uncertianty\n",
    "\n",
    "        if len(noise) != 0:\n",
    "            sigma_x = noise[0]; sigma_y = noise[1]\n",
    "            x += np.random.normal(0, sigma_x)\n",
    "            y += np.random.normal(0, sigma_y)\n",
    "\n",
    "        HD = F * (N + N_b); dHD = F * np.sqrt(N + N_b)\n",
    "        row = np.array([x, y, HD, dHD])\n",
    "        points = np.vstack((points, row))          \n",
    "        i += 1\n",
    "\n",
    "    return {\"points\": points[1:, :], \"source\": source, \"grid_x\": grid_x, \"grid_y\": grid_y, \"grid_x_noise\": grid_x_noise, \"grid_y_noise\": grid_y_noise, \"square_x\": square_x, \"square_y\": square_y}\n",
    "\n",
    "rand_measurement = random_flyover(10, radiation, detector)\n",
    "# print(rand_measurement)\n"
   ]
  },
  {
   "cell_type": "markdown",
   "metadata": {},
   "source": [
    "### Location from measurement"
   ]
  },
  {
   "cell_type": "code",
   "execution_count": 11,
   "metadata": {},
   "outputs": [],
   "source": [
    "# Fit\n",
    "\n",
    "def random_locationCF(measurement, detector):\n",
    "    points = measurement['points']\n",
    "    h, x_max, y_max = detector['h'], detector['x_max'], detector['y_max']\n",
    "\n",
    "    XY = np.vstack((points[:, 0], points[:, 1]))\n",
    "    HDs = points[:, 2]\n",
    "    dHDs = points[:, 3]\n",
    "\n",
    "    source0 = [random.uniform(-x_max, x_max), random.uniform(-y_max, y_max), 1]\n",
    "\n",
    "    def dose(x, y, u, v, alpha):\n",
    "        return alpha / ((x - u)**2 + (y - v)**2 + h**2)\n",
    "\n",
    "    def __dose(M, *args): # M is a table of shape (N, 2), where each row is a new point of measurement, N is the number of measuremnts\n",
    "        x, y = M\n",
    "        arr = np.zeros(x.shape)\n",
    "        for i in range(len(args)//3):\n",
    "            arr += dose(x, y, *args[i*3:i*3+3])\n",
    "        return arr\n",
    "\n",
    "    popt, pcov = curve_fit(__dose, XY, HDs, source0, sigma = dHDs, absolute_sigma = True, method=\"lm\")\n",
    "    perr = np.sqrt(np.diag(pcov))\n",
    "    \n",
    "\n",
    "    MyDict = {\"XY\": XY, \"Ns\": HDs, \"source0\": source0}\n",
    "\n",
    "    return popt, perr, MyDict\n"
   ]
  },
  {
   "cell_type": "markdown",
   "metadata": {},
   "source": [
    "### Combination"
   ]
  },
  {
   "cell_type": "code",
   "execution_count": 12,
   "metadata": {},
   "outputs": [],
   "source": [
    "# Combination\n",
    "\n",
    "def random_combination(n_points, radiation, detector, source=[], noise=[]):\n",
    "    measurement = random_flyover(n_points, radiation, detector, source, noise)\n",
    "    sourceCF, stDev = random_locationCF(measurement, detector)[0], random_locationCF(measurement, detector)[1]\n",
    "    return {'measurement': measurement, 'sourceCF': sourceCF, 'sourceCF_stDev': stDev}"
   ]
  },
  {
   "cell_type": "markdown",
   "metadata": {},
   "source": [
    "### Visualization"
   ]
  },
  {
   "cell_type": "code",
   "execution_count": 13,
   "metadata": {},
   "outputs": [
    {
     "data": {
      "image/png": "[encoded data removed]",
      "text/plain": [
       "<Figure size 504x504 with 1 Axes>"
      ]
     },
     "metadata": {
      "needs_background": "light"
     },
     "output_type": "display_data"
    }
   ],
   "source": [
    "# Visualization\n",
    "\n",
    "def random_visualize(data):\n",
    "\n",
    "    fig, ax = plt.subplots(figsize = (7, 7))\n",
    "\n",
    "    original = data['measurement']['source']\n",
    "    estimate = data['sourceCF']\n",
    "    measured = data['measurement']['points']\n",
    "\n",
    "    ax.plot(original[0], original[1], \"o\", c=\"r\", ms=10, label = \"Original source\")\n",
    "    ax.plot(estimate[0], estimate[1], \"o\", c=\"k\", ms=6, label = \"Estimated source\")\n",
    "    ax.plot(measured[:, 0], measured[:, 1], \"o\", c=\"g\", label = \"Points of measurement\")\n",
    "\n",
    "    ax.set_xlabel('x axis [m]', fontsize=15)\n",
    "    # plt.xticks(fontsize=14)\n",
    "    ax.set_ylabel('y axis [m]', fontsize=15)\n",
    "    # plt.yticks(fontsize=14)\n",
    "    \n",
    "    ax.axis(\"equal\")\n",
    "    plt.legend()\n",
    "    plt.show()\n",
    "\n",
    "data_random = random_combination(n_points, radiation, detector, [-34.06413743466325, 18.72494667983291, 1207.4224164766233], [])\n",
    "random_visualize(data_random)\n",
    "\n"
   ]
  },
  {
   "cell_type": "markdown",
   "metadata": {},
   "source": [
    "# Code description"
   ]
  },
  {
   "cell_type": "code",
   "execution_count": 28,
   "metadata": {},
   "outputs": [
    {
     "name": "stdout",
     "output_type": "stream",
     "text": [
      "u = -34.07299351218838 ± 0.19185085865940651 m\n",
      "v = 18.671624150850583 ± 0.18721972228991432 m\n",
      "alpha = 1080442.6591623947 ± 3084.652593435391 \n"
     ]
    },
    {
     "data": {
      "image/png": "[encoded data removed]",
      "text/plain": [
       "<Figure size 864x432 with 2 Axes>"
      ]
     },
     "metadata": {
      "needs_background": "light"
     },
     "output_type": "display_data"
    },
    {
     "name": "stdout",
     "output_type": "stream",
     "text": [
      "u = -35.299900442292774 ± 0.6645074704359639 m\n",
      "v = 17.199403692330126 ± 0.9062607413713106 m\n",
      "alpha = 1075852.506349793 ± 9840.175868421811 \n"
     ]
    },
    {
     "data": {
      "image/png": "[encoded data removed]",
      "text/plain": [
       "<Figure size 504x504 with 1 Axes>"
      ]
     },
     "metadata": {
      "needs_background": "light"
     },
     "output_type": "display_data"
    }
   ],
   "source": [
    "# DESCRIPTION OF THE CODE\n",
    "\n",
    "# In comparisson to the code in simple_SPS.ipynb there are a few minor changes. The intensity function is defined diferently. It takes into\n",
    "# consideration two points, the source of the radiation and the position of a measurement. Flyover() is very similar to the older version \n",
    "# it just uses the new intensity and also the activity of the source is randomly generated - it is one of the parameters which we are fitting.\n",
    "\n",
    "# locationLM() is the major chenge. We use the scipy least square Levenberg-marquardt method to minimize the square residuals of the model \n",
    "# intensity and the measured intensity. Through the minimization we can output the paramaters which we are searching for - u, v and A0 (x/y \n",
    "# coordinates of the source and its intensity).\n",
    "\n",
    "# visualize() shows us that this method is much more accurate then the previously used location searching method.\n",
    "\n",
    "# For now two seperate codes where the core principle is the same: make measurements with a detector, fit data to the source and than combine\n",
    "# these two to visualize the final result. The main diference is that in ZIG-ZAG example the detector flys over in a up and down pattern along \n",
    "# the area of measurement. But in the random flyover the measurement points ar picked randomly.\n",
    "\n",
    "# SHARED PARAMETERS (USED IN BOTH ZIG-ZAG AND RANDOM FLYOVER)\n",
    "A_min = 1e3; A_max = 1.5e3 # borders between which the activity of the source is randomly selected \n",
    "A_b = 5e-5 # background activity in Bq\n",
    "h = 40 # hight at which the detector flies over in m\n",
    "x_max = 100 # Size of the area of flyover in positive x direction in m (the whole grid extends also in the negative direction the same amount)\n",
    "y_max = 100 # Size of the area of flyover in positive y direction in m (the whole grid extends also in the negative direction the same amount)\n",
    "dt = 10 # the pause on each point od the grid in s\n",
    "noise = [5, 5] # list that contains the standard deviation of the x and y coordinates in in m\n",
    "K = 0.6 # constant between 0 and 1 which contains the information on the quality of the detector, a better detector has a smaller constante \n",
    "        # then then an inferior detector\n",
    "F = 0.140 # factor for inhilation of Pu-239 in mSV/Bq\n",
    "\n",
    "\n",
    "# ZIG_ZAG PARAMETERS\n",
    "grid = 10 # Size of the grid in which the area of flyover is divided into smaller \"tiles\" where the detector stops and measures the number of \n",
    "         # radioactive decays. Grid is the number of these areas in x direction and y direction. It must be an INTEGER!\n",
    "\n",
    "# RANDOM PARAMETERS\n",
    "n_points = 9 # number of points randomlly selected in the grid\n",
    "\n",
    "\n",
    "# Combinig the parameters into a list so that the data is more compacted\n",
    "radiation = {'A_min': A_min, 'A_max': A_max, 'A_b': A_b, 'dose_factor': F}\n",
    "detector = {'h': h, 'dt': dt, 'x_max': x_max, 'y_max': y_max, 'grid': grid, 'detector_constant': K}\n",
    "\n",
    "# Flying over the surface\n",
    "data = combination(radiation, detector, [-34.06413743466325, 18.72494667983291, 1207.4224164766233], [])\n",
    "# print(data[\"sourceCF_stDev\"])\n",
    "# Print out the fitted parameters with their absolute errors (standard deviation)\n",
    "print(\"u =\", data[\"sourceCF\"][0], r'±', data[\"sourceCF_stDev\"][0], \"m\")\n",
    "print(\"v =\", data[\"sourceCF\"][1], r'±', data[\"sourceCF_stDev\"][1], \"m\")\n",
    "print(\"alpha =\", data[\"sourceCF\"][2], r'±', data[\"sourceCF_stDev\"][2], \"\")\n",
    "\n",
    "visualize(data[\"measurement\"], detector[\"x_max\"], detector[\"y_max\"], [data[\"sourceLM\"], data[\"sourceCF\"]])\n",
    "\n",
    "# Random points over the surface\n",
    "data_random = random_combination(n_points, radiation, detector, [-34.06413743466325, 18.72494667983291, 1207.4224164766233], [])\n",
    "print(\"u =\", data_random[\"sourceCF\"][0], r'±', data_random[\"sourceCF_stDev\"][0], \"m\")\n",
    "print(\"v =\", data_random[\"sourceCF\"][1], r'±', data_random[\"sourceCF_stDev\"][1], \"m\")\n",
    "print(\"alpha =\", data_random[\"sourceCF\"][2], r'±', data_random[\"sourceCF_stDev\"][2], \"\")\n",
    "\n",
    "random_visualize(data_random)\n"
   ]
  },
  {
   "cell_type": "markdown",
   "metadata": {},
   "source": [
    "# Analysis"
   ]
  },
  {
   "cell_type": "markdown",
   "metadata": {},
   "source": [
    "## Presenting some data"
   ]
  },
  {
   "cell_type": "code",
   "execution_count": 15,
   "metadata": {},
   "outputs": [
    {
     "name": "stdout",
     "output_type": "stream",
     "text": [
      "[23.092277801727022, -24.41079733563795, 1160.547364947747]\n"
     ]
    },
    {
     "data": {
      "text/plain": [
       "[0, 0, 1160.547364947747]"
      ]
     },
     "execution_count": 15,
     "metadata": {},
     "output_type": "execute_result"
    }
   ],
   "source": [
    "testSource = point_source(x_max, y_max, A_min, A_max)\n",
    "testSource1 = point_source(x_max, y_max, A_min, A_max)\n",
    "testSource2 = point_source(x_max, y_max, A_min, A_max)\n",
    "source00 = [0, 0, testSource[2]]\n",
    "\n",
    "print(testSource)\n",
    "source00"
   ]
  },
  {
   "cell_type": "code",
   "execution_count": 16,
   "metadata": {},
   "outputs": [
    {
     "name": "stdout",
     "output_type": "stream",
     "text": [
      "Source in center: \n",
      " (0.04635889575317271, -0.09166781092208488) +/- (0.0623138792578875, 0.06241400709819538)\n",
      "Source ourside: \n",
      " (23.173151107291154, -24.47289017841022) +/- (0.06398803919154034, 0.06392772805476997)\n"
     ]
    }
   ],
   "source": [
    "# change the grid so that with a grid with more tiles the worse detector can get similar error to the first one\n",
    "grid0, grid2 = 10, 20\n",
    "h0 = 40; h1 = 30; h2 = 100 \n",
    "noise = [1, 1]\n",
    "\n",
    "\n",
    "# Analysis for detectors without noise, detector0 is an ideal detector and detector1 is a superior real detector to the real detector2\n",
    "detector0 = {'h': h0, 'dt': dt, 'x_max': x_max, 'y_max': y_max, 'grid': grid2, 'detector_constant': 0.}\n",
    "detector1 = {'h': h0, 'dt': dt, 'x_max': x_max, 'y_max': y_max, 'grid': grid2, 'detector_constant': 0.1}\n",
    "detector2 = {'h': h0, 'dt': dt, 'x_max': x_max, 'y_max': y_max, 'grid': grid2, 'detector_constant': 0.8}    \n",
    "\n",
    "# We generate the data measurement and analysis for the same source, same grid and everything, the only difference between the detectors is K\n",
    "data0 = combination(radiation, detector0, testSource, noise)\n",
    "data1 = combination(radiation, detector1, source00, noise)\n",
    "data2 = combination(radiation, detector1, testSource, noise)\n",
    "\n",
    "# Estimated source positions (with errors) \n",
    "u0, du0 = data0[\"sourceCF\"][0], data0[\"sourceCF_stDev\"][0]; v0, dv0 = data0[\"sourceCF\"][1], data0[\"sourceCF_stDev\"][1] \n",
    "u1, du1 = data1[\"sourceCF\"][0], data1[\"sourceCF_stDev\"][0]; v1, dv1 = data1[\"sourceCF\"][1], data1[\"sourceCF_stDev\"][1]\n",
    "u2, du2 = data2[\"sourceCF\"][0], data2[\"sourceCF_stDev\"][0]; v2, dv2 = data2[\"sourceCF\"][1], data2[\"sourceCF_stDev\"][1]\n",
    "\n",
    "# The (u, v) ± (du, dv)\n",
    "# print(\"DETECTOR0:\", \"\\n\", (u0, v0), r'±', (du0, dv0), \"m\")\n",
    "# print(\"DETECTOR1:\", \"\\n\", (u1, v1), r'±', (du1, dv1), \"m\")\n",
    "# print(\"DETECTOR2:\", \"\\n\", (u2, v2), r'±', (du2, dv2), \"m\")\n",
    "\n",
    "# Comparison between the error of the measurement for (0, 0) and (x, y) position of the source\n",
    "print(\"Source in center:\", \"\\n\", (u1, v1), \"+/-\", (du1, dv1))\n",
    "print(\"Source ourside:\", \"\\n\", (u2, v2), \"+/-\", (du2, dv2))\n",
    "\n",
    "\n"
   ]
  },
  {
   "cell_type": "markdown",
   "metadata": {},
   "source": [
    "## Error comparisson for different detector/measurement properties"
   ]
  },
  {
   "cell_type": "code",
   "execution_count": 17,
   "metadata": {},
   "outputs": [],
   "source": [
    "# errors compared to detectors with different grid, heights and qualities\n",
    "grid2 = 400\n",
    "\n",
    "def lin(x, k, n):\n",
    "    return k*x + n\n",
    "\n",
    "def compK(radiation, detector, source, noise= [], n_points=grid2):\n",
    "    Ks = np.linspace(0, 0.8, 20)\n",
    "    dus = []; r_dus = []\n",
    "    dvs = []; r_dvs = []\n",
    "    for K in Ks:\n",
    "        detector['detector_constant'] = K \n",
    "        data = combination(radiation, detector, source, noise); random_data = random_combination(n_points, radiation, detector, source, noise)\n",
    "        dus.append(data['sourceCF_stDev'][0]/abs(data['sourceCF'][0])); r_dus.append(random_data['sourceCF_stDev'][0]/abs(random_data['sourceCF'][0]))\n",
    "        dvs.append(data['sourceCF_stDev'][1]/abs(data['sourceCF'][1])); r_dvs.append(random_data['sourceCF_stDev'][1]/abs(random_data['sourceCF'][1]))\n",
    "    draw(Ks, [dus, dvs], \"Coefficient of the detector, K []\", \"Relative error []\", \"ZIG-ZAG\")\n",
    "    draw(Ks, [r_dus, r_dvs], \"Coefficient of the detector, K []\", \"Relative error []\", \"random\")\n",
    "\n",
    "def compH(radiation, detector, source, noise= [], n_points=grid2):\n",
    "    hs = np.linspace(20, 100, 20)\n",
    "    dus = []; r_dus = []\n",
    "    dvs = []; r_dvs = []\n",
    "    for h in hs:\n",
    "        detector['h'] = h\n",
    "        data = combination(radiation, detector, source, noise); random_data = random_combination(n_points, radiation, detector, source, noise)\n",
    "        dus.append(data['sourceCF_stDev'][0]/abs(data['sourceCF'][0])); r_dus.append(random_data['sourceCF_stDev'][0]/abs(random_data['sourceCF'][0]))\n",
    "        dvs.append(data['sourceCF_stDev'][1]/abs(data['sourceCF'][1])); r_dvs.append(random_data['sourceCF_stDev'][1]/abs(random_data['sourceCF'][1]))\n",
    "    draw(hs, [dus, dvs], \"Height of flyover [m]\", \"Relative error []\", \"ZIG-ZAG\")\n",
    "    draw(hs, [r_dus, r_dvs], \"Height of flyover [m]\", \"Relative error []\", \"random\")\n",
    "\n",
    "def compG(radiation, detector, source, noise = [], n_points=grid2):\n",
    "    grids = np.linspace(2, 42, 10)\n",
    "    dus = []; r_dus = []\n",
    "    dvs = []; r_dvs = []\n",
    "    for grid in grids:\n",
    "        detector['grid'] = int(grid)\n",
    "        data = combination(radiation, detector, source, noise); random_data = random_combination(grid*10, radiation, detector, source, noise)\n",
    "        dus.append(data['sourceCF_stDev'][0]/abs(data['sourceCF'][0])); r_dus.append(random_data['sourceCF_stDev'][0]/abs(random_data['sourceCF'][0]))\n",
    "        dvs.append(data['sourceCF_stDev'][1]/abs(data['sourceCF'][1])); r_dvs.append(random_data['sourceCF_stDev'][1]/abs(random_data['sourceCF'][1]))\n",
    "    draw(grids, [dus, dvs], \"Number of grid points []\", \"Absolute error [m]\", \"ZIG-ZAG\")\n",
    "    draw(grids, [r_dus, r_dvs], \"Number of grid points []\", \"Absolute error [m]\", \"random\")\n",
    "\n",
    "\n",
    "def compT(radiation, detector, source, noise = [], n_points=grid2):\n",
    "    dts = np. linspace(1, 1000, 20)\n",
    "    dus = []; r_dus = []\n",
    "    dvs = []; r_dvs = []\n",
    "    for dt in dts:\n",
    "        detector['dt'] = dt\n",
    "        data = combination(radiation, detector, source, noise); random_data = random_combination(n_points, radiation, detector, source, noise)\n",
    "        dus.append(data['sourceCF_stDev'][0]/abs(data['sourceCF'][0])); r_dus.append(random_data['sourceCF_stDev'][0]/abs(random_data['sourceCF'][0]))\n",
    "        dvs.append(data['sourceCF_stDev'][1]/abs(data['sourceCF'][1])); r_dvs.append(random_data['sourceCF_stDev'][1]/abs(random_data['sourceCF'][1]))\n",
    "    draw(dts, [dus, dvs], \"Time of measurement at each grid point s[]\", \"Relative error []\", \"ZIG-ZAG\")\n",
    "    draw(dts, [r_dus, r_dvs], \"Time of measurement at each grid point s[]\", \"Relative error []\", \"random\")\n",
    "\n",
    "def comp_randToG(radiation, detetctor, source, noise = []):\n",
    "    grids = np.linspace(4, 42, 20)\n",
    "    dus = []\n",
    "    dvs = []\n",
    "    measured_points = []\n",
    "    for grid in grids:\n",
    "        detector['grid'] = int(grid); n_points = int(grid)**2\n",
    "        measured_points.append(n_points)\n",
    "        data_R = random_combination(n_points, radiation, detector, source, noise)\n",
    "        data_G = combination(radiation, detector, source, noise)\n",
    "        d_UR = data_R['sourceCF_stDev'][0]; d_UG = data_G['sourceCF_stDev'][0]\n",
    "        d_VR = data_R['sourceCF_stDev'][1]; d_VG = data_G['sourceCF_stDev'][1]\n",
    "    \n",
    "        dus.append(d_UR - d_VR)\n",
    "\n",
    "    print(dus)\n",
    "    draw(measured_points, [dus], \"Number of measurement points []\", \"Differenc between relative errors\")\n",
    "    \n",
    "\n",
    "\n",
    "def draw(xs, ys, name_x = \"\", name_y = \"\", tit = \"\"):\n",
    "    plt.plot(list(xs), ys[0], \"o\", label = \"u-error\")\n",
    "    if len(ys) == 2:\n",
    "        plt.plot(list(xs), ys[1], \"o\", label = \"v-error\")\n",
    "\n",
    "    plt.xlabel(name_x, fontsize = 15)\n",
    "    plt.xticks(fontsize = 14)\n",
    "    plt.ylabel(name_y, fontsize = 15)\n",
    "    plt.yticks(fontsize = 14)\n",
    "\n",
    "    plt.title(tit)\n",
    "\n",
    "    # plt.savefig(\"graphics/err_to_K.png\")\n",
    "    plt.legend()\n",
    "    plt.show()\n",
    "\n",
    "def fit_func(func, xdata, ydata, xlabel, ylabel):\n",
    "    \n",
    "    popt, pcov = curve_fit(func, xdata, ydata)\n",
    "\n",
    "    print(popt)\n",
    "\n",
    "    plt.plot(xdata, ydata, \"o\", label = \"Data\")\n",
    "    plt.plot(xdata, [func(x, *popt) for x in xdata], \"-\", label = \"Fit\")\n",
    "\n",
    "    plt.xlabel(xlabel, fontsize = 15)\n",
    "    plt.xticks(fontsize = 14)\n",
    "    plt.ylabel(ylabel, fontsize = 15)\n",
    "    plt.yticks(fontsize = 14)\n",
    "\n",
    "    plt.show()\n",
    "\n",
    "source = [-34.06413743466325, 18.72494667983291, 1207.4224164766233]\n",
    "# compK(radiation, detector1, testSource)\n",
    "# compH(radiation, detector0, source)\n",
    "# compG(radiation, detector0, source)\n",
    "# compT(radiation, detector0, source)\n",
    "# comp_randToG(radiation, detector0, testSource)\n",
    "\n",
    "\n",
    "\n",
    "# Comment: the uncertianty increasies with the detector coefficient.\n"
   ]
  },
  {
   "cell_type": "markdown",
   "metadata": {},
   "source": [
    "## Standar deviation from looping over"
   ]
  },
  {
   "cell_type": "code",
   "execution_count": 22,
   "metadata": {},
   "outputs": [
    {
     "data": {
      "image/png": "[encoded data removed]",
      "text/plain": [
       "<Figure size 432x288 with 1 Axes>"
      ]
     },
     "metadata": {
      "needs_background": "light"
     },
     "output_type": "display_data"
    },
    {
     "name": "stdout",
     "output_type": "stream",
     "text": [
      "(0.07051799787483645, 0.0672013645967368)\n",
      "DETECTOR1: \n",
      " 0.06719944348527056\n"
     ]
    }
   ],
   "source": [
    "def loopstDev(radiation, detector, n_sims, noise=[], A0 = 1000):\n",
    "    us = []; dus = []\n",
    "    source00 = [0, 0, A0]\n",
    "    for n in range(n_sims):\n",
    "        data = combination(radiation, detector, source00, noise)\n",
    "        u = data['sourceCF'][0]#; v = data['source_locationCF'][1]\n",
    "        du = data['sourceCF_stDev'][0]\n",
    "        us.append(u); dus.append(du)\n",
    "\n",
    "    plt.hist(us, bins=100)\n",
    "    plt.xlabel(\"X source coordinate estimate [m]\", fontsize = 15)\n",
    "    plt.xticks(fontsize = 14)\n",
    "    plt.ylabel(\"Number of measuremnets []\", fontsize = 15)\n",
    "    plt.yticks(fontsize = 14)\n",
    "\n",
    "    plt.show()\n",
    "\n",
    "    return np.std(us), sum(dus)/len(dus)\n",
    "\n",
    "print(loopstDev(radiation, detector1, 500))\n",
    "\n",
    "A0 = 1000; source00 = [0, 0, A0]\n",
    "data = combination(radiation, detector1, source00)\n",
    "print('DETECTOR1:', \"\\n\", data['sourceCF_stDev'][0])\n"
   ]
  },
  {
   "cell_type": "markdown",
   "metadata": {},
   "source": [
    "## Comparison at each grid tile "
   ]
  },
  {
   "cell_type": "code",
   "execution_count": 26,
   "metadata": {},
   "outputs": [
    {
     "name": "stdout",
     "output_type": "stream",
     "text": [
      "[[-89.87781945 -96.12199024 -73.80951239 -80.14652779 -92.91994568]\n",
      " [-55.1405132  -36.22901027 -23.20330947 -39.34221691 -31.24577133]\n",
      " [-10.69286918  -5.02994113  17.07312546   1.91946568 -11.73822935]\n",
      " [ 46.30875594  31.18435074  30.97041434  37.37937403  51.72719635]\n",
      " [ 75.58522955  98.72535853  97.47089229  64.99079602   0.        ]] \n",
      " [[-75.56845429 -29.52397082   7.81977366  39.12535161  73.49319583]\n",
      " [-74.5175537  -42.33993389  -3.17402949  52.72982747  91.11278359]\n",
      " [-97.49571863 -26.88863855  11.02530391  30.9683671   64.42595489]\n",
      " [-71.21992662 -32.55467514   2.37092931  57.63117032  70.31228567]\n",
      " [-91.83628367 -31.65219164   5.90654999  20.46522561   0.        ]] \n",
      " [[0.0637177  0.06374922 0.06372064 0.06372542 0.06375925]\n",
      " [0.0637621  0.06376626 0.06375162 0.06378615 0.06377217]\n",
      " [0.0637684  0.06376663 0.0637836  0.06381952 0.063763  ]\n",
      " [0.063778   0.06380127 0.06371176 0.06374695 0.06378647]\n",
      " [0.06378134 0.06371914 0.06382297 0.06370103 0.06375015]]\n"
     ]
    },
    {
     "data": {
      "image/png": "[encoded data removed]",
      "text/plain": [
       "<Figure size 1080x432 with 4 Axes>"
      ]
     },
     "metadata": {
      "needs_background": "light"
     },
     "output_type": "display_data"
    }
   ],
   "source": [
    "# check if the error is noticably larger for points outside of the center source (0, 0)\n",
    "def loopOverGrid00(radiation, detector, A0 = 1000, noise = [], N_grid=5):\n",
    "    A_min, A_max = radiation[\"A_min\"], radiation[\"A_max\"]\n",
    "    x_max, y_max = detector[\"x_max\"], detector[\"y_max\"]\n",
    "\n",
    "    source00 = [0, 0, A0]\n",
    "    data0 = combination(radiation, detector0, source00, noise)\n",
    "    du0 = data0['sourceCF_stDev'][0]; dv0 = data0['sourceCF_stDev'][1]\n",
    "\n",
    "    square_x, square_y = (2*x_max)/N_grid, (2*y_max)/N_grid\n",
    "    xs = np.linspace(-x_max + square_x/2, x_max - square_x/2, int(N_grid))\n",
    "    ys = np.linspace(-y_max + square_y/2, y_max - square_y/2, int(N_grid))\n",
    "    X = np.zeros((N_grid, N_grid)); Y = np.zeros((N_grid, N_grid))\n",
    "    Zus = np.zeros((N_grid, N_grid)); Zvs = np.zeros((N_grid, N_grid))\n",
    "    i, j = 0, 0\n",
    "    for x in xs:\n",
    "        for y in ys:\n",
    "            Source = point_source(x + square_x/2, y + square_y/2, A_min, A_max, x - square_x/2, y - square_y/2); testSource[2] = A0\n",
    "            data = combination(radiation, detector0, source00, noise)\n",
    "            du = data['sourceCF_stDev'][0]; dv = data['sourceCF_stDev'][1]\n",
    "            X[i, j] = Source[0]; Y[i, j] = Source[1]\n",
    "            Zus[i, j] = du; Zvs[i, j] = dv\n",
    "            j += 1\n",
    "        j = 0\n",
    "        i += 1\n",
    "    \n",
    "    X[N_grid - 1, N_grid - 1], Y[N_grid - 1, N_grid - 1] = 0, 0\n",
    "    Zus[N_grid - 1, N_grid - 1] = du0; Zvs[N_grid - 1, N_grid - 1] = dv0\n",
    "\n",
    "    fig, (ax1, ax2) = plt.subplots(ncols = 2, nrows = 1, figsize=(15, 6))\n",
    "    \n",
    "    test1 = ax1.scatter(X, Y, c=Zus)\n",
    "    ax1.set_xlabel(\"X axis [m]\", fontsize = 15)\n",
    "    ax1.set_ylabel(\"Y axis [m]\", fontsize = 15)\n",
    "    ax1.set_title('X axis error', fontsize = 20)\n",
    "    ax1.axis(\"equal\")\n",
    "    print(X, \"\\n\", Y, \"\\n\", Zvs)\n",
    "    test2 = ax2.scatter(X, Y, c=Zvs)\n",
    "    ax2.set_xlabel(\"X axis [m]\", fontsize = 15)\n",
    "    ax2.set_ylabel(\"Y axis [m]\", fontsize = 15)\n",
    "    ax2.set_title('Y axis error', fontsize = 20)\n",
    "    ax2.axis(\"equal\")\n",
    "\n",
    "    fig.colorbar(test1, ax=ax1)\n",
    "    fig.colorbar(test2, ax=ax2)\n",
    "    plt.show()\n",
    "\n",
    "loopOverGrid00(radiation, detector1)"
   ]
  },
  {
   "cell_type": "markdown",
   "metadata": {},
   "source": [
    "### Tutorial"
   ]
  },
  {
   "cell_type": "code",
   "execution_count": null,
   "metadata": {},
   "outputs": [
    {
     "ename": "",
     "evalue": "",
     "output_type": "error",
     "traceback": [
      "\u001b[1;31mFailed to start the Kernel. \n",
      "\u001b[1;31mFailed to start the Kernel 'Python 3.8.10'. \n",
      "\u001b[1;31mView Jupyter <a href='command:jupyter.viewOutput'>log</a> for further details. No matching bindings found for serviceIdentifier: Symbol(IInterpreterAutoSelectionService)"
     ]
    }
   ],
   "source": [
    "fig, ax = plt.subplots(subplot_kw={\"projection\": \"3d\"})\n",
    "\n",
    "# Make data.\n",
    "X = np.arange(-5, 5, 0.25)\n",
    "Y = np.arange(-5, 5, 0.25)\n",
    "X, Y = np.meshgrid(X, Y)\n",
    "R = np.sqrt(X**2 + Y**2)\n",
    "Z = np.sin(R)\n",
    "\n",
    "# Plot the surface.\n",
    "surf = ax.plot_surface(X, Y, Z, cmap=cm.coolwarm, linewidth=0, antialiased=False)\n",
    "\n",
    "# Customize the z axis.\n",
    "# ax.set_zlim(-1.01, 1.01)\n",
    "# ax.zaxis.set_major_locator(LinearLocator(10))\n",
    "# # A StrMethodFormatter is used automatically\n",
    "# ax.zaxis.set_major_formatter('{x:.02f}')\n",
    "\n",
    "# Add a color bar which maps values to colors.\n",
    "fig.colorbar(surf, shrink=0.5, aspect=5)\n",
    "\n",
    "plt.show()\n",
    "\n",
    "x = np.linspace(0,1,100)\n",
    "y = np.linspace(0,10,100) + np.random.normal(0,2,100)\n",
    "z = np.random.normal(0,1,100)\n",
    "\n",
    "#set the \"c\" kwarg to the array of values the colors are based on\n",
    "plt.scatter(x,y,c=z,cmap='jet')\n",
    "plt.colorbar(label='z')\n",
    "\n",
    "print(x, \"\\n\", y, \"\\n\", z)"
   ]
  },
  {
   "cell_type": "markdown",
   "metadata": {},
   "source": [
    "### Other things"
   ]
  },
  {
   "cell_type": "code",
   "execution_count": null,
   "metadata": {},
   "outputs": [
    {
     "ename": "",
     "evalue": "",
     "output_type": "error",
     "traceback": [
      "\u001b[1;31mFailed to start the Kernel. \n",
      "\u001b[1;31mFailed to start the Kernel 'Python 3.8.10'. \n",
      "\u001b[1;31mView Jupyter <a href='command:jupyter.viewOutput'>log</a> for further details. No matching bindings found for serviceIdentifier: Symbol(IInterpreterAutoSelectionService)"
     ]
    }
   ],
   "source": [
    "\n",
    "def loopOverGrid(radiation, detector):\n",
    "    A_min, A_max = radiation[\"A_min\"], radiation[\"A_max\"]; detector['grid'] = 5\n",
    "    x_max, y_max, grid = detector[\"x_max\"], detector[\"y_max\"], detector[\"grid\"]\n",
    "    N_grid = grid\n",
    "    square_x, square_y = (2*x_max)/N_grid, (2*y_max)/N_grid\n",
    "    xs = np.linspace(-x_max + square_x/2, x_max - square_x/2, int(N_grid))\n",
    "    ys = np.linspace(-y_max + square_y/2, y_max - square_y/2, int(N_grid))\n",
    "    print(square_x)\n",
    "    for x in xs:\n",
    "        for y in ys:\n",
    "            testSource = point_source(x + square_x/2, y + square_y/2, A_min, A_max, x - square_x/2, y - square_y/2)\n",
    "            print(testSource)\n",
    "            compK(radiation, detector0, testSource, [])\n",
    "            # input('press enter')\n",
    "\n",
    "loopOverGrid(radiation, detector0)\n"
   ]
  },
  {
   "cell_type": "code",
   "execution_count": null,
   "metadata": {},
   "outputs": [
    {
     "ename": "",
     "evalue": "",
     "output_type": "error",
     "traceback": [
      "\u001b[1;31mFailed to start the Kernel. \n",
      "\u001b[1;31mFailed to start the Kernel 'Python 3.8.10'. \n",
      "\u001b[1;31mView Jupyter <a href='command:jupyter.viewOutput'>log</a> for further details. No matching bindings found for serviceIdentifier: Symbol(IInterpreterAutoSelectionService)"
     ]
    }
   ],
   "source": []
  }
 ],
 "metadata": {
  "kernelspec": {
   "display_name": "Python 3.8.10 64-bit (microsoft store)",
   "language": "python",
   "name": "python3"
  },
  "language_info": {
   "codemirror_mode": {
    "name": "ipython",
    "version": 3
   },
   "file_extension": ".py",
   "mimetype": "text/x-python",
   "name": "python",
   "nbconvert_exporter": "python",
   "pygments_lexer": "ipython3",
   "version": "3.8.10"
  },
  "orig_nbformat": 4,
  "vscode": {
   "interpreter": {
    "hash": "85ad50d9bc146c85f3fc0e59d0a5f568038cb42bd91391f1b19a754b908c4ffe"
   }
  }
 },
 "nbformat": 4,
 "nbformat_minor": 2
}
